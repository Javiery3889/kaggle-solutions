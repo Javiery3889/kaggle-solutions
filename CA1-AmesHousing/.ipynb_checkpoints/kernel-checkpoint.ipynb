{
 "cells": [
  {
   "cell_type": "code",
   "execution_count": null,
   "metadata": {
    "_cell_guid": "79c7e3d0-c299-4dcb-8224-4455121ee9b0",
    "_uuid": "d629ff2d2480ee46fbb7e2d37f6b5fab8052498a"
   },
   "outputs": [],
   "source": [
    "from IPython.display import HTML\n",
    "from IPython.display import Image\n",
    "\n",
    "HTML('''<script>\n",
    "code_show=true; \n",
    "function code_toggle() {\n",
    " if (code_show){\n",
    " $('div.input').hide();\n",
    " } else {\n",
    " $('div.input').show();\n",
    " }\n",
    " code_show = !code_show\n",
    "} \n",
    "$( document ).ready(code_toggle);\n",
    "</script>\n",
    "<form action=\"javascript:code_toggle()\"><input type=\"submit\" value=\"Click here to toggle on/off the raw code.\"></form>''')"
   ]
  },
  {
   "cell_type": "markdown",
   "metadata": {
    "_cell_guid": "3435ddab-62ab-4c72-aa62-1497f7d265f9",
    "_uuid": "70a3fcaa0d170dc09945e706fa9d2dfa8730c1a0"
   },
   "source": [
    "# Stacking House Prices - Walkthrough to Top 5%\n",
    "\n",
    "### Arun Godwin Patel"
   ]
  },
  {
   "cell_type": "markdown",
   "metadata": {
    "_cell_guid": "d4ed9dce-931d-42ce-9286-9c0e41102f51",
    "_uuid": "37d903b57a6c6c4ecb7c25a587641ff0675a0496"
   },
   "source": [
    "***"
   ]
  },
  {
   "cell_type": "code",
   "execution_count": null,
   "metadata": {
    "_cell_guid": "25a169c3-1730-4f94-9ec9-21a80c82eb37",
    "_uuid": "c0f00831128f434f8c95423eb5b773792089a305"
   },
   "outputs": [],
   "source": [
    "Image(filename='../input/stacking-exp/stacking.gif.png', width = 800)"
   ]
  },
  {
   "cell_type": "markdown",
   "metadata": {
    "_cell_guid": "39dfe4b9-5e88-4733-adde-b92a5551e06d",
    "_uuid": "84dce5761f3cf9550148a926df44ebdceb293f5c"
   },
   "source": [
    "You may be thinking... **\"What does a strange looking, 6 armed brick-layer have to do with predicting house prices?\"**\n",
    "\n",
    "Stick with it, all will be revealed throughout this walkthrough. But for now..."
   ]
  },
  {
   "cell_type": "markdown",
   "metadata": {
    "_cell_guid": "ac8f67a7-7d90-492f-9284-244a76200b2f",
    "_uuid": "e9aa5df413c36df98d7c0c18c34427c539ca1e33"
   },
   "source": [
    "***"
   ]
  },
  {
   "cell_type": "markdown",
   "metadata": {
    "_cell_guid": "dcadb7a3-96f1-4cff-b8ce-d4a508dd1f1f",
    "_uuid": "1061173cfd2f21a46563ac0fe75b479a8ba7b77f"
   },
   "source": [
    "## Introduction\n",
    "\n",
    "This kernel is intended to be a guide for education on the famous... Stacking technique. I used this technique to achieve a top 5% entry in the **House Prices: Advanced Regression Techniques** competition. I'll be focusing mainly on data preparation, feature engineering and the building of a stacking model. This is an ongoing project that I will update regularly, so stay tuned.\n",
    "\n",
    "If you have any comments, thoughts or notice anything that could be improved, please feel free to comment.\n",
    "\n",
    "Enjoy!\n",
    "\n",
    "First of all I like to do some research on the project at hand, in this case House Prices. So **what characteristics help to boost the value of a house?**"
   ]
  },
  {
   "cell_type": "code",
   "execution_count": null,
   "metadata": {
    "_cell_guid": "769bd108-a611-4349-8c3d-d84038b23928",
    "_uuid": "209ab7840ad6352f37a039c4915571e711d99d7b"
   },
   "outputs": [],
   "source": [
    "Image(filename='../input/top10/top10.png')"
   ]
  },
  {
   "cell_type": "markdown",
   "metadata": {
    "_cell_guid": "b0769283-f835-4f47-bbec-22625b19d46d",
    "_uuid": "3eaa697509efae0502078db588229a944617c4eb"
   },
   "source": [
    "From this research, there are several key things that stood out:\n",
    "- **Location** - location is key for high valuations, therefore having a safe, well facilitated and well positioned house within a good neighbourhood, is also a large contributing factor.\n",
    "- **Size** - The more space, rooms and land that the house contains, the higher the valuation.\n",
    "- **Features** - the latest utilities and extras (such as a garage) ae highly desirable.\n",
    "\n",
    "This insight will held guide my feature engineering."
   ]
  },
  {
   "cell_type": "markdown",
   "metadata": {
    "_cell_guid": "9c488b63-881a-4e6b-a30f-88174a8dd92f",
    "_uuid": "c10e23d7976b7b97af4ec94ada192681544c9fc0"
   },
   "source": [
    "***"
   ]
  },
  {
   "cell_type": "markdown",
   "metadata": {
    "_cell_guid": "705e4fc7-81d6-482a-bd8c-d91851ee4de9",
    "_uuid": "a5250c2055f69ea5cad3e5318eebdaa93de797ca"
   },
   "source": [
    "## Content\n",
    "\n",
    "1. **[Import packages](#import_packages)**\n",
    "2. **[Load data](#load_data)**\n",
    "3. **[Data preparation](#data_preparation)**\n",
    "    - 3.1 - [Remove outliers](#remove_outliers)\n",
    "    - 3.2 - [Treat missing values](#treat_missing_values)   \n",
    "4. **[Exploratory Data Analysis](#exploratory_data_analysis)**\n",
    "    - 4.1 - [Correlation matrix](#correlation_matrix)\n",
    "    - 4.2 - [Feature engineering](#feature_engineering)\n",
    "        - 4.2.1 - [Polynomials](#polynomials)\n",
    "        - 4.2.2 - [Interior](#interior)\n",
    "        - 4.2.3 - [Architectural & Structural](#architectural_&_structural)\n",
    "        - 4.2.4 - [Exterior](#exterior)\n",
    "        - 4.2.5 - [Location](#location)\n",
    "        - 4.2.6 - [Land](#land)\n",
    "        - 4.2.7 - [Access](#access)\n",
    "        - 4.2.8 - [Utilities](#utilities)\n",
    "        - 4.2.9 - [Miscellaneous](#miscellaneous)\n",
    "    - 4.3 - [Target variable](#target_variable)\n",
    "    - 4.4 - [Treating skewed features](#treating_skewed_features)\n",
    "5. **[Modeling](#modeling)**\n",
    "    - 5.1 - [Preparation of datasets](#preparation_of_datasets)\n",
    "    - 5.2 - [Training](#training)\n",
    "    - 5.3 - [Optimisation](#optimisation)\n",
    "    - 5.4 - [Stacking](#stacking)\n",
    "    - 5.5 - [Ensemble](#ensemble)\n",
    "    - 5.6 - [Submission](#submission)\n",
    "6. **[Conclusion](#conclusion)**   "
   ]
  },
  {
   "cell_type": "markdown",
   "metadata": {
    "_cell_guid": "8ee13b9c-d07b-466e-b60b-598d96df60ed",
    "_uuid": "0a8c40d2bdc99ba535394ffaa8684156b2f85ab2"
   },
   "source": [
    "***"
   ]
  },
  {
   "cell_type": "markdown",
   "metadata": {
    "_cell_guid": "91f18325-c55c-49c4-b18a-df3422c0bee4",
    "_uuid": "4159a6dc100c4acfc4f33d6966ab60b12dd44120"
   },
   "source": [
    "<a id='import_packages'></a>\n",
    "# 1. \n",
    "## Import packages"
   ]
  },
  {
   "cell_type": "code",
   "execution_count": null,
   "metadata": {
    "_cell_guid": "e2b4152d-d2bb-4b02-a200-1f9b6b246b16",
    "_uuid": "48a8dcf698d2dd034f4ccb06851d42d51983d0b7"
   },
   "outputs": [],
   "source": [
    "# This first set of packages include Pandas, for data manipulation, numpy for mathematical computation and matplotlib & seaborn, for visualisation.\n",
    "import pandas as pd\n",
    "import numpy as np\n",
    "from IPython.display import display\n",
    "import matplotlib.pyplot as plt\n",
    "import seaborn as sns\n",
    "%matplotlib inline\n",
    "sns.set(style='white', context='notebook', palette='deep')\n",
    "print('Data Manipulation, Mathematical Computation and Visualisation packages imported!')\n",
    "\n",
    "# Statistical packages used for transformations\n",
    "from scipy import stats\n",
    "from scipy.stats import skew, norm\n",
    "from scipy.special import boxcox1p\n",
    "from scipy.stats.stats import pearsonr\n",
    "print('Statistical packages imported!')\n",
    "\n",
    "# Metrics used for measuring the accuracy and performance of the models\n",
    "#from sklearn import metrics\n",
    "#from sklearn.metrics import mean_squared_error\n",
    "print('Metrics packages imported!')\n",
    "\n",
    "# Algorithms used for modeling\n",
    "from sklearn.linear_model import ElasticNet, Lasso,  BayesianRidge, LassoLarsIC\n",
    "from sklearn.ensemble import RandomForestRegressor,  GradientBoostingRegressor, ExtraTreesRegressor\n",
    "from sklearn.kernel_ridge import KernelRidge\n",
    "import xgboost as xgb\n",
    "print('Algorithm packages imported!')\n",
    "\n",
    "# Pipeline and scaling preprocessing will be used for models that are sensitive\n",
    "from sklearn.pipeline import make_pipeline\n",
    "from sklearn.preprocessing import RobustScaler\n",
    "from sklearn.preprocessing import StandardScaler\n",
    "from sklearn.preprocessing import LabelEncoder\n",
    "from sklearn.feature_selection import SelectFromModel\n",
    "from sklearn.feature_selection import SelectKBest\n",
    "from sklearn.feature_selection import chi2\n",
    "print('Pipeline and preprocessing packages imported!')\n",
    "\n",
    "# Model selection packages used for sampling dataset and optimising parameters\n",
    "from sklearn import model_selection\n",
    "from sklearn.model_selection import KFold\n",
    "from sklearn.model_selection import cross_val_score, train_test_split\n",
    "from sklearn.model_selection import GridSearchCV\n",
    "from sklearn.model_selection import ShuffleSplit\n",
    "print('Model selection packages imported!')\n",
    "\n",
    "# Set visualisation colours\n",
    "mycols = [\"#66c2ff\", \"#5cd6d6\", \"#00cc99\", \"#85e085\", \"#ffd966\", \"#ffb366\", \"#ffb3b3\", \"#dab3ff\", \"#c2c2d6\"]\n",
    "sns.set_palette(palette = mycols, n_colors = 4)\n",
    "print('My colours are ready! :)')\n",
    "\n",
    "# To ignore annoying warning\n",
    "import warnings\n",
    "def ignore_warn(*args, **kwargs):\n",
    "    pass\n",
    "warnings.warn = ignore_warn #ignore annoying warning (from sklearn and seaborn)\n",
    "warnings.filterwarnings(\"ignore\", category=DeprecationWarning)\n",
    "print('Deprecation warning will be ignored!')"
   ]
  },
  {
   "cell_type": "markdown",
   "metadata": {
    "_cell_guid": "565063a6-e761-443c-817c-0b84875c6e4e",
    "_uuid": "c1c314bcb5f8cb74c6a24915de1c2fc29f9ed576"
   },
   "source": [
    "***"
   ]
  },
  {
   "cell_type": "markdown",
   "metadata": {
    "_cell_guid": "b01474d2-6313-4380-bac4-4a13dfc67a7a",
    "_uuid": "0777cec7c00bc2bee154987ed713102c97ea8a38"
   },
   "source": [
    "<a id='load_data'></a>\n",
    "# 2. \n",
    "## Load data\n",
    "\n",
    "- The Pandas package helps us work with our datasets. We start by reading the training and test datasets into DataFrames.\n",
    "- We want to save the 'Id' columns from both datasets for later use when preparing the submission data.\n",
    "- But we can drop them from the training and test datasets as they are redundant."
   ]
  },
  {
   "cell_type": "code",
   "execution_count": null,
   "metadata": {
    "_cell_guid": "0618a80c-d157-48cf-9865-91a4ca2cffe4",
    "_uuid": "aa60d4e812348ec28c3d0c8a7b8d81f8630873d6"
   },
   "outputs": [],
   "source": [
    "train = pd.read_csv('../input/house-prices-advanced-regression-techniques/train.csv')\n",
    "test = pd.read_csv('../input/house-prices-advanced-regression-techniques/test.csv')\n",
    "\n",
    "# Save the 'Id' column\n",
    "train_ID = traizn['Id']\n",
    "test_ID = test['Id']\n",
    "\n",
    "# Now drop the  'Id' column as it's redundant for modeling\n",
    "train.drop(\"Id\", axis = 1, inplace = True)\n",
    "test.drop(\"Id\", axis = 1, inplace = True)\n",
    "\n",
    "print(train.shape)\n",
    "print(test.shape)\n",
    "train.head()"
   ]
  },
  {
   "cell_type": "markdown",
   "metadata": {
    "_cell_guid": "aeb45bf7-52c1-4c39-8251-bb05189582ab",
    "_uuid": "341739edb23487995b0a2977717729c5b3b3b32e"
   },
   "source": [
    "- This dataset was constructed by **Dean De Cock** for use in Data Science education. It is viewed as a modern alternative to the Boston Housing dataset.\n",
    "- As expressed within the competition, this datasets includes 79 descriptive features about the houses.\n",
    "- A data description is included within competition, I highly recommend referring to this file frequently during data preparation and feature engineering.\n",
    "- This file also gives guidance to how missing values should be treated, which I will address in section 3.3."
   ]
  },
  {
   "cell_type": "markdown",
   "metadata": {
    "_cell_guid": "c69062f9-bda7-4745-84d8-23efd8fde121",
    "_uuid": "49057b6025a65538f97888210aebd3980e588713"
   },
   "source": [
    "***"
   ]
  },
  {
   "cell_type": "markdown",
   "metadata": {
    "_cell_guid": "42717325-a7ab-4677-bf2a-549444ed6f30",
    "_uuid": "24c819d76d9da953763a1e77f8290ae0e122d21f"
   },
   "source": [
    "<a id='data_preparation'></a>\n",
    "# 3. \n",
    "## Data preparation\n",
    "\n",
    "<a id='remove_outliers'></a>\n",
    "### 3.1 - Remove outliers"
   ]
  },
  {
   "cell_type": "code",
   "execution_count": null,
   "metadata": {
    "_cell_guid": "f99bfa21-a76e-49d9-bd21-1a853d308271",
    "_uuid": "04b99064da54b6f57a83e8cbb39fe6971ae1112a"
   },
   "outputs": [],
   "source": [
    "Image(filename='../input/outliers/Outliers-Matter.jpg', width = 700)"
   ]
  },
  {
   "cell_type": "markdown",
   "metadata": {
    "_cell_guid": "47e983c4-5e96-47b5-a075-7c04533aa1bb",
    "_uuid": "0e1b0f8749487c98faa020af4b97430cbad375b6"
   },
   "source": [
    "***Outliers can be a Data Scientists nightmare.*** \n",
    "\n",
    "- By definition, an outlier is something that is outside of the expected response. How far you're willing to consider something to be an outlier, is down to the individual and the problem.\n",
    "- From this definition, this outlier will therefore sit way outside of the distribution of data points. Hence, this will skew the distribution of the data and potential calculations.\n",
    "- Let's see how this will affect predictions of the future."
   ]
  },
  {
   "cell_type": "code",
   "execution_count": null,
   "metadata": {
    "_cell_guid": "56e1743d-8fd0-4c10-b2c5-e93bc0a4ccd2",
    "_uuid": "4e209cfb79bb751d98ae7ff2fdc1a663051a94fa"
   },
   "outputs": [],
   "source": [
    "Image(filename='../input/outliers/outliers.png')"
   ]
  },
  {
   "cell_type": "markdown",
   "metadata": {
    "_cell_guid": "68cf1598-99b0-49af-bea2-4c76de9a8d55",
    "_uuid": "447f60609427f11c46ef34cc8b76e6ba1ec9e4cf"
   },
   "source": [
    "The **data points** are shown in **light blue** on the left hand side of the grey dashed line. The **orange points** represent the **true future values**, and the **solid dark blue line** shows the **prediction** from the data points. \n",
    "\n",
    "- When the outliers are left in the model, the **model overfits** and is sensitive to these points. Therefore, it predicts values much higher than the true future values. *This is what we want to avoid.*\n",
    "- However, when outliers are removed, it **predicts much more accurately** with a generalised model that splits the distribution of the data points evenly.\n",
    "- ***This is very important in Machine Learning because our goal is to create robust models that are able to generalise to future situations.*** If we create a model that is very sensitive and tuned to fit outliers, this will result in a model that over or underfits. If we can create models that are able to cancel out the distractions and noise of outliers, this is usually a better situation.\n",
    "\n",
    "By referring to the **Ames Housing Dataset** link provided in the **Acknowledgements**, you'll see that the author outlines there are some outliers that must be treated: \n",
    "\n",
    "*\" Although all known errors were corrected in the data, no observations have been removed due to unusual values and all final residential sales from the initial data set are included in the data presented with this article. There are five observations that an instructor may wish to remove from the data set before giving it to students (a plot of SALE PRICE versus GR LIV AREA will quickly indicate these points). Three of them are true outliers (Partial Sales that likely don’t represent actual market values) and two of them are simply unusual sales (very large houses priced relatively appropriately). I would recommend removing any houses with more than 4000 square feet from the data set (which eliminates these five unusual observations) before assigning it to students. \"*\n",
    "\n",
    "- First, let's plot the two features stated against one another, to identify the outliers. Then we will remove them. The chart on the left shows the data before removing the outliers, and the chart on the right shows after."
   ]
  },
  {
   "cell_type": "code",
   "execution_count": null,
   "metadata": {
    "_cell_guid": "3b7755a0-b8d2-4125-8e4c-ec493eca38ea",
    "_uuid": "d3133622247fbeff94effd61075a8aa66cee6506"
   },
   "outputs": [],
   "source": [
    "plt.subplots(figsize=(15, 5))\n",
    "\n",
    "plt.subplot(1, 2, 1)\n",
    "g = sns.regplot(x=train['GrLivArea'], y=train['SalePrice'], fit_reg=False).set_title(\"Before\")\n",
    "\n",
    "# Delete outliers\n",
    "plt.subplot(1, 2, 2)                                                                                \n",
    "train = train.drop(train[(train['GrLivArea']>4000)].index)\n",
    "g = sns.regplot(x=train['GrLivArea'], y=train['SalePrice'], fit_reg=False).set_title(\"After\")"
   ]
  },
  {
   "cell_type": "markdown",
   "metadata": {
    "_cell_guid": "3ba53cd0-3b36-43c3-9e40-e7be3d25264e",
    "_uuid": "ea93c377946930221a79bf2ea7d05d29520403a5"
   },
   "source": [
    "***"
   ]
  },
  {
   "cell_type": "markdown",
   "metadata": {
    "_cell_guid": "8104b2f7-362d-4ae1-a1cc-40913d1b36b3",
    "_uuid": "ffe95bf1c68a536b644250956fd1d6b8a7081a41"
   },
   "source": [
    "<a id='treat_missing_values'></a>\n",
    "### 3.2 - Treat missing values\n",
    "\n",
    "***Missing values are the Data Scientists other nightmare.***\n",
    "\n",
    "A missing value is an entry in a column that has no assigned value. This can mean multiple things:\n",
    "- A missing value may be the **result of an error during the production of the dataset**. This could be a human error, or machinery error depending on where the data comes from. \n",
    "- A missing value in some cases, may just mean a that a **'zero'** should be present. In which case, it can be replaced by a 0. The data description provided helps to address situations like these.\n",
    "- However, missing values represent no information. Therefore, **does the fact that you don't know what value to assign an entry, mean that filling it with a 'zero' is always a good fit?** \n",
    "\n",
    "Some algorithms do not like missing values. Some are capable of handling them, but others are not. Therefore since we are using a variety of algorithms, it's best to treat them in an appropriate way.\n",
    "\n",
    "**If you have missing values, you have two options**:\n",
    "- Delete the entire row\n",
    "- Fill the missing entry with an imputed value\n",
    "\n",
    "In order to treat this dataset, first of all I will create a dataset of the training and test data in order to make changes consistent across both. Then, I will cycle through each feature with missing values and treat them individually based on the data description, or my judgement."
   ]
  },
  {
   "cell_type": "code",
   "execution_count": null,
   "metadata": {
    "_cell_guid": "cd275e6c-7e56-440c-b90c-c4d17f17bf9d",
    "_uuid": "56c3329450ceeb4254fce759f1a664f86f620c0b"
   },
   "outputs": [],
   "source": [
    "# First of all, save the length of the training and test data for use later\n",
    "ntrain = train.shape[0]\n",
    "ntest = test.shape[0]\n",
    "\n",
    "# Also save the target value, as we will remove this\n",
    "y_train = train.SalePrice.values\n",
    "\n",
    "# concatenate training and test data into all_data\n",
    "all_data = pd.concat((train, test)).reset_index(drop=True)\n",
    "all_data.drop(['SalePrice'], axis=1, inplace=True)\n",
    "\n",
    "print(\"all_data shape: {}\".format(all_data.shape))"
   ]
  },
  {
   "cell_type": "code",
   "execution_count": null,
   "metadata": {
    "_cell_guid": "b53b427a-fffe-47cf-8804-6f8583871eb2",
    "_uuid": "fcc88cd3dcf8ef9dd9d02e5294970fa307498fe8"
   },
   "outputs": [],
   "source": [
    "# aggregate all null values \n",
    "all_data_na = all_data.isnull().sum()\n",
    "\n",
    "# get rid of all the values with 0 missing values\n",
    "all_data_na = all_data_na.drop(all_data_na[all_data_na == 0].index).sort_values(ascending=False)\n",
    "plt.subplots(figsize =(15, 10))\n",
    "all_data_na.plot(kind='bar');"
   ]
  },
  {
   "cell_type": "markdown",
   "metadata": {
    "_cell_guid": "b1291b8f-0850-4596-b26a-e4b844572a98",
    "_uuid": "7971f3f0431f06231368b404c5bebdb5b0495e15"
   },
   "source": [
    "Above you can see where the missing values sit. **Note** it may look like some of the features have 0 missing values, but actually they have 1 by closer inspection.\n",
    "\n",
    "- Through reference of the data description, this gives guidance on how to treat missing values for some columns. For ones where guidance isn't provided, I have used intuition which I will explain. Below, you will see how I treated each feature."
   ]
  },
  {
   "cell_type": "code",
   "execution_count": null,
   "metadata": {
    "_cell_guid": "4ef55726-a228-40a3-94a0-ffec1a18f8d0",
    "_uuid": "ced794fb74cecf651421b974de8f204b8e594106"
   },
   "outputs": [],
   "source": [
    "# Using data description, fill these missing values with \"None\"\n",
    "for col in (\"PoolQC\", \"MiscFeature\", \"Alley\", \"Fence\", \"FireplaceQu\",\n",
    "           \"GarageType\", \"GarageFinish\", \"GarageQual\", \"GarageCond\",\n",
    "           \"BsmtQual\", \"BsmtCond\", \"BsmtExposure\", \"BsmtFinType1\",\n",
    "            \"BsmtFinType2\", \"MSSubClass\", \"MasVnrType\"):\n",
    "    all_data[col] = all_data[col].fillna(\"None\")\n",
    "print(\"'None' - treated...\")\n",
    "\n",
    "# The area of the lot out front is likely to be similar to the houses in the local neighbourhood\n",
    "# Therefore, let's use the median value of the houses in the neighbourhood to fill this feature\n",
    "all_data[\"LotFrontage\"] = all_data.groupby(\"Neighborhood\")[\"LotFrontage\"].transform(\n",
    "    lambda x: x.fillna(x.median()))\n",
    "print(\"'LotFrontage' - treated...\")\n",
    "\n",
    "# Using data description, fill these missing values with 0 \n",
    "for col in (\"GarageYrBlt\", \"GarageArea\", \"GarageCars\", \"BsmtFinSF1\", \n",
    "           \"BsmtFinSF2\", \"BsmtUnfSF\", \"TotalBsmtSF\", \"MasVnrArea\",\n",
    "           \"BsmtFullBath\", \"BsmtHalfBath\"):\n",
    "    all_data[col] = all_data[col].fillna(0)\n",
    "print(\"'0' - treated...\")\n",
    "\n",
    "\n",
    "# Fill these features with their mode, the most commonly occuring value. This is okay since there are a low number of missing values for these features\n",
    "all_data['MSZoning'] = all_data['MSZoning'].fillna(all_data['MSZoning'].mode()[0])\n",
    "all_data['Electrical'] = all_data['Electrical'].fillna(all_data['Electrical'].mode()[0])\n",
    "all_data['KitchenQual'] = all_data['KitchenQual'].fillna(all_data['KitchenQual'].mode()[0])\n",
    "all_data['Exterior1st'] = all_data['Exterior1st'].fillna(all_data['Exterior1st'].mode()[0])\n",
    "all_data['Exterior2nd'] = all_data['Exterior2nd'].fillna(all_data['Exterior2nd'].mode()[0])\n",
    "all_data['SaleType'] = all_data['SaleType'].fillna(all_data['SaleType'].mode()[0])\n",
    "all_data[\"Functional\"] = all_data[\"Functional\"].fillna(all_data['Functional'].mode()[0])\n",
    "print(\"'mode' - treated...\")\n",
    "\n",
    "all_data_na = all_data.isnull().sum()\n",
    "print(\"Features with missing values: \", all_data_na.drop(all_data_na[all_data_na == 0].index))"
   ]
  },
  {
   "cell_type": "markdown",
   "metadata": {
    "_cell_guid": "be71039c-809b-4b2e-b62e-64e9c6814b6c",
    "_uuid": "fee07849db45902a056974c4d1ec47ee3ad81352"
   },
   "source": [
    "Here we see that we have 1 remaining feature with missing values, Utilities.\n",
    "\n",
    "- Let's inspect this closer to see how to treat it."
   ]
  },
  {
   "cell_type": "code",
   "execution_count": null,
   "metadata": {
    "_cell_guid": "3d6c3d3d-f497-4d89-bdd5-a25aa3eec8fc",
    "_uuid": "0d2bbc9184b72b7bddd0fd574857a4c82cf36cd0"
   },
   "outputs": [],
   "source": [
    "plt.subplots(figsize =(15, 5))\n",
    "\n",
    "plt.subplot(1, 2, 1)\n",
    "g = sns.countplot(x = \"Utilities\", data = train).set_title(\"Utilities - Training\")\n",
    "\n",
    "plt.subplot(1, 2, 2)\n",
    "g = sns.countplot(x = \"Utilities\", data = test).set_title(\"Utilities - Test\")"
   ]
  },
  {
   "cell_type": "markdown",
   "metadata": {
    "_cell_guid": "94cb720c-5cce-4550-be24-a0a82f67c839",
    "_uuid": "57013cce85214eab68aee42b14197478810a112b"
   },
   "source": [
    "This tell us that within the training dataset, Utilities has two unique values: \"AllPub\" and \"NoSeWa\". With \"AllPub\" being by far the most common.\n",
    "- However, the test dataset has only 1 value for this column, which means that it holds no predictive power because it is a constant for all test observations.\n",
    "\n",
    "Therefore, we can drop this column"
   ]
  },
  {
   "cell_type": "code",
   "execution_count": null,
   "metadata": {
    "_cell_guid": "272c2005-a4d5-4f93-b5b8-0bec0be8b5ac",
    "_uuid": "43338f474cbd216f110df64910c8b4a313d6ec5f"
   },
   "outputs": [],
   "source": [
    "# From inspection, we can remove Utilities\n",
    "all_data = all_data.drop(['Utilities'], axis=1)\n",
    "\n",
    "all_data_na = all_data.isnull().sum()\n",
    "print(\"Features with missing values: \", len(all_data_na.drop(all_data_na[all_data_na == 0].index)))"
   ]
  },
  {
   "cell_type": "markdown",
   "metadata": {
    "_cell_guid": "24591c23-aa4d-4b2d-aac9-d1e27f962c4a",
    "_uuid": "711e3a8d3003a9731000e8442c5762dacf29260b"
   },
   "source": [
    "***"
   ]
  },
  {
   "cell_type": "markdown",
   "metadata": {
    "_cell_guid": "18b3e4b7-39f0-4a18-b8f4-5f944aa7eed0",
    "_uuid": "9e8328a4dfdc450bf14c4f5d8cb175958ea64b05"
   },
   "source": [
    "<a id='exploratory_data_analysis'></a>\n",
    "# 4. \n",
    "## Exploratory Data Analysis\n",
    "\n",
    "<a id='correlation_matrix'></a>\n",
    "### 4.1 - Correlation matrix\n",
    "\n",
    "Now that missing values and outliers have been treated, I will analyse each feature in more detail. This will give guidance on how to prepare this feature for modeling. I will analyse the features based on the different aspects of the house available in the dataset.\n",
    "\n"
   ]
  },
  {
   "cell_type": "code",
   "execution_count": null,
   "metadata": {
    "_cell_guid": "20910db1-c65e-4a50-b2f9-09f706cbf2c0",
    "_uuid": "71f15add56c0e118dab86822948fa8bae6c1360b"
   },
   "outputs": [],
   "source": [
    "corr = train.corr()\n",
    "plt.subplots(figsize=(30, 30))\n",
    "cmap = sns.diverging_palette(150, 250, as_cmap=True)\n",
    "sns.heatmap(corr, cmap=\"RdYlBu\", vmax=1, vmin=-0.6, center=0.2, square=True, linewidths=0, cbar_kws={\"shrink\": .5}, annot = True);"
   ]
  },
  {
   "cell_type": "markdown",
   "metadata": {
    "_cell_guid": "75a34e6a-3211-46a1-bc87-966e4105f8b7",
    "_uuid": "52265da5c59aa12a9c16addc9109fee4b208094f"
   },
   "source": [
    "- Using this correlation matrix, I am able to visualise the raw highly influencing factors on SalePrice.\n",
    "- I am looking for these because I will create polynomial features from the highly correlating features, in an attempt to capture the complex non-linear relationships within the data.\n",
    "\n",
    "***\n",
    "\n",
    "<a id='feature_engineering'></a>\n",
    "### 4.2 - Feature engineering\n",
    "\n",
    "This section is quite lengthy, so I have added hyperlinks to each subsection below in case you want to skip through...\n",
    "\n",
    "- 4.2.1 - [Polynomials](#polynomials)\n",
    "- 4.2.2 - [Interior](#interior)\n",
    "- 4.2.3 - [Architectural & Structural](#architectural_&_structural)\n",
    "- 4.2.4 - [Exterior](#exterior)\n",
    "- 4.2.5 - [Location](#location)\n",
    "- 4.2.6 - [Land](#land)\n",
    "- 4.2.7 - [Access](#access)\n",
    "- 4.2.8 - [Utilities](#utilities)\n",
    "- 4.2.9 - [Miscellaneous](#miscellaneous)\n",
    "\n",
    "<a id='polynomials'></a>\n",
    "#### 4.2.1 - Polynomials\n",
    "\n",
    "The most common relationship we may think of between two variables, would be a straight line or a linear relationship. What this means is that if we increase the predictor by 1 unit, the response always increases by X units. However, not all data has a linear relationship and therefore it may be necessary for your model to fit the more complex relationships in the data. \n",
    "\n",
    "But how do you fit a model to data with complex relationships, unexplainable by a linear function? There are a variety of curve-fitting methods you can choose from to help you with this.\n",
    "\n",
    "- The most common way to fit curves to the data is to include polynomial terms, such as squared or cubed predictors.\n",
    "- Typically, you choose the model order by the number of bends you need in your line. Each increase in the exponent produces one more bend in the curved fitted line. It’s very rare to use more than a cubic term."
   ]
  },
  {
   "cell_type": "code",
   "execution_count": null,
   "metadata": {
    "_cell_guid": "dda8ae8e-8af2-47fd-b06f-d30930877c8e",
    "_uuid": "41f11814afbfa0956588d8bd162afaded2089eca"
   },
   "outputs": [],
   "source": [
    "Image(filename='../input/combinations/combinations.png')"
   ]
  },
  {
   "cell_type": "markdown",
   "metadata": {
    "_cell_guid": "0e24f0cb-cb03-4661-956e-0df8aa45a2c8",
    "_uuid": "d2e50bc73db64b20ebc08fbe484f4f2abb42920a"
   },
   "source": [
    "- If your response data follows a pattern that descends down to a lower bound, or ascends up to an upper bound, you can fit this type of relationship by including the reciprocal (1/x) of one or more predictor variables in the model.\n",
    "    - Generally, you want to use this form when the size of effect for a predictor variable decreases as its value increases. \n",
    "- Because the gradient is a function of 1/x, the gradient gets flatter as x increases. For this type of model, x can never equal 0 because you can’t divide by zero.\n",
    "\n",
    "*So... now that you're armed with this information, what's important to know is that in order to model non-linear, complex relationships between response and predictor variables, we can create combinations of these variables with increasing order, or reciprocal orders.*\n",
    "\n",
    "- Since we have such a high number of variables in the dataset, it's overkill to create polynomials of each feature. Therefore, I will look at the top 10 correlating features with the target variable from the training dataset and create polynomials of these features, or equivalently the new combinations I have created from them."
   ]
  },
  {
   "cell_type": "markdown",
   "metadata": {
    "_cell_guid": "fb5581a5-c46a-487e-ada0-e35aa9b9f6a0",
    "_uuid": "2c44a5e8f10bb6e1807c32803147a95821eed205"
   },
   "source": [
    "Using the correlation matrix, the top influencing factors that I will use to create polynomials are:\n",
    "1. **OverallQual**\n",
    "2. **GrLivArea**\n",
    "3. **GarageCars**\n",
    "4. **GarageArea**\n",
    "5. **TotalBsmtSF**\n",
    "6. **1stFlrSF**\n",
    "7. **FullBath**\n",
    "8. **TotRmsAbvGrd**\n",
    "9. **Fireplaces**\n",
    "10. **MasVnrArea**\n",
    "11. **BsmtFinSF1**\n",
    "12. **LotFrontage**\n",
    "13. **WoodDeckSF**\n",
    "14. **OpenPorchSF**\n",
    "15. **2ndFlrSF**"
   ]
  },
  {
   "cell_type": "code",
   "execution_count": null,
   "metadata": {
    "_cell_guid": "c0d42723-3db2-4984-8d44-7df53591d262",
    "_uuid": "c9d3158e73045ab1c55af731fc4f055c7b9f30ba"
   },
   "outputs": [],
   "source": [
    "# Quadratic\n",
    "all_data[\"OverallQual-2\"] = all_data[\"OverallQual\"] ** 2\n",
    "all_data[\"GrLivArea-2\"] = all_data[\"GrLivArea\"] ** 2\n",
    "all_data[\"GarageCars-2\"] = all_data[\"GarageCars\"] ** 2\n",
    "all_data[\"GarageArea-2\"] = all_data[\"GarageArea\"] ** 2\n",
    "all_data[\"TotalBsmtSF-2\"] = all_data[\"TotalBsmtSF\"] ** 2\n",
    "all_data[\"1stFlrSF-2\"] = all_data[\"1stFlrSF\"] ** 2\n",
    "all_data[\"FullBath-2\"] = all_data[\"FullBath\"] ** 2\n",
    "all_data[\"TotRmsAbvGrd-2\"] = all_data[\"TotRmsAbvGrd\"] ** 2\n",
    "all_data[\"Fireplaces-2\"] = all_data[\"Fireplaces\"] ** 2\n",
    "all_data[\"MasVnrArea-2\"] = all_data[\"MasVnrArea\"] ** 2\n",
    "all_data[\"BsmtFinSF1-2\"] = all_data[\"BsmtFinSF1\"] ** 2\n",
    "all_data[\"LotFrontage-2\"] = all_data[\"LotFrontage\"] ** 2\n",
    "all_data[\"WoodDeckSF-2\"] = all_data[\"WoodDeckSF\"] ** 2\n",
    "all_data[\"OpenPorchSF-2\"] = all_data[\"OpenPorchSF\"] ** 2\n",
    "all_data[\"2ndFlrSF-2\"] = all_data[\"2ndFlrSF\"] ** 2\n",
    "print(\"Quadratics done!...\")\n",
    "\n",
    "# Cubic\n",
    "all_data[\"OverallQual-3\"] = all_data[\"OverallQual\"] ** 3\n",
    "all_data[\"GrLivArea-3\"] = all_data[\"GrLivArea\"] ** 3\n",
    "all_data[\"GarageCars-3\"] = all_data[\"GarageCars\"] ** 3\n",
    "all_data[\"GarageArea-3\"] = all_data[\"GarageArea\"] ** 3\n",
    "all_data[\"TotalBsmtSF-3\"] = all_data[\"TotalBsmtSF\"] ** 3\n",
    "all_data[\"1stFlrSF-3\"] = all_data[\"1stFlrSF\"] ** 3\n",
    "all_data[\"FullBath-3\"] = all_data[\"FullBath\"] ** 3\n",
    "all_data[\"TotRmsAbvGrd-3\"] = all_data[\"TotRmsAbvGrd\"] ** 3\n",
    "all_data[\"Fireplaces-3\"] = all_data[\"Fireplaces\"] ** 3\n",
    "all_data[\"MasVnrArea-3\"] = all_data[\"MasVnrArea\"] ** 3\n",
    "all_data[\"BsmtFinSF1-3\"] = all_data[\"BsmtFinSF1\"] ** 3\n",
    "all_data[\"LotFrontage-3\"] = all_data[\"LotFrontage\"] ** 3\n",
    "all_data[\"WoodDeckSF-3\"] = all_data[\"WoodDeckSF\"] ** 3\n",
    "all_data[\"OpenPorchSF-3\"] = all_data[\"OpenPorchSF\"] ** 3\n",
    "all_data[\"2ndFlrSF-3\"] = all_data[\"2ndFlrSF\"] ** 3\n",
    "print(\"Cubics done!...\")\n",
    "\n",
    "# Square Root\n",
    "all_data[\"OverallQual-Sq\"] = np.sqrt(all_data[\"OverallQual\"])\n",
    "all_data[\"GrLivArea-Sq\"] = np.sqrt(all_data[\"GrLivArea\"])\n",
    "all_data[\"GarageCars-Sq\"] = np.sqrt(all_data[\"GarageCars\"])\n",
    "all_data[\"GarageArea-Sq\"] = np.sqrt(all_data[\"GarageArea\"])\n",
    "all_data[\"TotalBsmtSF-Sq\"] = np.sqrt(all_data[\"TotalBsmtSF\"])\n",
    "all_data[\"1stFlrSF-Sq\"] = np.sqrt(all_data[\"1stFlrSF\"])\n",
    "all_data[\"FullBath-Sq\"] = np.sqrt(all_data[\"FullBath\"])\n",
    "all_data[\"TotRmsAbvGrd-Sq\"] = np.sqrt(all_data[\"TotRmsAbvGrd\"])\n",
    "all_data[\"Fireplaces-Sq\"] = np.sqrt(all_data[\"Fireplaces\"])\n",
    "all_data[\"MasVnrArea-Sq\"] = np.sqrt(all_data[\"MasVnrArea\"])\n",
    "all_data[\"BsmtFinSF1-Sq\"] = np.sqrt(all_data[\"BsmtFinSF1\"])\n",
    "all_data[\"LotFrontage-Sq\"] = np.sqrt(all_data[\"LotFrontage\"])\n",
    "all_data[\"WoodDeckSF-Sq\"] = np.sqrt(all_data[\"WoodDeckSF\"])\n",
    "all_data[\"OpenPorchSF-Sq\"] = np.sqrt(all_data[\"OpenPorchSF\"])\n",
    "all_data[\"2ndFlrSF-Sq\"] = np.sqrt(all_data[\"2ndFlrSF\"])\n",
    "print(\"Roots done!...\")"
   ]
  },
  {
   "cell_type": "markdown",
   "metadata": {
    "_cell_guid": "fd9e146e-863b-42be-aa98-8893fd48895f",
    "_uuid": "98815ee27b6b7cd20baa912f343c42e29f63eb86"
   },
   "source": [
    "<a id='interior'></a>\n",
    "#### 4.2.2 - Interior\n",
    "\n",
    "***BsmtQual***\n",
    "\n",
    "- Evaluates the height of the basement."
   ]
  },
  {
   "cell_type": "code",
   "execution_count": null,
   "metadata": {
    "_cell_guid": "bc1a5f98-090d-4eff-9954-05965f6e3378",
    "_uuid": "9e3eb4f94281ea2c0e26872664b69826225c7633"
   },
   "outputs": [],
   "source": [
    "plt.subplots(figsize =(20, 5))\n",
    "\n",
    "plt.subplot(1, 3, 1)\n",
    "sns.boxplot(x=\"BsmtQual\", y=\"SalePrice\", data=train, order=['Fa', 'TA', 'Gd', 'Ex']);\n",
    "\n",
    "plt.subplot(1, 3, 2)\n",
    "sns.stripplot(x=\"BsmtQual\", y=\"SalePrice\", data=train, size = 5, jitter = True, order=['Fa', 'TA', 'Gd', 'Ex']);\n",
    "\n",
    "plt.subplot(1, 3, 3)\n",
    "sns.barplot(x=\"BsmtQual\", y=\"SalePrice\", data=train, order=['Fa', 'TA', 'Gd', 'Ex']);"
   ]
  },
  {
   "cell_type": "markdown",
   "metadata": {
    "_cell_guid": "37908e45-3119-4054-846a-10da78ba7d3d",
    "_uuid": "3e075a4d00f7d34331b70928aba0a99f24a363cf"
   },
   "source": [
    "- SalePrice is clearly affected by BsmtQual, with the better the quality being meaning the higher the price. \n",
    "- However, it looks as though most houses have either 'Good' or 'Typical' sized basements.\n",
    "- Since this feature is ordinal, i.e. the categories represent different levels of order, I will replace the values by hand."
   ]
  },
  {
   "cell_type": "code",
   "execution_count": null,
   "metadata": {
    "_cell_guid": "65b4782a-1941-4e5e-8f28-44d46c7b9875",
    "_uuid": "468a10bcd63a44cc70985df581a847fb76339f6b"
   },
   "outputs": [],
   "source": [
    "all_data['BsmtQual'] = all_data['BsmtQual'].map({\"None\":0, \"Fa\":1, \"TA\":2, \"Gd\":3, \"Ex\":4})\n",
    "all_data['BsmtQual'].unique()"
   ]
  },
  {
   "cell_type": "markdown",
   "metadata": {
    "_cell_guid": "c04a082c-caeb-403d-b4f2-b0465c4ee88f",
    "_uuid": "ee7f7254b4ae11a5b5bf91b3bfe9cba8a3d836b2"
   },
   "source": [
    "***BsmtCond***\n",
    "- Evaluates the general condition of the basement."
   ]
  },
  {
   "cell_type": "code",
   "execution_count": null,
   "metadata": {
    "_cell_guid": "68427031-2af7-48e4-9336-93ce0052257a",
    "_uuid": "2f8af76372bea676c0bfc0078ff42cd9ac9a0818"
   },
   "outputs": [],
   "source": [
    "plt.subplots(figsize =(20, 5))\n",
    "\n",
    "plt.subplot(1, 3, 1)\n",
    "sns.boxplot(x=\"BsmtCond\", y=\"SalePrice\", data=train, order=['Po', 'Fa', 'TA', 'Gd']);\n",
    "\n",
    "plt.subplot(1, 3, 2)\n",
    "sns.stripplot(x=\"BsmtCond\", y=\"SalePrice\", data=train, size = 5, jitter = True, order=['Po', 'Fa', 'TA', 'Gd']);\n",
    "\n",
    "plt.subplot(1, 3, 3)\n",
    "sns.barplot(x=\"BsmtCond\", y=\"SalePrice\", data=train, order=['Po', 'Fa', 'TA', 'Gd']);"
   ]
  },
  {
   "cell_type": "markdown",
   "metadata": {
    "_cell_guid": "c9d3b378-5fe8-49e0-adfd-4483a2722294",
    "_uuid": "99802fe41e6d8dee230db3115756e9a064b48fc2"
   },
   "source": [
    "- As the condition of the basement improves, the SalePrice also increases.\n",
    "- However, we see some very high SalePrice values for the houses with \"Typical\" basement conditions. This perhaps suggests that although these two features correlate positively, BsmtCond may not have a largely influential contribution on SalePrice.\n",
    "- We also see the largest number of houses falling into the \"TA\" category.\n",
    "- Since this feature is ordinal, I will replace the values by hand."
   ]
  },
  {
   "cell_type": "code",
   "execution_count": null,
   "metadata": {
    "_cell_guid": "d9a692a8-b0c1-4f2c-9d90-764e1b605d9f",
    "_uuid": "2c324ec4b0592d7f6d912101954e7923d9523480"
   },
   "outputs": [],
   "source": [
    "all_data['BsmtCond'] = all_data['BsmtCond'].map({\"None\":0, \"Po\":1, \"Fa\":2, \"TA\":3, \"Gd\":4, \"Ex\":5})\n",
    "all_data['BsmtCond'].unique()"
   ]
  },
  {
   "cell_type": "markdown",
   "metadata": {
    "_cell_guid": "25fcd6fa-bdfd-4452-9488-7add5ed64832",
    "_uuid": "c82105802dc51f9bdd4f254ded67f47a60640fa3"
   },
   "source": [
    "***BsmtExposure***\n",
    "- Refers to walkout or garden level walls"
   ]
  },
  {
   "cell_type": "code",
   "execution_count": null,
   "metadata": {
    "_cell_guid": "7faa6c78-8c3e-4d05-8d11-37f19b8fb32d",
    "_uuid": "e76feab6408ec8cdc7df6e3a234b27ea3eecd9df"
   },
   "outputs": [],
   "source": [
    "plt.subplots(figsize =(20, 5))\n",
    "\n",
    "plt.subplot(1, 3, 1)\n",
    "sns.boxplot(x=\"BsmtExposure\", y=\"SalePrice\", data=train, order=['No', 'Mn', 'Av', 'Gd']);\n",
    "\n",
    "plt.subplot(1, 3, 2)\n",
    "sns.stripplot(x=\"BsmtExposure\", y=\"SalePrice\", data=train, size = 5, jitter = True, order=['No', 'Mn', 'Av', 'Gd']);\n",
    "\n",
    "plt.subplot(1, 3, 3)\n",
    "sns.barplot(x=\"BsmtExposure\", y=\"SalePrice\", data=train, order=['No', 'Mn', 'Av', 'Gd']);"
   ]
  },
  {
   "cell_type": "markdown",
   "metadata": {
    "_cell_guid": "9aacf075-6b8f-4e84-b2c9-ec92cb977c83",
    "_uuid": "b85a617ba995dcf438b7809b6dabacf9e6e9d80d"
   },
   "source": [
    "- As the amount of exposure increases, so does hte typical SalePrice. Interestingly, the average difference of SalePrice between categories is quite low here, telling me that some houses sold for very high prices, even with no exposure.\n",
    "- From this analysis I would say that it is positively correlating with SalePrice, but it isn't massively influential.\n",
    "- Since this feature is ordinal, I will replace values by hand."
   ]
  },
  {
   "cell_type": "code",
   "execution_count": null,
   "metadata": {
    "_cell_guid": "81b7ea70-1b3f-446e-857f-25929a360296",
    "_uuid": "6a386ed3a08f71502f09686cfc61992532f185f9"
   },
   "outputs": [],
   "source": [
    "all_data['BsmtExposure'] = all_data['BsmtExposure'].map({\"None\":0, \"No\":1, \"Mn\":2, \"Av\":3, \"Gd\":4})\n",
    "all_data['BsmtExposure'].unique()"
   ]
  },
  {
   "cell_type": "markdown",
   "metadata": {
    "_cell_guid": "e68e1cb5-a6ec-4343-b6cc-89cfb5b64fc0",
    "_uuid": "4be47442cf533b4689701b1e8d16aedc51d08e06"
   },
   "source": [
    "***BsmtFinType1***\n",
    "- Rating of basement finished area"
   ]
  },
  {
   "cell_type": "code",
   "execution_count": null,
   "metadata": {
    "_cell_guid": "600ece0d-d613-43f4-a592-1b3212fe75c0",
    "_uuid": "9ed02c07b2e72d2698836bdafe74bd862c813108"
   },
   "outputs": [],
   "source": [
    "plt.subplots(figsize =(20, 5))\n",
    "\n",
    "plt.subplot(1, 3, 1)\n",
    "sns.boxplot(x=\"BsmtFinType1\", y=\"SalePrice\", data=train, order=[\"Unf\", \"LwQ\", \"Rec\", \"BLQ\", \"ALQ\", \"GLQ\"], palette = mycols);\n",
    "\n",
    "plt.subplot(1, 3, 2)\n",
    "sns.stripplot(x=\"BsmtFinType1\", y=\"SalePrice\", data=train, size = 5, jitter = True, order=[\"Unf\", \"LwQ\", \"Rec\", \"BLQ\", \"ALQ\", \"GLQ\"], palette = mycols);\n",
    "\n",
    "plt.subplot(1, 3, 3)\n",
    "sns.barplot(x=\"BsmtFinType1\", y=\"SalePrice\", data=train, order=[\"Unf\", \"LwQ\", \"Rec\", \"BLQ\", \"ALQ\", \"GLQ\"], palette = mycols);"
   ]
  },
  {
   "cell_type": "markdown",
   "metadata": {
    "_cell_guid": "ce446e7b-89f2-412d-af25-20d2b83c6643",
    "_uuid": "677acbcfc79eeaa8ca2cdc6e930f362753e36509"
   },
   "source": [
    "- This is very interesting, it seems as though houses with an unfinished basement on average sold for more money than houses having up to an average rating...\n",
    "- However, houses with a good finish within the basement still demand more money than unfinished ones.\n",
    "- This is an ordinal feature, however as you can see this order does not necessarily cause a higher SalePrice. By creating an ordinal variable it was suggest that as the order of the feature increases then the target variable would also. We can see that this is not the case. Therefore, I will create dummy variables from this feature."
   ]
  },
  {
   "cell_type": "code",
   "execution_count": null,
   "metadata": {
    "_cell_guid": "163a019f-ab29-43c6-8300-eaf3ecc926a4",
    "_uuid": "2afc54713f8912fa8e443f9749f7fd13829f1fd8"
   },
   "outputs": [],
   "source": [
    "all_data = pd.get_dummies(all_data, columns = [\"BsmtFinType1\"], prefix=\"BsmtFinType1\")\n",
    "all_data.head(3)"
   ]
  },
  {
   "cell_type": "markdown",
   "metadata": {
    "_cell_guid": "69d2c0b3-155d-4b44-8789-27301cbf52c7",
    "_uuid": "32fe69297129f36c4b410644a2fd10a9c670ba82"
   },
   "source": [
    "***BsmtFinSF1***\n",
    "- Type 1 finished square feet."
   ]
  },
  {
   "cell_type": "code",
   "execution_count": null,
   "metadata": {
    "_cell_guid": "9263b180-d878-46eb-9334-5a0d4369a022",
    "_uuid": "9caee3458f9a6cb9d3918b045d993e1fce6475ad"
   },
   "outputs": [],
   "source": [
    "grid = plt.GridSpec(2, 3, wspace=0.1, hspace=0.15)\n",
    "plt.subplots(figsize =(30, 15))\n",
    "\n",
    "plt.subplot(grid[0, 0])\n",
    "g = sns.regplot(x=train['BsmtFinSF1'], y=train['SalePrice'], fit_reg=False, label = \"corr: %2f\"%(pearsonr(train['BsmtFinSF1'], train['SalePrice'])[0]))\n",
    "g = g.legend(loc=\"best\")\n",
    "\n",
    "plt.subplot(grid[0, 1:])\n",
    "sns.boxplot(x=\"Neighborhood\", y=\"BsmtFinSF1\", data=train, palette = mycols)\n",
    "\n",
    "plt.subplot(grid[1, 0]);\n",
    "sns.barplot(x=\"BldgType\", y=\"BsmtFinSF1\", data=train, palette = mycols)\n",
    "\n",
    "plt.subplot(grid[1, 1]);\n",
    "sns.barplot(x=\"HouseStyle\", y=\"BsmtFinSF1\", data=train, palette = mycols)\n",
    "\n",
    "plt.subplot(grid[1, 2]);\n",
    "sns.barplot(x=\"LotShape\", y=\"BsmtFinSF1\", data=train, palette = mycols);"
   ]
  },
  {
   "cell_type": "markdown",
   "metadata": {
    "_cell_guid": "b9249253-3d3a-4e3b-b226-c5e71b2a13cc",
    "_uuid": "2219ff1a092101c21a03c0b34c8b0e933423ee95"
   },
   "source": [
    "- This feature has a positive correlation with SalePrice and the spread of data points is quite large. \n",
    "- It is also clear that the local area (Neighborhood) and style of building (BldgType, HouseStyle and LotShape) has a varying effect on this feature.\n",
    "- Since this is a continuous numeric feature, I will bin this into several categories and create dummy features."
   ]
  },
  {
   "cell_type": "code",
   "execution_count": null,
   "metadata": {
    "_cell_guid": "94ad0728-8d90-4a68-855e-d2bf8572fc4e",
    "_uuid": "e27756eca45edbaddddc49beb59699d012c7ecb3"
   },
   "outputs": [],
   "source": [
    "all_data['BsmtFinSF1_Band'] = pd.cut(all_data['BsmtFinSF1'], 4)\n",
    "all_data['BsmtFinSF1_Band'].unique()"
   ]
  },
  {
   "cell_type": "code",
   "execution_count": null,
   "metadata": {
    "_cell_guid": "92f7f906-e1ea-4550-9bcb-16ae1680221b",
    "_uuid": "235503141b3e5af34539d2a5e2ca87784817c035"
   },
   "outputs": [],
   "source": [
    "all_data.loc[all_data['BsmtFinSF1']<=1002.5, 'BsmtFinSF1'] = 1\n",
    "all_data.loc[(all_data['BsmtFinSF1']>1002.5) & (all_data['BsmtFinSF1']<=2005), 'BsmtFinSF1'] = 2\n",
    "all_data.loc[(all_data['BsmtFinSF1']>2005) & (all_data['BsmtFinSF1']<=3007.5), 'BsmtFinSF1'] = 3\n",
    "all_data.loc[all_data['BsmtFinSF1']>3007.5, 'BsmtFinSF1'] = 4\n",
    "all_data['BsmtFinSF1'] = all_data['BsmtFinSF1'].astype(int)\n",
    "\n",
    "all_data.drop('BsmtFinSF1_Band', axis=1, inplace=True)\n",
    "\n",
    "all_data = pd.get_dummies(all_data, columns = [\"BsmtFinSF1\"], prefix=\"BsmtFinSF1\")\n",
    "all_data.head(3)"
   ]
  },
  {
   "cell_type": "markdown",
   "metadata": {
    "_cell_guid": "e3ee04b2-e509-4812-bfe6-4e47c9faaa0d",
    "_uuid": "9adfbb101a3c33270dab0a4785c0fc7025bfb2ee"
   },
   "source": [
    "***BsmtFinType2***\n",
    "- Rating of basement finished area (if multiple types)"
   ]
  },
  {
   "cell_type": "code",
   "execution_count": null,
   "metadata": {
    "_cell_guid": "8aa6a9ed-68ed-424d-8e6f-81bd58125805",
    "_uuid": "dc782888fadf87e1905c868c5843421f319c2ad4"
   },
   "outputs": [],
   "source": [
    "plt.subplots(figsize =(20, 5))\n",
    "\n",
    "plt.subplot(1, 3, 1)\n",
    "sns.boxplot(x=\"BsmtFinType2\", y=\"SalePrice\", data=train, order=[\"Unf\", \"LwQ\", \"Rec\", \"BLQ\", \"ALQ\", \"GLQ\"], palette = mycols);\n",
    "\n",
    "plt.subplot(1, 3, 2)\n",
    "sns.stripplot(x=\"BsmtFinType2\", y=\"SalePrice\", data=train, size = 5, jitter = True, order=[\"Unf\", \"LwQ\", \"Rec\", \"BLQ\", \"ALQ\", \"GLQ\"], palette = mycols);\n",
    "\n",
    "plt.subplot(1, 3, 3)\n",
    "sns.barplot(x=\"BsmtFinType2\", y=\"SalePrice\", data=train, order=[\"Unf\", \"LwQ\", \"Rec\", \"BLQ\", \"ALQ\", \"GLQ\"], palette = mycols);"
   ]
  },
  {
   "cell_type": "markdown",
   "metadata": {
    "_cell_guid": "c6b1c640-f964-4e93-8f4f-640f1712b7fd",
    "_uuid": "f633730697fca7e5d01cc9274eefde3ce4f5a7a0"
   },
   "source": [
    "- There seems as though there are a lot of houses with unfinished second basements, and this may cause the skew in terms og SalePrice's being relatively high for these...\n",
    "- There also looks to be only a few values for each of the other categories, with the highest average SalePrice coming from the second best category.\n",
    "- Although this is intended to be an ordinal feature, we can see that the SalePrice does not necessarily increase with order. Hence, I will cerate dummy variables here."
   ]
  },
  {
   "cell_type": "code",
   "execution_count": null,
   "metadata": {
    "_cell_guid": "1ac9366b-b98f-4129-8567-27582b47248b",
    "_uuid": "9099169bf2dfe5a8b7219b7dd9bedf1254ed8053"
   },
   "outputs": [],
   "source": [
    "all_data = pd.get_dummies(all_data, columns = [\"BsmtFinType2\"], prefix=\"BsmtFinType2\")\n",
    "all_data.head(3)"
   ]
  },
  {
   "cell_type": "markdown",
   "metadata": {
    "_cell_guid": "3c92dd21-dc51-4ca1-9b8c-fe42f73d3c76",
    "_uuid": "aef046f2457db28c6f882e161f37a6ee99db2ded"
   },
   "source": [
    "***BsmtFinSF2***\n",
    "- Type 2 finished square feet."
   ]
  },
  {
   "cell_type": "code",
   "execution_count": null,
   "metadata": {
    "_cell_guid": "f3a2b196-77bc-4b40-9102-97fe9bff96c1",
    "_uuid": "dec50fd0f76291d0f1474408fc6782e3b354339a"
   },
   "outputs": [],
   "source": [
    "grid = plt.GridSpec(2, 3, wspace=0.1, hspace=0.15)\n",
    "plt.subplots(figsize =(30, 15))\n",
    "\n",
    "plt.subplot(grid[0, 0])\n",
    "g = sns.regplot(x=train['BsmtFinSF2'], y=train['SalePrice'], fit_reg=False, label = \"corr: %2f\"%(pearsonr(train['BsmtFinSF2'], train['SalePrice'])[0]))\n",
    "g = g.legend(loc=\"best\")\n",
    "\n",
    "plt.subplot(grid[0, 1:])\n",
    "sns.boxplot(x=\"Neighborhood\", y=\"BsmtFinSF2\", data=train, palette = mycols)\n",
    "\n",
    "plt.subplot(grid[1, 0]);\n",
    "sns.barplot(x=\"BldgType\", y=\"BsmtFinSF2\", data=train, palette = mycols)\n",
    "\n",
    "plt.subplot(grid[1, 1]);\n",
    "sns.barplot(x=\"HouseStyle\", y=\"BsmtFinSF2\", data=train, palette = mycols)\n",
    "\n",
    "plt.subplot(grid[1, 2]);\n",
    "sns.barplot(x=\"LotShape\", y=\"BsmtFinSF2\", data=train, palette = mycols);"
   ]
  },
  {
   "cell_type": "markdown",
   "metadata": {
    "_cell_guid": "675dec45-318b-4405-bf63-b96002f2c74f",
    "_uuid": "c8940dc8d41d89fa103ba2730ef2baf9cb3978f8"
   },
   "source": [
    "- There are a large number of data points with this feature = 0. Outside of this, there is no significant correlation with SalePrice and a large spread of values.\n",
    "- Hence, I will replace this feature with a flag."
   ]
  },
  {
   "cell_type": "code",
   "execution_count": null,
   "metadata": {
    "_cell_guid": "2c881894-52a0-4893-9df5-856d94c9051e",
    "_uuid": "e43e528432a452d82f5558c88f0daba8ffdcbbef",
    "collapsed": true
   },
   "outputs": [],
   "source": [
    "all_data['BsmtFinSf2_Flag'] = all_data['BsmtFinSF2'].map(lambda x:0 if x==0 else 1)\n",
    "all_data.drop('BsmtFinSF2', axis=1, inplace=True)"
   ]
  },
  {
   "cell_type": "markdown",
   "metadata": {
    "_cell_guid": "4b846d6b-a8fa-4682-be0f-61310ac6ccf6",
    "_uuid": "b5ad9f089638a3c2cbdb938e5c8328ee70635d7c"
   },
   "source": [
    "***BsmtUnfSF***\n",
    "- Unfinished square feet of basement area"
   ]
  },
  {
   "cell_type": "code",
   "execution_count": null,
   "metadata": {
    "_cell_guid": "e0ec4cd7-4a24-4973-ae10-3cae408e91cc",
    "_uuid": "287358702d727a28031281dd15bb314cd59ee4fb"
   },
   "outputs": [],
   "source": [
    "grid = plt.GridSpec(2, 3, wspace=0.1, hspace=0.15)\n",
    "plt.subplots(figsize =(30, 15))\n",
    "\n",
    "plt.subplot(grid[0, 0])\n",
    "g = sns.regplot(x=train['BsmtUnfSF'], y=train['SalePrice'], fit_reg=False, label = \"corr: %2f\"%(pearsonr(train['BsmtUnfSF'], train['SalePrice'])[0]))\n",
    "g = g.legend(loc=\"best\")\n",
    "\n",
    "plt.subplot(grid[0, 1:])\n",
    "sns.boxplot(x=\"Neighborhood\", y=\"BsmtUnfSF\", data=train, palette = mycols)\n",
    "\n",
    "plt.subplot(grid[1, 0]);\n",
    "sns.barplot(x=\"BldgType\", y=\"BsmtUnfSF\", data=train, palette = mycols)\n",
    "\n",
    "plt.subplot(grid[1, 1]);\n",
    "sns.barplot(x=\"HouseStyle\", y=\"BsmtUnfSF\", data=train, palette = mycols)\n",
    "\n",
    "plt.subplot(grid[1, 2]);\n",
    "sns.barplot(x=\"LotShape\", y=\"BsmtUnfSF\", data=train, palette = mycols);"
   ]
  },
  {
   "cell_type": "markdown",
   "metadata": {
    "_cell_guid": "faa9bf31-9a92-4c47-b5f6-92ef4d129eff",
    "_uuid": "857e11d8f0ebbf7c9b988dc3739ad2346a077637"
   },
   "source": [
    "- This feature has a significant positive correlation with SalePrice, with a small proportion of data points having a value of 0. This tells me that most houses will have some amount of square feet unfinished within the basement, and this actually positively contributes towards SalePrice. \n",
    "- The amount of unfinished square feet also varies widely based on location and style. \n",
    "- Whereas the average unfinished square feet within the basement is fairly consistent across the different lot shapes.\n",
    "- Since this is a continuous numeric feature with a significant correlation, I will bin this and create dummy variables. "
   ]
  },
  {
   "cell_type": "code",
   "execution_count": null,
   "metadata": {
    "_cell_guid": "7e5b0178-2f02-49e2-9ff1-a9d8c4662b96",
    "_uuid": "d3e841833cdb575cf728d8f1a427369939f3497f"
   },
   "outputs": [],
   "source": [
    "all_data['BsmtUnfSF_Band'] = pd.cut(all_data['BsmtUnfSF'], 3)\n",
    "all_data['BsmtUnfSF_Band'].unique()"
   ]
  },
  {
   "cell_type": "code",
   "execution_count": null,
   "metadata": {
    "_cell_guid": "cc11ef41-a842-4adb-9798-8d29f6c24282",
    "_uuid": "8c890702bc8f78351dcd2e4112a8ad008098b9dc"
   },
   "outputs": [],
   "source": [
    "all_data.loc[all_data['BsmtUnfSF']<=778.667, 'BsmtUnfSF'] = 1\n",
    "all_data.loc[(all_data['BsmtUnfSF']>778.667) & (all_data['BsmtUnfSF']<=1557.333), 'BsmtUnfSF'] = 2\n",
    "all_data.loc[all_data['BsmtUnfSF']>1557.333, 'BsmtUnfSF'] = 3\n",
    "all_data['BsmtUnfSF'] = all_data['BsmtUnfSF'].astype(int)\n",
    "\n",
    "all_data.drop('BsmtUnfSF_Band', axis=1, inplace=True)\n",
    "\n",
    "all_data = pd.get_dummies(all_data, columns = [\"BsmtUnfSF\"], prefix=\"BsmtUnfSF\")\n",
    "all_data.head(3)"
   ]
  },
  {
   "cell_type": "markdown",
   "metadata": {
    "_cell_guid": "cd0fe741-1708-41ff-9d21-4d439f6b5134",
    "_uuid": "79c856d0a1b1d192d51b0b19ec51053f82aa4981"
   },
   "source": [
    "***TotalBsmtSF***\n",
    "- Total square feet of basement area."
   ]
  },
  {
   "cell_type": "code",
   "execution_count": null,
   "metadata": {
    "_cell_guid": "8b530f0b-9054-460e-8cad-b958c259cc26",
    "_uuid": "6eb67f0151f8e69acbe95d6ac25961ac826655c9"
   },
   "outputs": [],
   "source": [
    "grid = plt.GridSpec(2, 3, wspace=0.1, hspace=0.15)\n",
    "plt.subplots(figsize =(30, 15))\n",
    "\n",
    "plt.subplot(grid[0, 0])\n",
    "g = sns.regplot(x=train['TotalBsmtSF'], y=train['SalePrice'], fit_reg=False, label = \"corr: %2f\"%(pearsonr(train['TotalBsmtSF'], train['SalePrice'])[0]))\n",
    "g = g.legend(loc=\"best\")\n",
    "\n",
    "plt.subplot(grid[0, 1:])\n",
    "sns.boxplot(x=\"Neighborhood\", y=\"TotalBsmtSF\", data=train, palette = mycols)\n",
    "\n",
    "plt.subplot(grid[1, 0]);\n",
    "sns.barplot(x=\"BldgType\", y=\"TotalBsmtSF\", data=train, palette = mycols)\n",
    "\n",
    "plt.subplot(grid[1, 1]);\n",
    "sns.barplot(x=\"HouseStyle\", y=\"TotalBsmtSF\", data=train, palette = mycols)\n",
    "\n",
    "plt.subplot(grid[1, 2]);\n",
    "sns.barplot(x=\"LotShape\", y=\"TotalBsmtSF\", data=train, palette = mycols);"
   ]
  },
  {
   "cell_type": "markdown",
   "metadata": {
    "_cell_guid": "6301a165-38d2-4842-91c3-6767a3746a2f",
    "_uuid": "692a1a00c0407c0e422586a18450df70cb902c20"
   },
   "source": [
    "- This will be a very important feature within my analysis, due to such a high correlation with Saleprice.\n",
    "- We can see that it varies widely based on location, however the average basement size has a lower variance based on type, style and lot shape.\n",
    "- Due to this being a continuous numeric feature and also being a very significant feature when describing SalePrice, I believe there could be more value to be mined within this feature. Hence, I will create some binnings and dummy variables. "
   ]
  },
  {
   "cell_type": "code",
   "execution_count": null,
   "metadata": {
    "_cell_guid": "e44a350c-1e7e-4142-83cd-57e4292a5e2a",
    "_uuid": "68f4a44424c6f67e4453847723076591809c6945"
   },
   "outputs": [],
   "source": [
    "all_data['TotalBsmtSF_Band'] = pd.cut(all_data['TotalBsmtSF'], 10)\n",
    "all_data['TotalBsmtSF_Band'].unique()"
   ]
  },
  {
   "cell_type": "code",
   "execution_count": null,
   "metadata": {
    "_cell_guid": "3537bf58-aef5-49f3-8d50-bab0af1908d5",
    "_uuid": "ed39b247fc060e24e836b310b0c30d3ad99d30d7"
   },
   "outputs": [],
   "source": [
    "all_data.loc[all_data['TotalBsmtSF']<=509.5, 'TotalBsmtSF'] = 1\n",
    "all_data.loc[(all_data['TotalBsmtSF']>509.5) & (all_data['TotalBsmtSF']<=1019), 'TotalBsmtSF'] = 2\n",
    "all_data.loc[(all_data['TotalBsmtSF']>1019) & (all_data['TotalBsmtSF']<=1528.5), 'TotalBsmtSF'] = 3\n",
    "all_data.loc[(all_data['TotalBsmtSF']>1528.5) & (all_data['TotalBsmtSF']<=2038), 'TotalBsmtSF'] = 4\n",
    "all_data.loc[(all_data['TotalBsmtSF']>2038) & (all_data['TotalBsmtSF']<=2547.5), 'TotalBsmtSF'] = 5\n",
    "all_data.loc[(all_data['TotalBsmtSF']>2547.5) & (all_data['TotalBsmtSF']<=3057), 'TotalBsmtSF'] = 6\n",
    "all_data.loc[(all_data['TotalBsmtSF']>3057) & (all_data['TotalBsmtSF']<=3566.5), 'TotalBsmtSF'] = 7\n",
    "all_data.loc[all_data['TotalBsmtSF']>3566.5, 'TotalBsmtSF'] = 8\n",
    "all_data['TotalBsmtSF'] = all_data['TotalBsmtSF'].astype(int)\n",
    "\n",
    "all_data.drop('TotalBsmtSF_Band', axis=1, inplace=True)\n",
    "\n",
    "all_data = pd.get_dummies(all_data, columns = [\"TotalBsmtSF\"], prefix=\"TotalBsmtSF\")\n",
    "all_data.head(3)"
   ]
  },
  {
   "cell_type": "markdown",
   "metadata": {
    "_cell_guid": "1aa7c445-6698-457c-bbc8-9331ac97d4f5",
    "_uuid": "86632b0b8d13caa08a1d55a7a29aa5c7b13f7900"
   },
   "source": [
    "***1stFlrSF***\n",
    "- First floor square feet."
   ]
  },
  {
   "cell_type": "code",
   "execution_count": null,
   "metadata": {
    "_cell_guid": "2c94824f-7057-4ed4-988e-65686f0bbad0",
    "_uuid": "7fcc13639bd4d6ba36621d9ca05196d9d7c667db"
   },
   "outputs": [],
   "source": [
    "grid = plt.GridSpec(2, 3, wspace=0.1, hspace=0.15)\n",
    "plt.subplots(figsize =(30, 15))\n",
    "\n",
    "plt.subplot(grid[0, 0])\n",
    "g = sns.regplot(x=train['1stFlrSF'], y=train['SalePrice'], fit_reg=False, label = \"corr: %2f\"%(pearsonr(train['1stFlrSF'], train['SalePrice'])[0]))\n",
    "g = g.legend(loc=\"best\")\n",
    "\n",
    "plt.subplot(grid[0, 1:])\n",
    "sns.boxplot(x=\"Neighborhood\", y=\"1stFlrSF\", data=train, palette = mycols)\n",
    "\n",
    "plt.subplot(grid[1, 0]);\n",
    "sns.barplot(x=\"BldgType\", y=\"1stFlrSF\", data=train, palette = mycols)\n",
    "\n",
    "plt.subplot(grid[1, 1]);\n",
    "sns.barplot(x=\"HouseStyle\", y=\"1stFlrSF\", data=train, palette = mycols)\n",
    "\n",
    "plt.subplot(grid[1, 2]);\n",
    "sns.barplot(x=\"LotShape\", y=\"1stFlrSF\", data=train, palette = mycols);"
   ]
  },
  {
   "cell_type": "markdown",
   "metadata": {
    "_cell_guid": "b28d59a5-8316-4bcf-af1b-ffd3cfae0dfd",
    "_uuid": "bbd0b25350f03d161ff059ff66acacb76ccca08a"
   },
   "source": [
    "- Clearly this shows a very high positive correlation with SalePrice, this will be an important feature during modeling.\n",
    "- Once again, this feature varies greatly across neighborhoods and the size of this feature varies across building types and styles. \n",
    "- This feature does not vary so much across the lot size.\n",
    "- Since this is a continuous numeric feature, once again I will bin this feature and create dummy variables."
   ]
  },
  {
   "cell_type": "code",
   "execution_count": null,
   "metadata": {
    "_cell_guid": "bfb57ef5-b9a9-4f46-be24-03ba00a4b4fe",
    "_uuid": "85a1e7b944da9bbf87a6039a45ffb0ed94ac4717"
   },
   "outputs": [],
   "source": [
    "all_data['1stFlrSF_Band'] = pd.cut(all_data['1stFlrSF'], 6)\n",
    "all_data['1stFlrSF_Band'].unique()"
   ]
  },
  {
   "cell_type": "code",
   "execution_count": null,
   "metadata": {
    "_cell_guid": "e436e6da-243e-487b-9e9c-7b55bfccaee1",
    "_uuid": "87195f1407d6587a78ef5ca5cad55aa632b0e50b"
   },
   "outputs": [],
   "source": [
    "all_data.loc[all_data['1stFlrSF']<=1127.5, '1stFlrSF'] = 1\n",
    "all_data.loc[(all_data['1stFlrSF']>1127.5) & (all_data['1stFlrSF']<=1921), '1stFlrSF'] = 2\n",
    "all_data.loc[(all_data['1stFlrSF']>1921) & (all_data['1stFlrSF']<=2714.5), '1stFlrSF'] = 3\n",
    "all_data.loc[(all_data['1stFlrSF']>2714.5) & (all_data['1stFlrSF']<=3508), '1stFlrSF'] = 4\n",
    "all_data.loc[(all_data['1stFlrSF']>3508) & (all_data['1stFlrSF']<=4301.5), '1stFlrSF'] = 5\n",
    "all_data.loc[all_data['1stFlrSF']>4301.5, '1stFlrSF'] = 6\n",
    "all_data['1stFlrSF'] = all_data['1stFlrSF'].astype(int)\n",
    "\n",
    "all_data.drop('1stFlrSF_Band', axis=1, inplace=True)\n",
    "\n",
    "all_data = pd.get_dummies(all_data, columns = [\"1stFlrSF\"], prefix=\"1stFlrSF\")\n",
    "all_data.head(3)"
   ]
  },
  {
   "cell_type": "markdown",
   "metadata": {
    "_cell_guid": "d4de9bb9-62a0-4ec7-8bc3-c511ecc5354a",
    "_uuid": "34fbcd44b0ae5f27c8b4e1b34728866d2d71f570"
   },
   "source": [
    "***2ndFlrSF***\n",
    "- Second floor square feet."
   ]
  },
  {
   "cell_type": "code",
   "execution_count": null,
   "metadata": {
    "_cell_guid": "8966e423-2423-4b37-a746-f3be556fc32a",
    "_uuid": "1be88f1cf006baefbafea17912364787c99050c1"
   },
   "outputs": [],
   "source": [
    "grid = plt.GridSpec(2, 3, wspace=0.1, hspace=0.15)\n",
    "plt.subplots(figsize =(30, 15))\n",
    "\n",
    "plt.subplot(grid[0, 0])\n",
    "g = sns.regplot(x=train['2ndFlrSF'], y=train['SalePrice'], fit_reg=False, label = \"corr: %2f\"%(pearsonr(train['2ndFlrSF'], train['SalePrice'])[0]))\n",
    "g = g.legend(loc=\"best\")\n",
    "\n",
    "plt.subplot(grid[0, 1:])\n",
    "sns.boxplot(x=\"Neighborhood\", y=\"2ndFlrSF\", data=train, palette = mycols)\n",
    "\n",
    "plt.subplot(grid[1, 0]);\n",
    "sns.barplot(x=\"BldgType\", y=\"2ndFlrSF\", data=train, palette = mycols)\n",
    "\n",
    "plt.subplot(grid[1, 1]);\n",
    "sns.barplot(x=\"HouseStyle\", y=\"2ndFlrSF\", data=train, palette = mycols)\n",
    "\n",
    "plt.subplot(grid[1, 2]);\n",
    "sns.barplot(x=\"LotShape\", y=\"2ndFlrSF\", data=train, palette = mycols);"
   ]
  },
  {
   "cell_type": "markdown",
   "metadata": {
    "_cell_guid": "0cfff642-39ab-48cd-8fe5-e5157e699f97",
    "_uuid": "45fc2673b381d95aa480d55fe6b9e00d87c139e1"
   },
   "source": [
    "- Interestingly we see a highly positively correlated relationship with SalePrice, however we also see a significant number of houses with value = 0.\n",
    "- This is explained with the other visuals, showing that some styles of houses perhaps do not have a second floor, hence cannot have a value for this feature - such as \"1Story\" houses.\n",
    "- We also see a high dependance and variation between neighborhoods, building types and lot sizes.\n",
    "- It is evident that all the variables related to \"space\" are important in this analysis. Since this feature is a continuous numeric feature, I will bin this and create dummy variables."
   ]
  },
  {
   "cell_type": "code",
   "execution_count": null,
   "metadata": {
    "_cell_guid": "2470e0d3-ec86-46d4-9ff6-1de8216b63f8",
    "_uuid": "6b2c0843401f1a5d4d316713e1beffc8158f8a33"
   },
   "outputs": [],
   "source": [
    "all_data['2ndFlrSF_Band'] = pd.cut(all_data['2ndFlrSF'], 6)\n",
    "all_data['2ndFlrSF_Band'].unique()"
   ]
  },
  {
   "cell_type": "code",
   "execution_count": null,
   "metadata": {
    "_cell_guid": "2b7f5d6b-8167-4c6d-b80e-39dd83980bd4",
    "_uuid": "18262ec947cdebefcc241941a72578fd1402c788"
   },
   "outputs": [],
   "source": [
    "all_data.loc[all_data['2ndFlrSF']<=310.333, '2ndFlrSF'] = 1\n",
    "all_data.loc[(all_data['2ndFlrSF']>310.333) & (all_data['2ndFlrSF']<=620.667), '2ndFlrSF'] = 2\n",
    "all_data.loc[(all_data['2ndFlrSF']>620.667) & (all_data['2ndFlrSF']<=931), '2ndFlrSF'] = 3\n",
    "all_data.loc[(all_data['2ndFlrSF']>931) & (all_data['2ndFlrSF']<=1241.333), '2ndFlrSF'] = 4\n",
    "all_data.loc[(all_data['2ndFlrSF']>1241.333) & (all_data['2ndFlrSF']<=1551.667), '2ndFlrSF'] = 5\n",
    "all_data.loc[all_data['2ndFlrSF']>1551.667, '2ndFlrSF'] = 6\n",
    "all_data['2ndFlrSF'] = all_data['2ndFlrSF'].astype(int)\n",
    "\n",
    "all_data.drop('2ndFlrSF_Band', axis=1, inplace=True)\n",
    "\n",
    "all_data = pd.get_dummies(all_data, columns = [\"2ndFlrSF\"], prefix=\"2ndFlrSF\")\n",
    "all_data.head(3)"
   ]
  },
  {
   "cell_type": "markdown",
   "metadata": {
    "_cell_guid": "b783e6ec-fe5d-479d-bd11-a1b4a1ed1267",
    "_uuid": "f9171fa4f68e21cbe2a419840beb5f86febea509"
   },
   "source": [
    "***LowQualFinSF***\n",
    "- Low quality finished square feet (all floors)"
   ]
  },
  {
   "cell_type": "code",
   "execution_count": null,
   "metadata": {
    "_cell_guid": "196edc45-44be-44ca-b422-42c6dabae5ec",
    "_uuid": "8c7b3de6a59854c0e73de30bc19e02fc5e25ef9f"
   },
   "outputs": [],
   "source": [
    "grid = plt.GridSpec(2, 3, wspace=0.1, hspace=0.15)\n",
    "plt.subplots(figsize =(30, 15))\n",
    "\n",
    "plt.subplot(grid[0, 0])\n",
    "g = sns.regplot(x=train['LowQualFinSF'], y=train['SalePrice'], fit_reg=False, label = \"corr: %2f\"%(pearsonr(train['LowQualFinSF'], train['SalePrice'])[0]))\n",
    "g = g.legend(loc=\"best\")\n",
    "\n",
    "plt.subplot(grid[0, 1:])\n",
    "sns.boxplot(x=\"Neighborhood\", y=\"LowQualFinSF\", data=train, palette = mycols)\n",
    "\n",
    "plt.subplot(grid[1, 0]);\n",
    "sns.barplot(x=\"BldgType\", y=\"LowQualFinSF\", data=train, palette = mycols)\n",
    "\n",
    "plt.subplot(grid[1, 1]);\n",
    "sns.barplot(x=\"HouseStyle\", y=\"LowQualFinSF\", data=train, palette = mycols)\n",
    "\n",
    "plt.subplot(grid[1, 2]);\n",
    "sns.barplot(x=\"LotShape\", y=\"LowQualFinSF\", data=train, palette = mycols);"
   ]
  },
  {
   "cell_type": "markdown",
   "metadata": {
    "_cell_guid": "71d62a63-8d59-4d67-9738-b09d3b4c0f42",
    "_uuid": "fd79b1de78291a6e55fa9e7b486858d26885ed98"
   },
   "source": [
    "- We can see that there is a large number of properties with a value of 0 for this feature. Clearly, it does not have a significant correlation with SalePrice.\n",
    "- For this reason, I will replace this feature with a flag."
   ]
  },
  {
   "cell_type": "code",
   "execution_count": null,
   "metadata": {
    "_cell_guid": "7ae3e0a3-5830-4912-a1a6-17c215c22ffd",
    "_uuid": "237903cd267e52e3e52d352e82f7159430b8631a",
    "collapsed": true
   },
   "outputs": [],
   "source": [
    "all_data['LowQualFinSF_Flag'] = all_data['LowQualFinSF'].map(lambda x:0 if x==0 else 1)\n",
    "all_data.drop('LowQualFinSF', axis=1, inplace=True)"
   ]
  },
  {
   "cell_type": "markdown",
   "metadata": {
    "_cell_guid": "5a6c231f-1a3a-4e30-914d-6a7c51a479f8",
    "_uuid": "7dea093f5cbf59ad6b9afa8a022747b9551f996b"
   },
   "source": [
    "***BsmtHalfBath***, ***BsmtFullBath***, ***HalfBath***, ***FullBath***\n",
    "\n",
    "- Number of bathrooms.\n",
    "- For this feature, it made sense to sum them all together and create a total bathrooms feature."
   ]
  },
  {
   "cell_type": "code",
   "execution_count": null,
   "metadata": {
    "_cell_guid": "ae5c276d-f021-4c2b-bc7b-2e7a988ea493",
    "_uuid": "0d818eb4fa9aef9c0c2e5b5b5a7fa921cf6ae53a",
    "collapsed": true
   },
   "outputs": [],
   "source": [
    "all_data['TotalBathrooms'] = all_data['BsmtHalfBath'] + all_data['BsmtFullBath'] + all_data['HalfBath'] + all_data['FullBath']\n",
    "\n",
    "columns = ['BsmtHalfBath', 'BsmtFullBath', 'HalfBath', 'FullBath']\n",
    "all_data.drop(columns, axis=1, inplace=True)"
   ]
  },
  {
   "cell_type": "markdown",
   "metadata": {
    "_cell_guid": "74d6dcb6-2ce1-4a95-b4e5-d7c0ea3c3e39",
    "_uuid": "f3e6c90cf5d3f3815177e55798dd6d11eac27571"
   },
   "source": [
    "***Bedroom***\n",
    "- Bedrooms above grade (does not include basement bedrooms)"
   ]
  },
  {
   "cell_type": "code",
   "execution_count": null,
   "metadata": {
    "_cell_guid": "c42b72dd-b67e-4884-a829-7336f64d6a51",
    "_uuid": "2d2c702d95d8dc75d198e6f579f8f25364b287d0"
   },
   "outputs": [],
   "source": [
    "plt.subplots(figsize =(20, 5))\n",
    "\n",
    "plt.subplot(1, 3, 1)\n",
    "sns.boxplot(x=\"BedroomAbvGr\", y=\"SalePrice\", data=train, palette = mycols)\n",
    "\n",
    "plt.subplot(1, 3, 2)\n",
    "sns.stripplot(x=\"BedroomAbvGr\", y=\"SalePrice\", data=train, size = 5, jitter = True, palette = mycols);\n",
    "\n",
    "plt.subplot(1, 3, 3)\n",
    "sns.barplot(x=\"BedroomAbvGr\", y=\"SalePrice\", data=train, palette = mycols);"
   ]
  },
  {
   "cell_type": "markdown",
   "metadata": {
    "_cell_guid": "224ffb19-93cc-440a-b416-109abea83a54",
    "_uuid": "2be6618583caa0636f302430edef48be14e60754"
   },
   "source": [
    "- We see a lot of houses with 2 3 and 4 bedrooms above ground, and a very low number of houses with 6 or above.\n",
    "- Since this is a continuous numeric feature, I will leave it how it is."
   ]
  },
  {
   "cell_type": "markdown",
   "metadata": {
    "_cell_guid": "bb20e2e6-961c-42ee-9169-3b4bbf50a878",
    "_uuid": "12d136364b68e13727d9f7caf5b03a7639816d45"
   },
   "source": [
    "***Kitchen***\n",
    "- Kitchens above grade."
   ]
  },
  {
   "cell_type": "code",
   "execution_count": null,
   "metadata": {
    "_cell_guid": "967c54d6-8c47-42fe-92c2-31235a7fe1f0",
    "_uuid": "d5e8976444f68ebfd9b594ad4ce497905ca3e518"
   },
   "outputs": [],
   "source": [
    "plt.subplots(figsize =(20, 5))\n",
    "\n",
    "plt.subplot(1, 3, 1)\n",
    "sns.boxplot(x=\"KitchenAbvGr\", y=\"SalePrice\", data=train, palette = mycols)\n",
    "\n",
    "plt.subplot(1, 3, 2)\n",
    "sns.stripplot(x=\"KitchenAbvGr\", y=\"SalePrice\", data=train, size = 5, jitter = True, palette = mycols);\n",
    "\n",
    "plt.subplot(1, 3, 3)\n",
    "sns.barplot(x=\"KitchenAbvGr\", y=\"SalePrice\", data=train, palette = mycols);"
   ]
  },
  {
   "cell_type": "markdown",
   "metadata": {
    "_cell_guid": "cb088017-87fd-4203-8a32-5a48fa7c537f",
    "_uuid": "9d6ae575b201190110ce94fca6346a3d028a8efa"
   },
   "source": [
    "- Similarly to last previous feature, we see just a small number of houses with a large number of kitchens above grade. This shows that most houses have 1 kitchen above grade.\n",
    "- Since this is a continuous numeric feature, I will leave it as it is."
   ]
  },
  {
   "cell_type": "markdown",
   "metadata": {
    "_cell_guid": "a0d6842f-c301-42e4-893f-7bb31a0b79c7",
    "_uuid": "56a6c690aa11095d8f095bd4c662964e9c8ddd5c"
   },
   "source": [
    "***KitchenQual***\n",
    "- Kitchen quality."
   ]
  },
  {
   "cell_type": "code",
   "execution_count": null,
   "metadata": {
    "_cell_guid": "5da64eee-e86d-442f-a913-43747988f9bf",
    "_uuid": "d5f1c7c94fc0e0ee87f510b1745d8dc03facd3eb"
   },
   "outputs": [],
   "source": [
    "plt.subplots(figsize =(20, 5))\n",
    "\n",
    "plt.subplot(1, 3, 1)\n",
    "sns.boxplot(x=\"KitchenQual\", y=\"SalePrice\", data=train, order=[\"Fa\", \"TA\", \"Gd\", \"Ex\"], palette = mycols)\n",
    "\n",
    "plt.subplot(1, 3, 2)\n",
    "sns.stripplot(x=\"KitchenQual\", y=\"SalePrice\", data=train, size = 5, jitter = True, order=[\"Fa\", \"TA\", \"Gd\", \"Ex\"], palette = mycols);\n",
    "\n",
    "plt.subplot(1, 3, 3)\n",
    "sns.barplot(x=\"KitchenQual\", y=\"SalePrice\", data=train, order=[\"Fa\", \"TA\", \"Gd\", \"Ex\"], palette = mycols);"
   ]
  },
  {
   "cell_type": "markdown",
   "metadata": {
    "_cell_guid": "c45bc7c4-c2a7-41ab-ae59-1493a97e7656",
    "_uuid": "4d654669145fb85f2da675a2a00f52f241d2a691"
   },
   "source": [
    "- There is a clear positive correlation with the SalePrice and the quality of the kitchen.\n",
    "- There is one value for \"Gd\" that has an extremely high SalePrice however.\n",
    "- For this feature, since it is categorical with an order, I will replace these values by hand."
   ]
  },
  {
   "cell_type": "code",
   "execution_count": null,
   "metadata": {
    "_cell_guid": "a4c50749-034b-4723-982f-719cc47dcc4a",
    "_uuid": "bbced4e076f8639013057a3e398151f2be5ca13b"
   },
   "outputs": [],
   "source": [
    "all_data['KitchenQual'] = all_data['KitchenQual'].map({\"Fa\":1, \"TA\":2, \"Gd\":3, \"Ex\":4})\n",
    "all_data['KitchenQual'].unique()"
   ]
  },
  {
   "cell_type": "markdown",
   "metadata": {
    "_cell_guid": "d0147f8c-8a08-4d17-a386-e87f19c15aae",
    "_uuid": "91541f6d606ecdd86b4504b8c032290ef7419af2"
   },
   "source": [
    "***TotRmsAbvGrd***\n",
    "- Total rooms above grade (does not include bathrooms)"
   ]
  },
  {
   "cell_type": "code",
   "execution_count": null,
   "metadata": {
    "_cell_guid": "e53c16a8-6672-4549-81fa-da524b54cc8b",
    "_uuid": "8fa3c9b3e4537add198a2761a0a85488e49f3fc1"
   },
   "outputs": [],
   "source": [
    "plt.subplots(figsize =(20, 5))\n",
    "\n",
    "plt.subplot(1, 3, 1)\n",
    "sns.boxplot(x=\"TotRmsAbvGrd\", y=\"SalePrice\", data=train, palette = mycols)\n",
    "\n",
    "plt.subplot(1, 3, 2)\n",
    "sns.stripplot(x=\"TotRmsAbvGrd\", y=\"SalePrice\", data=train, size = 5, jitter = True, palette = mycols);\n",
    "\n",
    "plt.subplot(1, 3, 3)\n",
    "sns.barplot(x=\"TotRmsAbvGrd\", y=\"SalePrice\", data=train, palette = mycols);"
   ]
  },
  {
   "cell_type": "markdown",
   "metadata": {
    "_cell_guid": "6c9bc8be-494e-4a7a-a8a5-8d5dd22009a8",
    "_uuid": "21cef7fd8361772fdbb8a48518915a2009ed4eef"
   },
   "source": [
    "- Generally we see a positive correlation, as the number of rooms increases, so does the SalePrice.\n",
    "- However due to low frequency, we do see some unreliable results for the very large and small values for this feature.\n",
    "- Since this is a continuous numeric feature, I will leave it as it is."
   ]
  },
  {
   "cell_type": "markdown",
   "metadata": {
    "_cell_guid": "328e18a4-f430-4def-8940-385caec314d5",
    "_uuid": "d2a54230b72828b4eafebb58c3f8d34480650329"
   },
   "source": [
    "***Fireplaces***\n",
    "- Number of fireplaces."
   ]
  },
  {
   "cell_type": "code",
   "execution_count": null,
   "metadata": {
    "_cell_guid": "f3ea28a5-3d79-468a-ac65-464331d7a9a5",
    "_uuid": "e49c2aeeb631e1699bdb70ebf42ea482efe83c49"
   },
   "outputs": [],
   "source": [
    "plt.subplots(figsize =(20, 5))\n",
    "\n",
    "plt.subplot(1, 3, 1)\n",
    "sns.boxplot(x=\"Fireplaces\", y=\"SalePrice\", data=train, palette = mycols)\n",
    "\n",
    "plt.subplot(1, 3, 2)\n",
    "sns.stripplot(x=\"Fireplaces\", y=\"SalePrice\", data=train, size = 5, jitter = True, palette = mycols);\n",
    "\n",
    "plt.subplot(1, 3, 3)\n",
    "sns.barplot(x=\"Fireplaces\", y=\"SalePrice\", data=train, palette = mycols);"
   ]
  },
  {
   "cell_type": "markdown",
   "metadata": {
    "_cell_guid": "a46db5e4-f5f6-4055-bd3b-92f5419d32fb",
    "_uuid": "15c5b5af1c7f85850d2873d04aa29158fbcf2599"
   },
   "source": [
    "- Once again we have a positive correlation with SalePrice, with most houses having just 1 or 0 fireplaces.\n",
    "- I will leave this feature as it is."
   ]
  },
  {
   "cell_type": "markdown",
   "metadata": {
    "_cell_guid": "2b8a7b31-896a-4e2f-bbe9-311d3f93de34",
    "_uuid": "877696982033a1fd7b37f1f6a028d466fa04e108"
   },
   "source": [
    "***FireplaceQu***\n",
    "- Fireplace quality."
   ]
  },
  {
   "cell_type": "code",
   "execution_count": null,
   "metadata": {
    "_cell_guid": "1c19eb84-5392-43c9-9d2c-e1eac72a5c21",
    "_uuid": "369a79fa1eebcf526f5d5e0da65916ebd9960879"
   },
   "outputs": [],
   "source": [
    "plt.subplots(figsize =(20, 5))\n",
    "\n",
    "plt.subplot(1, 3, 1)\n",
    "sns.boxplot(x=\"FireplaceQu\", y=\"SalePrice\", data=train, order=[\"Po\", \"Fa\", \"TA\", \"Gd\", \"Ex\"], palette = mycols)\n",
    "\n",
    "plt.subplot(1, 3, 2)\n",
    "sns.stripplot(x=\"FireplaceQu\", y=\"SalePrice\", data=train, size = 5, jitter = True, order=[\"Po\", \"Fa\", \"TA\", \"Gd\", \"Ex\"], palette = mycols);\n",
    "\n",
    "plt.subplot(1, 3, 3)\n",
    "sns.barplot(x=\"FireplaceQu\", y=\"SalePrice\", data=train, order=[\"Po\", \"Fa\", \"TA\", \"Gd\", \"Ex\"], palette = mycols);"
   ]
  },
  {
   "cell_type": "markdown",
   "metadata": {
    "_cell_guid": "8c39928e-f91b-4ff6-bf5f-8039bfe42aa7",
    "_uuid": "230e4d5e220b88b3c85ae4cafc09fada54d0a0bd"
   },
   "source": [
    "- We also see a positive correlation and the fireplace quality increases. Most houses have either \"TA\" or \"Gd\" quality fireplaces. \n",
    "- Since this is a categorical feature with order, I will replace the values by hand."
   ]
  },
  {
   "cell_type": "code",
   "execution_count": null,
   "metadata": {
    "_cell_guid": "d525ff40-27e0-4403-8a9e-0ac6c35292c8",
    "_uuid": "6a44b96ac195983ed10027501adb7afaaeeb8086"
   },
   "outputs": [],
   "source": [
    "all_data['FireplaceQu'] = all_data['FireplaceQu'].map({\"None\":0, \"Po\":1, \"Fa\":2, \"TA\":3, \"Gd\":4, \"Ex\":5})\n",
    "all_data['FireplaceQu'].unique()"
   ]
  },
  {
   "cell_type": "markdown",
   "metadata": {
    "_cell_guid": "e49fc224-9701-4ee1-bd49-db07ca99f605",
    "_uuid": "f928e0e45b2d2ab318708514bfa8c499e8afe454"
   },
   "source": [
    "***GrLivArea***\n",
    "- Above grade ground living area in square feet."
   ]
  },
  {
   "cell_type": "code",
   "execution_count": null,
   "metadata": {
    "_cell_guid": "b93b13c2-f323-4e21-9321-78f96fe1e50c",
    "_uuid": "71a6357644474305689db4b12d4e86229af63218"
   },
   "outputs": [],
   "source": [
    "grid = plt.GridSpec(2, 3, wspace=0.1, hspace=0.15)\n",
    "plt.subplots(figsize =(30, 15))\n",
    "\n",
    "plt.subplot(grid[0, 0])\n",
    "g = sns.regplot(x=train['GrLivArea'], y=train['SalePrice'], fit_reg=False, label = \"corr: %2f\"%(pearsonr(train['GrLivArea'], train['SalePrice'])[0]))\n",
    "g = g.legend(loc=\"best\")\n",
    "\n",
    "plt.subplot(grid[0, 1:])\n",
    "sns.boxplot(x=\"Neighborhood\", y=\"GrLivArea\", data=train, palette = mycols)\n",
    "\n",
    "plt.subplot(grid[1, 0]);\n",
    "sns.barplot(x=\"BldgType\", y=\"GrLivArea\", data=train, palette = mycols)\n",
    "\n",
    "plt.subplot(grid[1, 1]);\n",
    "sns.barplot(x=\"HouseStyle\", y=\"GrLivArea\", data=train, palette = mycols)\n",
    "\n",
    "plt.subplot(grid[1, 2]);\n",
    "sns.barplot(x=\"LotShape\", y=\"GrLivArea\", data=train, palette = mycols);"
   ]
  },
  {
   "cell_type": "markdown",
   "metadata": {
    "_cell_guid": "67ba2bd0-5da9-43fe-82a7-16f5c07778ed",
    "_uuid": "060da02de47182ff93b7a2d16b2c8c067a607f9a"
   },
   "source": [
    "- We see a very high positive correlation with SalePrice.\n",
    "- We also see the values varying very highly between styles of houses and neigborhood.\n",
    "- Since this will be an important feature in our modeling, I will create bins and dummy features."
   ]
  },
  {
   "cell_type": "code",
   "execution_count": null,
   "metadata": {
    "_cell_guid": "4ae6bc52-29e9-4be2-819e-5d7ad52ed6b5",
    "_uuid": "661521d5468ea71a7b5b6de70e4849299ba2c2b8"
   },
   "outputs": [],
   "source": [
    "all_data['GrLivArea_Band'] = pd.cut(all_data['GrLivArea'], 6)\n",
    "all_data['GrLivArea_Band'].unique()"
   ]
  },
  {
   "cell_type": "code",
   "execution_count": null,
   "metadata": {
    "_cell_guid": "e32a6924-d721-47c0-aea5-135dc49a203b",
    "_uuid": "5963f16e3af03c338935ea4c6cd4441e6a2be28e"
   },
   "outputs": [],
   "source": [
    "all_data.loc[all_data['GrLivArea']<=1127.5, 'GrLivArea'] = 1\n",
    "all_data.loc[(all_data['GrLivArea']>1127.5) & (all_data['GrLivArea']<=1921), 'GrLivArea'] = 2\n",
    "all_data.loc[(all_data['GrLivArea']>1921) & (all_data['GrLivArea']<=2714.5), 'GrLivArea'] = 3\n",
    "all_data.loc[(all_data['GrLivArea']>2714.5) & (all_data['GrLivArea']<=3508), 'GrLivArea'] = 4\n",
    "all_data.loc[(all_data['GrLivArea']>3508) & (all_data['GrLivArea']<=4301.5), 'GrLivArea'] = 5\n",
    "all_data.loc[all_data['GrLivArea']>4301.5, 'GrLivArea'] = 6\n",
    "all_data['GrLivArea'] = all_data['GrLivArea'].astype(int)\n",
    "\n",
    "all_data.drop('GrLivArea_Band', axis=1, inplace=True)\n",
    "\n",
    "all_data = pd.get_dummies(all_data, columns = [\"GrLivArea\"], prefix=\"GrLivArea\")\n",
    "all_data.head(3)"
   ]
  },
  {
   "cell_type": "markdown",
   "metadata": {
    "_cell_guid": "42f2e3eb-d5f1-4424-9910-b205299b4b1e",
    "_uuid": "39326a7664b50782e6844803b0c9daec9be26099"
   },
   "source": [
    "<a id='architectural_&_structural'></a>\n",
    "#### 4.2.3 - Architectural & Structural\n",
    "\n",
    "***MSSubClass***\n",
    "- Identifies the type of dwelling involved in the sale."
   ]
  },
  {
   "cell_type": "code",
   "execution_count": null,
   "metadata": {
    "_cell_guid": "b0924812-5011-4150-a511-8eef3ae6781e",
    "_uuid": "177188d31460c4aa31a2e41864e603da52926fa3"
   },
   "outputs": [],
   "source": [
    "plt.subplots(figsize =(20, 5))\n",
    "\n",
    "plt.subplot(1, 3, 1)\n",
    "sns.boxplot(x=\"MSSubClass\", y=\"SalePrice\", data=train, palette = mycols);\n",
    "\n",
    "plt.subplot(1, 3, 2)\n",
    "sns.stripplot(x=\"MSSubClass\", y=\"SalePrice\", data=train, size = 5, jitter = True, palette = mycols);\n",
    "\n",
    "plt.subplot(1, 3, 3)\n",
    "sns.barplot(x=\"MSSubClass\", y=\"SalePrice\", data=train, palette = mycols);"
   ]
  },
  {
   "cell_type": "markdown",
   "metadata": {
    "_cell_guid": "37f53d7f-2071-4888-8fe3-7bf6b09978f2",
    "_uuid": "9a6782e00e6c871f668e25161daa306d10d01759"
   },
   "source": [
    "- Each of these classes represents a very different style of building, as shown in the data description. Hence, we can see large variance between classes with SalePrice. \n",
    "- This is a numeric feature, but it should actually be categorical. I could cluster some of these categories together, but for now I will create a dummy feature for each category."
   ]
  },
  {
   "cell_type": "code",
   "execution_count": null,
   "metadata": {
    "_cell_guid": "06e8e0c1-6ee8-47d4-b4b9-bfdc5b5116f5",
    "_uuid": "028cd691a12acd14b93f2a3370d03329694ae9ea"
   },
   "outputs": [],
   "source": [
    "all_data['MSSubClass'] = all_data['MSSubClass'].astype(str)\n",
    "\n",
    "all_data = pd.get_dummies(all_data, columns = [\"MSSubClass\"], prefix=\"MSSubClass\")\n",
    "all_data.head(3)"
   ]
  },
  {
   "cell_type": "markdown",
   "metadata": {
    "_cell_guid": "6508bca9-eecb-49ea-bdf9-cbb1be945bd4",
    "_uuid": "085f080720e2a557e05afb4c9ba7226ac86d9740"
   },
   "source": [
    "***BldgType***\n",
    "- Type of dwelling."
   ]
  },
  {
   "cell_type": "code",
   "execution_count": null,
   "metadata": {
    "_cell_guid": "113292af-2838-451f-bd62-010e243d418a",
    "_uuid": "4a96d74af55ecac2f13dcf5f42dec37b1661a7aa"
   },
   "outputs": [],
   "source": [
    "plt.subplots(figsize =(20, 5))\n",
    "\n",
    "plt.subplot(1, 3, 1)\n",
    "sns.boxplot(x=\"BldgType\", y=\"SalePrice\", data=train, palette = mycols);\n",
    "\n",
    "plt.subplot(1, 3, 2)\n",
    "sns.stripplot(x=\"BldgType\", y=\"SalePrice\", data=train, size = 5, jitter = True, palette = mycols);\n",
    "\n",
    "plt.subplot(1, 3, 3)\n",
    "sns.barplot(x=\"BldgType\", y=\"SalePrice\", data=train, palette = mycols);"
   ]
  },
  {
   "cell_type": "markdown",
   "metadata": {
    "_cell_guid": "708ebedd-b36d-476f-8222-3589456f1d57",
    "_uuid": "91f891a5688ff7d3f8e48442bbba79230510af29"
   },
   "source": [
    "- The different categories exhibit a range of average SalePrice's. The class with the most observations is \"1Fam\". \n",
    "- We can also see that the variance within classes is quite tight, with only a few extreme values in each case.\n",
    "- There could be a possibility to cluster these classes, however for now I am going to create dummy features."
   ]
  },
  {
   "cell_type": "code",
   "execution_count": null,
   "metadata": {
    "_cell_guid": "e15a9d25-4e8e-48f2-8b6d-5304630aa6d0",
    "_uuid": "e9d416d6d4d72750d244a4340b75de5b0e54ba01"
   },
   "outputs": [],
   "source": [
    "all_data['BldgType'] = all_data['BldgType'].astype(str)\n",
    "\n",
    "all_data = pd.get_dummies(all_data, columns = [\"BldgType\"], prefix=\"BldgType\")\n",
    "all_data.head(3)"
   ]
  },
  {
   "cell_type": "markdown",
   "metadata": {
    "_cell_guid": "a8bc9257-773e-4498-a9cc-5e80d24650a2",
    "_uuid": "37198a07301bfc9e86274ef5ff5c8f7a95947282"
   },
   "source": [
    "***HouseStyle***\n",
    "- Style of dwelling."
   ]
  },
  {
   "cell_type": "code",
   "execution_count": null,
   "metadata": {
    "_cell_guid": "950635d0-814f-4356-a7f9-98880fd7f320",
    "_uuid": "6d9a6cd2337f4902e826498698a84c3ef3319bbc"
   },
   "outputs": [],
   "source": [
    "plt.subplots(figsize =(20, 5))\n",
    "\n",
    "plt.subplot(1, 3, 1)\n",
    "sns.boxplot(x=\"HouseStyle\", y=\"SalePrice\", data=train, palette = mycols);\n",
    "\n",
    "plt.subplot(1, 3, 2)\n",
    "sns.stripplot(x=\"HouseStyle\", y=\"SalePrice\", data=train, size = 5, jitter = True, palette = mycols);\n",
    "\n",
    "plt.subplot(1, 3, 3)\n",
    "sns.barplot(x=\"HouseStyle\", y=\"SalePrice\", data=train, palette = mycols);"
   ]
  },
  {
   "cell_type": "markdown",
   "metadata": {
    "_cell_guid": "70fe1087-0371-414b-9e8a-35efcc581efb",
    "_uuid": "ab3c38a0282495cc0f29836c2a35fdaf790c68a8"
   },
   "source": [
    "- Here we see quite a few extreme values across the categories and a large weighting of observations towards the integer story houses.\n",
    "- Although the highest average SalePrice comes from \"2.5Fin\", this has a very high standard deviation and therefore more reliably, the \"2Story\" houses are also very highly priced on average.\n",
    "- Since there are some categories with very few values, I will cluster these into another category and create dummy variables."
   ]
  },
  {
   "cell_type": "code",
   "execution_count": null,
   "metadata": {
    "_cell_guid": "7567b092-d3cb-47e5-85b7-44fb991a7a67",
    "_uuid": "6c318dd1d6b62b4c58e0cb8e9dea6cdfc14571ad"
   },
   "outputs": [],
   "source": [
    "all_data['HouseStyle'] = all_data['HouseStyle'].map({\"2Story\":\"2Story\", \"1Story\":\"1Story\", \"1.5Fin\":\"1.5Story\", \"1.5Unf\":\"1.5Story\", \n",
    "                                                     \"SFoyer\":\"SFoyer\", \"SLvl\":\"SLvl\", \"2.5Unf\":\"2.5Story\", \"2.5Fin\":\"2.5Story\"})\n",
    "\n",
    "all_data = pd.get_dummies(all_data, columns = [\"HouseStyle\"], prefix=\"HouseStyle\")\n",
    "all_data.head(3)"
   ]
  },
  {
   "cell_type": "markdown",
   "metadata": {
    "_cell_guid": "5c78d31c-64a1-4073-b2f9-3a1e7f9f2cbf",
    "_uuid": "f16dcd77bc06433874be0ce770e189fcfa8ced3f"
   },
   "source": [
    "***OverallQual***\n",
    "- Rates the overall material and finish of the house."
   ]
  },
  {
   "cell_type": "code",
   "execution_count": null,
   "metadata": {
    "_cell_guid": "e16c7165-ca8d-40df-aaf4-7e9921e18a9d",
    "_uuid": "43e905150f3e3045b793759e464adee3663b232b"
   },
   "outputs": [],
   "source": [
    "plt.subplots(figsize =(20, 5))\n",
    "\n",
    "plt.subplot(1, 3, 1)\n",
    "sns.boxplot(x=\"OverallQual\", y=\"SalePrice\", data=train, palette = mycols);\n",
    "\n",
    "plt.subplot(1, 3, 2)\n",
    "sns.stripplot(x=\"OverallQual\", y=\"SalePrice\", data=train, size = 5, jitter = True, palette = mycols);\n",
    "\n",
    "plt.subplot(1, 3, 3)\n",
    "sns.barplot(x=\"OverallQual\", y=\"SalePrice\", data=train, palette = mycols);"
   ]
  },
  {
   "cell_type": "markdown",
   "metadata": {
    "_cell_guid": "0d1a3876-6279-4b6c-ac9c-7e307a9950dc",
    "_uuid": "28766da3c35970d6c510fb2a5d5316a0624fbd62"
   },
   "source": [
    "- This feature although being numeric is actually categoric and ordinal, as the value increases so does the SalePrice. Hence, I will keep it as a numeric feature.\n",
    "- We see here a nice positive correlation with the increase in OverallQual and the SalePrice, as you'd expect."
   ]
  },
  {
   "cell_type": "markdown",
   "metadata": {
    "_cell_guid": "3377b7ed-f1aa-4592-ab41-4f228576d4ce",
    "_uuid": "75519ba3b29143e726a7741c631002e2296093bb"
   },
   "source": [
    "***OverallCond***\n",
    "- Rates the overall condition of the house."
   ]
  },
  {
   "cell_type": "code",
   "execution_count": null,
   "metadata": {
    "_cell_guid": "6415b3ca-8f20-463f-b755-9e4eb9d83252",
    "_uuid": "5ccee6d991875afed49493aee2ab2c603a953a14"
   },
   "outputs": [],
   "source": [
    "plt.subplots(figsize =(20, 5))\n",
    "\n",
    "plt.subplot(1, 3, 1)\n",
    "sns.boxplot(x=\"OverallCond\", y=\"SalePrice\", data=train, palette = mycols);\n",
    "\n",
    "plt.subplot(1, 3, 2)\n",
    "sns.stripplot(x=\"OverallCond\", y=\"SalePrice\", data=train, size = 5, jitter = True, palette = mycols);\n",
    "\n",
    "plt.subplot(1, 3, 3)\n",
    "sns.barplot(x=\"OverallCond\", y=\"SalePrice\", data=train, palette = mycols);"
   ]
  },
  {
   "cell_type": "markdown",
   "metadata": {
    "_cell_guid": "0e9326d9-155a-44c7-b19e-fae46672c9e0",
    "_uuid": "85964b895c523d3878c8f4d8552bcdcf5a09059f"
   },
   "source": [
    "- Interestingly, we see here that it does follow a positive correlation with SalePrice, however we see a peak at a value of 5, along with a high number of observations at this value.\n",
    "- The highest average SalePrice actually comes from a value of 5 as opposed to 10, which may be a reasonable assumption.\n",
    "- For this feature, I will leave it as being numeric and ordinal.\n",
    "\n",
    "***YearRemodAdd***\n",
    "- Remodel date (same as construction date if no remodeling or additions)."
   ]
  },
  {
   "cell_type": "code",
   "execution_count": null,
   "metadata": {
    "_cell_guid": "eacd75d2-04e8-43aa-bc5b-2c19ef76d06a",
    "_uuid": "3147e312eb3c5ba9cb55149d9c88e3f33076a485"
   },
   "outputs": [],
   "source": [
    "plt.subplots(figsize =(20, 5))\n",
    "\n",
    "plt.subplot(1, 3, 1)\n",
    "sns.boxplot(x=\"YearRemodAdd\", y=\"SalePrice\", data=train, palette = mycols);\n",
    "\n",
    "plt.subplot(1, 3, 2)\n",
    "sns.stripplot(x=\"YearRemodAdd\", y=\"SalePrice\", data=train, size = 5, jitter = True, palette = mycols);\n",
    "\n",
    "plt.subplot(1, 3, 3)\n",
    "sns.barplot(x=\"YearRemodAdd\", y=\"SalePrice\", data=train, palette = mycols);"
   ]
  },
  {
   "cell_type": "markdown",
   "metadata": {
    "_cell_guid": "181e3a8d-9b80-46c0-b5ff-fec56b68f161",
    "_uuid": "cc8af8dcaf4a9044cf6016de23e53e41b5a45da7"
   },
   "source": [
    "- Here we can see that the newer the remodelling of a house, the higher the SalePrice.\n",
    "- From the data description, I believe that creating a new feature describing the difference in number of years between remodeling and construction may be a good choice."
   ]
  },
  {
   "cell_type": "code",
   "execution_count": null,
   "metadata": {
    "_cell_guid": "4612f4a3-fa53-49ad-8e14-bc4eef652117",
    "_uuid": "4dfc5354949e1d7917e4668acf4784fd84bdb36c"
   },
   "outputs": [],
   "source": [
    "train['Remod_Diff'] = train['YearRemodAdd'] - train['YearBuilt']\n",
    "\n",
    "plt.subplots(figsize =(40, 10))\n",
    "sns.barplot(x=\"Remod_Diff\", y=\"SalePrice\", data=train, palette = mycols);"
   ]
  },
  {
   "cell_type": "markdown",
   "metadata": {
    "_cell_guid": "36bec4d8-c1a5-4288-92f8-b6c724d1d7be",
    "_uuid": "a8be238317cb8a4eb85d4720b5fbd39e3bf2dec2"
   },
   "source": [
    "- Clearly we can see that there are some values which have a much higher SalePrice than others. I will leave this feature as it is, without any binnings."
   ]
  },
  {
   "cell_type": "code",
   "execution_count": null,
   "metadata": {
    "_cell_guid": "2d4c076d-a42e-4cf0-abbd-793549d985f9",
    "_uuid": "e6073b65763a0da19d18d285b49c2dbbc70b1236",
    "collapsed": true
   },
   "outputs": [],
   "source": [
    "all_data['Remod_Diff'] = all_data['YearRemodAdd'] - all_data['YearBuilt']\n",
    "\n",
    "all_data.drop('YearRemodAdd', axis=1, inplace=True)"
   ]
  },
  {
   "cell_type": "markdown",
   "metadata": {
    "_cell_guid": "c02ccc0f-9c20-41a5-aead-736bb51a6e0f",
    "_uuid": "3dd74efd292bbfec75f8058c504382e168be1626"
   },
   "source": [
    "***YearBuilt***\n",
    "- Original construction date."
   ]
  },
  {
   "cell_type": "code",
   "execution_count": null,
   "metadata": {
    "_cell_guid": "f271e069-0976-42d4-be30-c7e617673115",
    "_uuid": "f01ec1b123a17c905dc051881e2b6a82c3d86088"
   },
   "outputs": [],
   "source": [
    "plt.subplots(figsize =(50, 10))\n",
    "\n",
    "sns.barplot(x=\"YearBuilt\", y=\"SalePrice\", data=train, palette = mycols);"
   ]
  },
  {
   "cell_type": "markdown",
   "metadata": {
    "_cell_guid": "e000ea4d-6faa-43ef-b2c5-b093e299be17",
    "_uuid": "b7e0f2b9c2e0d5083a57c2bfced9b2669f6b1cf1"
   },
   "source": [
    "- Here we can see a fairly consistent upward trend for the SalePrice as houses are more modern. \n",
    "- For this feature, I am going to create bins and dummy features"
   ]
  },
  {
   "cell_type": "code",
   "execution_count": null,
   "metadata": {
    "_cell_guid": "836cedd4-2168-4aee-8e5b-b5b5a443378b",
    "_uuid": "c3bf68570306e6b2e47c7237172275e0a3d8325b"
   },
   "outputs": [],
   "source": [
    "all_data['YearBuilt_Band'] = pd.cut(all_data['YearBuilt'], 7)\n",
    "all_data['YearBuilt_Band'].unique()"
   ]
  },
  {
   "cell_type": "code",
   "execution_count": null,
   "metadata": {
    "_cell_guid": "ae6d99e2-383a-4c7c-b973-6f3d970a4c58",
    "_uuid": "b4f775de6ce8ba53d6664205a96940cdbea6c246"
   },
   "outputs": [],
   "source": [
    "all_data.loc[all_data['YearBuilt']<=1892, 'YearBuilt'] = 1\n",
    "all_data.loc[(all_data['YearBuilt']>1892) & (all_data['YearBuilt']<=1911), 'YearBuilt'] = 2\n",
    "all_data.loc[(all_data['YearBuilt']>1911) & (all_data['YearBuilt']<=1931), 'YearBuilt'] = 3\n",
    "all_data.loc[(all_data['YearBuilt']>1931) & (all_data['YearBuilt']<=1951), 'YearBuilt'] = 4\n",
    "all_data.loc[(all_data['YearBuilt']>1951) & (all_data['YearBuilt']<=1971), 'YearBuilt'] = 5\n",
    "all_data.loc[(all_data['YearBuilt']>1971) & (all_data['YearBuilt']<=1990), 'YearBuilt'] = 6\n",
    "all_data.loc[all_data['YearBuilt']>1990, 'YearBuilt'] = 7\n",
    "all_data['YearBuilt'] = all_data['YearBuilt'].astype(int)\n",
    "\n",
    "all_data.drop('YearBuilt_Band', axis=1, inplace=True)\n",
    "\n",
    "all_data = pd.get_dummies(all_data, columns = [\"YearBuilt\"], prefix=\"YearBuilt\")\n",
    "all_data.head(3)"
   ]
  },
  {
   "cell_type": "markdown",
   "metadata": {
    "_cell_guid": "50f69c79-3b30-4673-9169-b65e27400f70",
    "_uuid": "3bdd68e110e3a0d39439871ce103a3110c040ebf"
   },
   "source": [
    "***Foundation***\n",
    "- Type of foundation."
   ]
  },
  {
   "cell_type": "code",
   "execution_count": null,
   "metadata": {
    "_cell_guid": "3e9a538a-a5ff-40df-8ab1-16269cd918b6",
    "_uuid": "8eca249dfb6c6434bbb8a262d703ae7afe2dca75"
   },
   "outputs": [],
   "source": [
    "plt.subplots(figsize =(20, 5))\n",
    "\n",
    "plt.subplot(1, 3, 1)\n",
    "sns.boxplot(x=\"Foundation\", y=\"SalePrice\", data=train, palette = mycols);\n",
    "\n",
    "plt.subplot(1, 3, 2)\n",
    "sns.stripplot(x=\"Foundation\", y=\"SalePrice\", data=train, size = 5, jitter = True, palette = mycols);\n",
    "\n",
    "plt.subplot(1, 3, 3)\n",
    "sns.barplot(x=\"Foundation\", y=\"SalePrice\", data=train, palette = mycols);"
   ]
  },
  {
   "cell_type": "markdown",
   "metadata": {
    "_cell_guid": "1847d157-149a-4e7c-8b97-32af92445381",
    "_uuid": "c2456a3478da53adca02bddd49e9adc08b89638f"
   },
   "source": [
    "- We have 3 classes with high frequency, however we have 3 of low frequency.\n",
    "- Due to the large difference in median and mean SalePrice's across the 3 lower frequent classes, I am not going to cluster these together. \n",
    "- Also since this feature is not ordinal, labelling does not make sense. Instead I will create dummy variables."
   ]
  },
  {
   "cell_type": "code",
   "execution_count": null,
   "metadata": {
    "_cell_guid": "f570e649-8aa6-4a30-ba42-fe39e62d911f",
    "_uuid": "3fb1e6c2314ab712ba68b3c973e7e9801f053c41"
   },
   "outputs": [],
   "source": [
    "all_data = pd.get_dummies(all_data, columns = [\"Foundation\"], prefix=\"Foundation\")\n",
    "all_data.head(3)"
   ]
  },
  {
   "cell_type": "markdown",
   "metadata": {
    "_cell_guid": "0290faee-542f-4647-9aa0-dd4dfee8ebea",
    "_uuid": "57393d64e1b4bbfdc045e02ec8852cfd1dba9f0f"
   },
   "source": [
    "***Functional***\n",
    "- Home functionality."
   ]
  },
  {
   "cell_type": "code",
   "execution_count": null,
   "metadata": {
    "_cell_guid": "6e753f66-103b-459a-817d-5af1d7dabe84",
    "_uuid": "ef8a8e58fd561531535da7a2a49415a338b67a93"
   },
   "outputs": [],
   "source": [
    "plt.subplots(figsize =(20, 5))\n",
    "\n",
    "plt.subplot(1, 3, 1)\n",
    "sns.boxplot(x=\"Functional\", y=\"SalePrice\", data=train, palette = mycols)\n",
    "\n",
    "plt.subplot(1, 3, 2)\n",
    "sns.stripplot(x=\"Functional\", y=\"SalePrice\", data=train, size = 5, jitter = True, palette = mycols);\n",
    "\n",
    "plt.subplot(1, 3, 3)\n",
    "sns.barplot(x=\"Functional\", y=\"SalePrice\", data=train, palette = mycols);"
   ]
  },
  {
   "cell_type": "markdown",
   "metadata": {
    "_cell_guid": "d51ae212-a578-40bf-bdbe-4bbed22e47ab",
    "_uuid": "e5cb5c7f1a734c604ee10ca95005defe4ee8aca0"
   },
   "source": [
    "- This categorical feature shows that most houses have \"Typ\" functionality, and looking at the data description leads me to believe that there is an order within these categories, \"Typ\" being of the highest order.\n",
    "- Therefore, I will replace the values of this feature by hand with numbers."
   ]
  },
  {
   "cell_type": "code",
   "execution_count": null,
   "metadata": {
    "_cell_guid": "bae29062-8242-499e-8c99-49ac1cfa6ca2",
    "_uuid": "adc7f34337beb04bd1a78adee0c1b392a8d2f5cc"
   },
   "outputs": [],
   "source": [
    "all_data['Functional'] = all_data['Functional'].map({\"Sev\":1, \"Maj2\":2, \"Maj1\":3, \"Mod\":4, \"Min2\":5, \"Min1\":6, \"Typ\":7})\n",
    "all_data['Functional'].unique()"
   ]
  },
  {
   "cell_type": "markdown",
   "metadata": {
    "_cell_guid": "a7348b3e-9a80-4f31-8098-3070c749c0a4",
    "_uuid": "08a3969ee1247e21073c140693673cc1b93a622f"
   },
   "source": [
    "<a id='exterior'></a>\n",
    "#### 4.2.4 - Exterior\n",
    "\n",
    "***RoofStyle***\n",
    "- Type of roof."
   ]
  },
  {
   "cell_type": "code",
   "execution_count": null,
   "metadata": {
    "_cell_guid": "e350aad7-05c1-4451-ad0f-2e99ee2f792c",
    "_uuid": "8cdfa8e18f9d79df9a0fd7cf767971c591c6f9cc"
   },
   "outputs": [],
   "source": [
    "plt.subplots(figsize =(20, 5))\n",
    "\n",
    "plt.subplot(1, 3, 1)\n",
    "sns.boxplot(x=\"RoofStyle\", y=\"SalePrice\", data=train, palette = mycols);\n",
    "\n",
    "plt.subplot(1, 3, 2)\n",
    "sns.stripplot(x=\"RoofStyle\", y=\"SalePrice\", data=train, size = 5, jitter = True, palette = mycols);\n",
    "\n",
    "plt.subplot(1, 3, 3)\n",
    "sns.barplot(x=\"RoofStyle\", y=\"SalePrice\", data=train, palette = mycols);"
   ]
  },
  {
   "cell_type": "markdown",
   "metadata": {
    "_cell_guid": "757ef871-23eb-4f01-ac6f-e4c45f223ac7",
    "_uuid": "744aef2602c6154da29df9a550d2d0a530c13276"
   },
   "source": [
    "- This feature has two highly frequent categories but the values of SalePrice differ between each.\n",
    "- Since this is a categorical feature without order, I will create dummy variables."
   ]
  },
  {
   "cell_type": "code",
   "execution_count": null,
   "metadata": {
    "_cell_guid": "f4e829f5-40f0-4ab9-946e-e8152195502b",
    "_uuid": "9324b38496d5f8cfd7855861bdd203e2d75c2f5d"
   },
   "outputs": [],
   "source": [
    "all_data = pd.get_dummies(all_data, columns = [\"RoofStyle\"], prefix=\"RoofStyle\")\n",
    "all_data.head(3)"
   ]
  },
  {
   "cell_type": "markdown",
   "metadata": {
    "_cell_guid": "ebedea58-3a16-4275-a4f8-520cdbf1e36b",
    "_uuid": "4f11e808957a1e5e3b1ed35fcd11a5f4bd6e9a25"
   },
   "source": [
    "***RoofMatl***\n",
    "- Roof material."
   ]
  },
  {
   "cell_type": "code",
   "execution_count": null,
   "metadata": {
    "_cell_guid": "e7d4bfde-411b-4934-98a1-e62446c8259f",
    "_uuid": "1c35b769562d8d6f4cd32b1666f082a9cc6c85be"
   },
   "outputs": [],
   "source": [
    "plt.subplots(figsize =(20, 5))\n",
    "\n",
    "plt.subplot(1, 3, 1)\n",
    "sns.boxplot(x=\"RoofMatl\", y=\"SalePrice\", data=train, palette = mycols);\n",
    "\n",
    "plt.subplot(1, 3, 2)\n",
    "sns.stripplot(x=\"RoofMatl\", y=\"SalePrice\", data=train, size = 5, jitter = True, palette = mycols);\n",
    "\n",
    "plt.subplot(1, 3, 3)\n",
    "sns.barplot(x=\"RoofMatl\", y=\"SalePrice\", data=train, palette = mycols);"
   ]
  },
  {
   "cell_type": "markdown",
   "metadata": {
    "_cell_guid": "5365d830-6cb5-4257-a6c7-6a2632350660",
    "_uuid": "a1fe5f8e01937a96cce08ab881623339f6aded14"
   },
   "source": [
    "- Interestingly, there are very few observations in the training data for several classes. However, these will be dropped during feature reduction if they turn out to be insignificant.\n",
    "- Hence, I will create dummy variables."
   ]
  },
  {
   "cell_type": "code",
   "execution_count": null,
   "metadata": {
    "_cell_guid": "4cb029a5-cf71-421e-bb90-a484898433c7",
    "_uuid": "f154878c1d6ea461e03a95d2cae4b8ee7574c969"
   },
   "outputs": [],
   "source": [
    "all_data = pd.get_dummies(all_data, columns = [\"RoofMatl\"], prefix=\"RoofMatl\")\n",
    "all_data.head(3)"
   ]
  },
  {
   "cell_type": "markdown",
   "metadata": {
    "_cell_guid": "eaba8b16-380c-48b0-93ed-0213c38ef929",
    "_uuid": "a171577d06306d83354ce3e45c4b5f79c4e4ef02"
   },
   "source": [
    "***Exterior1st*** & ***Exterior2nd***\n",
    "- Exterior covering on house."
   ]
  },
  {
   "cell_type": "code",
   "execution_count": null,
   "metadata": {
    "_cell_guid": "55c83859-8d3e-4d64-a995-88af38a060c7",
    "_uuid": "761a9be3d47888ff800ef5b6b7241e8e57cbabb0"
   },
   "outputs": [],
   "source": [
    "plt.subplots(figsize =(35, 5))\n",
    "\n",
    "plt.subplot(1, 3, 1)\n",
    "sns.boxplot(x=\"Exterior1st\", y=\"SalePrice\", data=train, palette = mycols);\n",
    "\n",
    "plt.subplot(1, 3, 2)\n",
    "sns.stripplot(x=\"Exterior1st\", y=\"SalePrice\", data=train, size = 5, jitter = True, palette = mycols);\n",
    "\n",
    "plt.subplot(1, 3, 3)\n",
    "sns.barplot(x=\"Exterior1st\", y=\"SalePrice\", data=train, palette = mycols);"
   ]
  },
  {
   "cell_type": "code",
   "execution_count": null,
   "metadata": {
    "_cell_guid": "5f5d19b6-f12c-4850-a196-6481183a1545",
    "_uuid": "a80220b421e49aef1519c8996a128f3c98f93604"
   },
   "outputs": [],
   "source": [
    "plt.subplots(figsize =(35, 5))\n",
    "\n",
    "plt.subplot(1, 3, 1)\n",
    "sns.boxplot(x=\"Exterior2nd\", y=\"SalePrice\", data=train, palette = mycols);\n",
    "\n",
    "plt.subplot(1, 3, 2)\n",
    "sns.stripplot(x=\"Exterior2nd\", y=\"SalePrice\", data=train, size = 5, jitter = True, palette = mycols);\n",
    "\n",
    "plt.subplot(1, 3, 3)\n",
    "sns.barplot(x=\"Exterior2nd\", y=\"SalePrice\", data=train, palette = mycols);"
   ]
  },
  {
   "cell_type": "markdown",
   "metadata": {
    "_cell_guid": "98280799-b2df-4c94-a5ab-893ccf039fca",
    "_uuid": "2aea9baf5de666bbd1ca958361ffcccb44c8319a"
   },
   "source": [
    "- Looking at these 2 features together, we can see that they exhibit very similar behaviours against SalePrice. This tells me that they are very closely related. \n",
    "- Hence, I will create a flag to indicate whether there is a different 2nd exterior covering to the first.\n",
    "- Then I will keep \"Exterior1st\" and create dummy variables from this."
   ]
  },
  {
   "cell_type": "code",
   "execution_count": null,
   "metadata": {
    "_cell_guid": "da66f827-8189-4876-a936-d3e4778cce3e",
    "_uuid": "bcc6f5684f1d560092b990100f20c376cd2a2337"
   },
   "outputs": [],
   "source": [
    "def Exter2(col):\n",
    "    if col['Exterior2nd'] == col['Exterior1st']:\n",
    "        return 1\n",
    "    else:\n",
    "        return 0\n",
    "    \n",
    "all_data['ExteriorMatch_Flag'] = all_data.apply(Exter2, axis=1)\n",
    "all_data.drop('Exterior2nd', axis=1, inplace=True)\n",
    "\n",
    "all_data = pd.get_dummies(all_data, columns = [\"Exterior1st\"], prefix=\"Exterior1st\")\n",
    "all_data.head(3)"
   ]
  },
  {
   "cell_type": "markdown",
   "metadata": {
    "_cell_guid": "f3dcdd58-5c9e-4f03-8c06-4c07e4115185",
    "_uuid": "b34eb2f60d0e60f8d0913b40b2255867bec52f21"
   },
   "source": [
    "***MasVnrType***\n",
    "- Masonry veneer type."
   ]
  },
  {
   "cell_type": "code",
   "execution_count": null,
   "metadata": {
    "_cell_guid": "91ecfeb6-d38a-46b6-9a61-4ee260cf7d88",
    "_uuid": "c8cbc913880f031d03f5374f43e21b8c2c91b4f3"
   },
   "outputs": [],
   "source": [
    "plt.subplots(figsize =(20, 5))\n",
    "\n",
    "plt.subplot(1, 3, 1)\n",
    "sns.boxplot(x=\"MasVnrType\", y=\"SalePrice\", data=train, palette = mycols);\n",
    "\n",
    "plt.subplot(1, 3, 2)\n",
    "sns.stripplot(x=\"MasVnrType\", y=\"SalePrice\", data=train, size = 5, jitter = True, palette = mycols);\n",
    "\n",
    "plt.subplot(1, 3, 3)\n",
    "sns.barplot(x=\"MasVnrType\", y=\"SalePrice\", data=train, palette = mycols);"
   ]
  },
  {
   "cell_type": "markdown",
   "metadata": {
    "_cell_guid": "bf069202-d3df-4455-b2cb-06e111a20397",
    "_uuid": "659f683d0e1c8124661b178f1593db63caf5e013"
   },
   "source": [
    "- Each class has quite a unique range of values for SalePrice, the only class that stands out is \"BrkCmn\", which has a low frequency.\n",
    "- Clearly \"Stone\" demands the highest SalePrice on average, although there are some extreme values within \"BrkFace\".\n",
    "- Since this is a categorical feature without order, I will create dummy variables here."
   ]
  },
  {
   "cell_type": "code",
   "execution_count": null,
   "metadata": {
    "_cell_guid": "8e044e83-3841-4c2a-ba18-5d48707a656c",
    "_uuid": "bdccab36ecc84b7eae47041f70e61d8a49f04242"
   },
   "outputs": [],
   "source": [
    "all_data = pd.get_dummies(all_data, columns = [\"MasVnrType\"], prefix=\"MasVnrType\")\n",
    "all_data.head(3)"
   ]
  },
  {
   "cell_type": "markdown",
   "metadata": {
    "_cell_guid": "b8a7bd61-240c-473d-8166-85e03c9af184",
    "_uuid": "06153f004de01642c5b162598b9e224e8f1405c9"
   },
   "source": [
    "***MasVnrArea***\n",
    "- Masonry veneer area in square feet."
   ]
  },
  {
   "cell_type": "code",
   "execution_count": null,
   "metadata": {
    "_cell_guid": "23804723-b1a4-47a6-b1e8-23a9f370b61b",
    "_uuid": "5d6b8665a424edf03638b4952cbe8065f87623fa"
   },
   "outputs": [],
   "source": [
    "grid = plt.GridSpec(2, 3, wspace=0.1, hspace=0.15)\n",
    "plt.subplots(figsize =(30, 15))\n",
    "\n",
    "plt.subplot(grid[0, 0])\n",
    "g = sns.regplot(x=train['MasVnrArea'], y=train['SalePrice'], fit_reg=False, label = \"corr: %2f\"%(pearsonr(train['MasVnrArea'], train['SalePrice'])[0]))\n",
    "g = g.legend(loc=\"best\")\n",
    "\n",
    "plt.subplot(grid[0, 1:])\n",
    "sns.boxplot(x=\"Neighborhood\", y=\"MasVnrArea\", data=train, palette = mycols)\n",
    "\n",
    "plt.subplot(grid[1, 0]);\n",
    "sns.barplot(x=\"BldgType\", y=\"MasVnrArea\", data=train, palette = mycols)\n",
    "\n",
    "plt.subplot(grid[1, 1]);\n",
    "sns.barplot(x=\"HouseStyle\", y=\"MasVnrArea\", data=train, palette = mycols)\n",
    "\n",
    "plt.subplot(grid[1, 2]);\n",
    "sns.barplot(x=\"LotShape\", y=\"MasVnrArea\", data=train, palette = mycols);"
   ]
  },
  {
   "cell_type": "markdown",
   "metadata": {
    "_cell_guid": "bb028b63-626a-4665-941e-31d3735a680b",
    "_uuid": "802f35d0571881c6a253a411ba8af68a4e8db960"
   },
   "source": [
    "- From this we can see that this feature has negligible correlation with SalePrice, and the values for this feature vary widely based on house type, style and size. \n",
    "- Since this feature is insignificant in regards to SalePrice, and it also correlates highly with \"MasVnrType\" (if \"MasVnrType = \"None\" then it has to be equal to 0), I will drop this feature."
   ]
  },
  {
   "cell_type": "code",
   "execution_count": null,
   "metadata": {
    "_cell_guid": "c1c6d265-5718-42c5-8aa9-5698a3b87b3c",
    "_uuid": "4cda93d9fe35ed029eb68ed49ef55cbf8a2c47c6",
    "collapsed": true
   },
   "outputs": [],
   "source": [
    "all_data.drop('MasVnrArea', axis=1, inplace=True)"
   ]
  },
  {
   "cell_type": "markdown",
   "metadata": {
    "_cell_guid": "6ece409b-fcd1-4a9a-a449-ad49d4b26de1",
    "_uuid": "bc7674f57f5176672aad2745ae40a580b2bb6a90"
   },
   "source": [
    "***ExterQual***\n",
    "- Evaluates the quality of the material on the exterior."
   ]
  },
  {
   "cell_type": "code",
   "execution_count": null,
   "metadata": {
    "_cell_guid": "d0c15c49-81b5-4f61-a1e9-ea35d46a7092",
    "_uuid": "42832b6d873907c60660362cd45dcd78f41dfdbd"
   },
   "outputs": [],
   "source": [
    "plt.subplots(figsize =(20, 5))\n",
    "\n",
    "plt.subplot(1, 3, 1)\n",
    "sns.boxplot(x=\"ExterQual\", y=\"SalePrice\", data=train, order=['Fa','TA','Gd', 'Ex'], palette = mycols)\n",
    "\n",
    "plt.subplot(1, 3, 2)\n",
    "sns.stripplot(x=\"ExterQual\", y=\"SalePrice\", data=train, size = 5, jitter = True, order=['Fa','TA','Gd', 'Ex'], palette = mycols);\n",
    "\n",
    "plt.subplot(1, 3, 3)\n",
    "sns.barplot(x=\"ExterQual\", y=\"SalePrice\", data=train, order=['Fa','TA','Gd', 'Ex'], palette = mycols);"
   ]
  },
  {
   "cell_type": "markdown",
   "metadata": {
    "_cell_guid": "341e6136-79c7-485d-a363-c8495bb87b25",
    "_uuid": "a864c650f96474483cdaa0f4bf24564fbaf39ca1"
   },
   "source": [
    "- We can see here that this feature shows a clear order and has a positive correlation with SalePrice. As the quality increases, so does the SalePrice. \n",
    "- We see the largest number of observations within the two middle classes, and the lowest observations within the lowest class.\n",
    "- Since this is a categorical feature with order, I will replace these values by hand."
   ]
  },
  {
   "cell_type": "code",
   "execution_count": null,
   "metadata": {
    "_cell_guid": "11f2713c-9164-40a7-91ba-3bb0189824d1",
    "_uuid": "58f07a2a5a533fdb8d6240c8ee0914f724df0556"
   },
   "outputs": [],
   "source": [
    "all_data['ExterQual'] = all_data['ExterQual'].map({\"Fa\":1, \"TA\":2, \"Gd\":3, \"Ex\":4})\n",
    "all_data['ExterQual'].unique()"
   ]
  },
  {
   "cell_type": "markdown",
   "metadata": {
    "_cell_guid": "d0bf30fa-f432-4745-8d0c-03835aac8195",
    "_uuid": "c571f696015682e393681e18b2ee59a923b5b5b9"
   },
   "source": [
    "***ExterCond***\n",
    "- Evaluates the present condition of the material on the exterior. "
   ]
  },
  {
   "cell_type": "code",
   "execution_count": null,
   "metadata": {
    "_cell_guid": "5058ea01-f6bd-469f-8ae8-e7b227e46fd1",
    "_uuid": "52431dcc7750998f65708e8bacf10810b68c472b"
   },
   "outputs": [],
   "source": [
    "plt.subplots(figsize =(20, 5))\n",
    "\n",
    "plt.subplot(1, 3, 1)\n",
    "sns.boxplot(x=\"ExterCond\", y=\"SalePrice\", data=train, order=['Po','Fa','TA','Gd', 'Ex'], palette = mycols)\n",
    "\n",
    "plt.subplot(1, 3, 2)\n",
    "sns.stripplot(x=\"ExterCond\", y=\"SalePrice\", data=train, size = 5, jitter = True, order=['Po','Fa','TA','Gd', 'Ex'], palette = mycols);\n",
    "\n",
    "plt.subplot(1, 3, 3)\n",
    "sns.barplot(x=\"ExterCond\", y=\"SalePrice\", data=train, order=['Po','Fa','TA','Gd', 'Ex'], palette = mycols);"
   ]
  },
  {
   "cell_type": "markdown",
   "metadata": {
    "_cell_guid": "333e1e28-52e3-44d4-8869-c1bb1705eb7c",
    "_uuid": "0c1b9397b720b83209a0f81bb3687ee86791fc0d"
   },
   "source": [
    "- Interestingly we see the largest values of SalePrice for the second and third best classes. This is perhaps because of the large frequency of values within these classes, whereas we only see 3 observations within \"Ex\" from the training data.\n",
    "- Since this categorical feature has an order, but thr SalePrice does not necessarily correlate with this order... I will create dummy variables."
   ]
  },
  {
   "cell_type": "code",
   "execution_count": null,
   "metadata": {
    "_cell_guid": "47afbd81-3dd5-4bbe-adb0-f173513cf2df",
    "_uuid": "2c1592f6a29033af95e7ac6aae6dfa3815d09a7a"
   },
   "outputs": [],
   "source": [
    "all_data = pd.get_dummies(all_data, columns = [\"ExterCond\"], prefix=\"ExterCond\")\n",
    "all_data.head(3)"
   ]
  },
  {
   "cell_type": "markdown",
   "metadata": {
    "_cell_guid": "3dbdf89c-2fd4-47d3-9a2f-66c60ccebac1",
    "_uuid": "d481db82c9e77ffb27efb7fc54c7c6e0933cdd50"
   },
   "source": [
    "***GarageType***\n",
    "- Garage location."
   ]
  },
  {
   "cell_type": "code",
   "execution_count": null,
   "metadata": {
    "_cell_guid": "acfcb316-7eac-4bcd-bb1c-4fc089b0f771",
    "_uuid": "4c3a18b5b096aa79ac9e255c7a87675853adaabd"
   },
   "outputs": [],
   "source": [
    "plt.subplots(figsize =(20, 5))\n",
    "\n",
    "plt.subplot(1, 3, 1)\n",
    "sns.boxplot(x=\"GarageType\", y=\"SalePrice\", data=train, palette = mycols)\n",
    "\n",
    "plt.subplot(1, 3, 2)\n",
    "sns.stripplot(x=\"GarageType\", y=\"SalePrice\", data=train, size = 5, jitter = True, palette = mycols);\n",
    "\n",
    "plt.subplot(1, 3, 3)\n",
    "sns.barplot(x=\"GarageType\", y=\"SalePrice\", data=train, palette = mycols);"
   ]
  },
  {
   "cell_type": "markdown",
   "metadata": {
    "_cell_guid": "a3bf5377-9f5a-4caa-853a-e2ead093b9e1",
    "_uuid": "84d82395d2cdb81f55cd394be61ccd7c69e8a7e5"
   },
   "source": [
    "- Here we see \"BuiltIn\" and \"Attched\" having the 2 highest average SalePrices, with only a few extreme values within each class.\n",
    "- Since this is categorical without order, I will create dummy variables."
   ]
  },
  {
   "cell_type": "code",
   "execution_count": null,
   "metadata": {
    "_cell_guid": "20acae0b-e5d0-45c6-ba84-50409a07697f",
    "_uuid": "d6c09241993d096c86d12bba431483db2c160c64"
   },
   "outputs": [],
   "source": [
    "all_data = pd.get_dummies(all_data, columns = [\"GarageType\"], prefix=\"GarageType\")\n",
    "all_data.head(3)"
   ]
  },
  {
   "cell_type": "markdown",
   "metadata": {
    "_cell_guid": "30409fec-3e14-4d5b-b202-91f9cc8c5016",
    "_uuid": "e60de5eead5e037026821c39dc67cebee5314323"
   },
   "source": [
    "***GarageYrBlt***\n",
    "- Year garage was built."
   ]
  },
  {
   "cell_type": "code",
   "execution_count": null,
   "metadata": {
    "_cell_guid": "db988d5e-9cea-40a4-97e7-8e69f64a9cc4",
    "_uuid": "d3f2e1d699757fa32d799fb6aaa85c1880b07b1f"
   },
   "outputs": [],
   "source": [
    "plt.subplots(figsize =(50, 10))\n",
    "\n",
    "sns.boxplot(x=\"GarageYrBlt\", y=\"SalePrice\", data=train, palette = mycols);"
   ]
  },
  {
   "cell_type": "markdown",
   "metadata": {
    "_cell_guid": "76f6d5e7-1a8e-42f0-8c11-af2dd9abd293",
    "_uuid": "a9f59d665da28c152793ac4388220e44e9cbcdeb"
   },
   "source": [
    "- We can see a slight upward trend as the garage building year becomes more modern.\n",
    "- For this feature I am going to create bins and the dummy variables."
   ]
  },
  {
   "cell_type": "code",
   "execution_count": null,
   "metadata": {
    "_cell_guid": "99fb2bc1-80cb-4473-b499-8abc2b2f74fe",
    "_uuid": "86e17d287fafc2587f108cf2687144185c7a6893"
   },
   "outputs": [],
   "source": [
    "all_data['GarageYrBlt_Band'] = pd.qcut(all_data['GarageYrBlt'], 3)\n",
    "all_data['GarageYrBlt_Band'].unique()"
   ]
  },
  {
   "cell_type": "code",
   "execution_count": null,
   "metadata": {
    "_cell_guid": "f7b9a9db-c274-49d3-b21a-eb62c5201b0a",
    "_uuid": "f62c72ebfdff7731c097a008b80b2ec39258e116"
   },
   "outputs": [],
   "source": [
    "all_data.loc[all_data['GarageYrBlt']<=1964, 'GarageYrBlt'] = 1\n",
    "all_data.loc[(all_data['GarageYrBlt']>1964) & (all_data['GarageYrBlt']<=1996), 'GarageYrBlt'] = 2\n",
    "all_data.loc[all_data['GarageYrBlt']>1996, 'GarageYrBlt'] = 3\n",
    "all_data['GarageYrBlt'] = all_data['GarageYrBlt'].astype(int)\n",
    "\n",
    "all_data.drop('GarageYrBlt_Band', axis=1, inplace=True)\n",
    "\n",
    "all_data = pd.get_dummies(all_data, columns = [\"GarageYrBlt\"], prefix=\"GarageYrBlt\")\n",
    "all_data.head(3)"
   ]
  },
  {
   "cell_type": "markdown",
   "metadata": {
    "_cell_guid": "422f13d7-da50-4d7a-a44c-3f42aae4b826",
    "_uuid": "3fa4b4b2daf20ca9d10f3e8b6ee0515407b3841c"
   },
   "source": [
    "***GarageFinish***\n",
    "- Interior finish of the garage."
   ]
  },
  {
   "cell_type": "code",
   "execution_count": null,
   "metadata": {
    "_cell_guid": "950992de-f7e1-440d-b509-b20cf5e04ae6",
    "_uuid": "ea26b80255f17a68039788eb5efce5daa4c2c13f"
   },
   "outputs": [],
   "source": [
    "plt.subplots(figsize =(20, 5))\n",
    "\n",
    "plt.subplot(1, 3, 1)\n",
    "sns.boxplot(x=\"GarageFinish\", y=\"SalePrice\", data=train, palette = mycols)\n",
    "\n",
    "plt.subplot(1, 3, 2)\n",
    "sns.stripplot(x=\"GarageFinish\", y=\"SalePrice\", data=train, size = 5, jitter = True, palette = mycols);\n",
    "\n",
    "plt.subplot(1, 3, 3)\n",
    "sns.barplot(x=\"GarageFinish\", y=\"SalePrice\", data=train, palette = mycols);"
   ]
  },
  {
   "cell_type": "markdown",
   "metadata": {
    "_cell_guid": "397f0063-cdab-475d-a107-73890e1a5193",
    "_uuid": "8283d5ec13eadd01ec351f4022ce1738d1d65440"
   },
   "source": [
    "- Here we see a nice split between the 3 classes, with \"Fin\" producing the highest SalePrice's on average.\n",
    "- I will create dummy variables for this feature."
   ]
  },
  {
   "cell_type": "code",
   "execution_count": null,
   "metadata": {
    "_cell_guid": "52fd81f1-3af5-4355-a82c-d46d8355b76d",
    "_uuid": "241ac86ec8d6f66fd369a52708594fa5448e6cd1"
   },
   "outputs": [],
   "source": [
    "all_data = pd.get_dummies(all_data, columns = [\"GarageFinish\"], prefix=\"GarageFinish\")\n",
    "all_data.head(3)"
   ]
  },
  {
   "cell_type": "markdown",
   "metadata": {
    "_cell_guid": "5c647af0-846b-4fd4-8e3b-89b10139c3df",
    "_uuid": "d3c0691353257097ce645fc7388559427f6857d8"
   },
   "source": [
    "***GarageCars***\n",
    "- Size of the garage in car capacity."
   ]
  },
  {
   "cell_type": "code",
   "execution_count": null,
   "metadata": {
    "_cell_guid": "2947b34f-64b6-44a6-a767-ba28e6ce8ea4",
    "_uuid": "a17e78b8e5cf41f84961738dea3101556bd10d9f"
   },
   "outputs": [],
   "source": [
    "plt.subplots(figsize =(20, 5))\n",
    "\n",
    "plt.subplot(1, 3, 1)\n",
    "sns.boxplot(x=\"GarageCars\", y=\"SalePrice\", data=train, palette = mycols)\n",
    "\n",
    "plt.subplot(1, 3, 2)\n",
    "sns.stripplot(x=\"GarageCars\", y=\"SalePrice\", data=train, size = 5, jitter = True, palette = mycols);\n",
    "\n",
    "plt.subplot(1, 3, 3)\n",
    "sns.barplot(x=\"GarageCars\", y=\"SalePrice\", data=train, palette = mycols);"
   ]
  },
  {
   "cell_type": "markdown",
   "metadata": {
    "_cell_guid": "4747f1e5-2acb-4bec-adda-50ef5414cda8",
    "_uuid": "e7908e80dff1f57538590a278b4442e20c77225b"
   },
   "source": [
    "- We generally see a positive correlation with an increasing garage car capacity. However, we see a slight dip for 4 cars I believe due to the low frequency of houses with a 4 car garage."
   ]
  },
  {
   "cell_type": "markdown",
   "metadata": {
    "_cell_guid": "5640377e-a47b-4dc1-bda9-6ee780a5af36",
    "_uuid": "6399a0a1b9194604313f01c7b36b836baadcb7ea"
   },
   "source": [
    "***GarageArea***\n",
    "- Size of the garage in square feet."
   ]
  },
  {
   "cell_type": "code",
   "execution_count": null,
   "metadata": {
    "_cell_guid": "25b9d47a-86eb-4864-8dfb-290f67e85942",
    "_uuid": "d9c5587359826aa63b5b2f4680b406ba49cfe2c3"
   },
   "outputs": [],
   "source": [
    "grid = plt.GridSpec(2, 3, wspace=0.1, hspace=0.15)\n",
    "plt.subplots(figsize =(30, 15))\n",
    "\n",
    "plt.subplot(grid[0, 0])\n",
    "g = sns.regplot(x=train['GarageArea'], y=train['SalePrice'], fit_reg=False, label = \"corr: %2f\"%(pearsonr(train['GarageArea'], train['SalePrice'])[0]))\n",
    "g = g.legend(loc=\"best\")\n",
    "\n",
    "plt.subplot(grid[0, 1:])\n",
    "sns.boxplot(x=\"Neighborhood\", y=\"GarageArea\", data=train, palette = mycols)\n",
    "\n",
    "plt.subplot(grid[1, 0]);\n",
    "sns.barplot(x=\"BldgType\", y=\"GarageArea\", data=train, palette = mycols)\n",
    "\n",
    "plt.subplot(grid[1, 1]);\n",
    "sns.barplot(x=\"HouseStyle\", y=\"GarageArea\", data=train, palette = mycols)\n",
    "\n",
    "plt.subplot(grid[1, 2]);\n",
    "sns.barplot(x=\"LotShape\", y=\"GarageArea\", data=train, palette = mycols);"
   ]
  },
  {
   "cell_type": "markdown",
   "metadata": {
    "_cell_guid": "db663b10-0848-4d4d-9728-208d9e47e303",
    "_uuid": "5db339332811fa3d6ba86b0d46c14bb3fa32c66c"
   },
   "source": [
    "- This has an extremely high positive correlation with SalePrice, and it is highly dependant on Neighborhood, building type and style of the house.\n",
    "- This could be an important feature in the analysis, so I will bin this feature and create dummy variables."
   ]
  },
  {
   "cell_type": "code",
   "execution_count": null,
   "metadata": {
    "_cell_guid": "474fbd33-8db5-42ef-952b-763d03281e63",
    "_uuid": "305b17bbe63dbb9c6c96391bbe3ff03c1dd94a12"
   },
   "outputs": [],
   "source": [
    "all_data['GarageArea_Band'] = pd.cut(all_data['GarageArea'], 3)\n",
    "all_data['GarageArea_Band'].unique()"
   ]
  },
  {
   "cell_type": "code",
   "execution_count": null,
   "metadata": {
    "_cell_guid": "8e051ed8-bfea-4ff7-a709-c27c33eb0076",
    "_uuid": "c5b7e5ad817ea0a31020e5aa92cea720b885fa3d"
   },
   "outputs": [],
   "source": [
    "all_data.loc[all_data['GarageArea']<=496, 'GarageArea'] = 1\n",
    "all_data.loc[(all_data['GarageArea']>496) & (all_data['GarageArea']<=992), 'GarageArea'] = 2\n",
    "all_data.loc[all_data['GarageArea']>992, 'GarageArea'] = 3\n",
    "all_data['GarageArea'] = all_data['GarageArea'].astype(int)\n",
    "\n",
    "all_data.drop('GarageArea_Band', axis=1, inplace=True)\n",
    "\n",
    "all_data = pd.get_dummies(all_data, columns = [\"GarageArea\"], prefix=\"GarageArea\")\n",
    "all_data.head(3)"
   ]
  },
  {
   "cell_type": "markdown",
   "metadata": {
    "_cell_guid": "42d00343-c178-46b2-b919-a62f797ab93f",
    "_uuid": "1c7498da3fa21a666aa5eb62289769ee64a0c652"
   },
   "source": [
    "***GarageQual***\n",
    "- Garage quality."
   ]
  },
  {
   "cell_type": "code",
   "execution_count": null,
   "metadata": {
    "_cell_guid": "8a06e408-c712-4efe-bd1d-50cb852c361e",
    "_uuid": "4aa672180763e423a06c4b0a391a141cc871469d"
   },
   "outputs": [],
   "source": [
    "plt.subplots(figsize =(20, 5))\n",
    "\n",
    "plt.subplot(1, 3, 1)\n",
    "sns.boxplot(x=\"GarageQual\", y=\"SalePrice\", data=train, order=[\"Po\", \"Fa\", \"TA\", \"Gd\", \"Ex\"], palette = mycols)\n",
    "\n",
    "plt.subplot(1, 3, 2)\n",
    "sns.stripplot(x=\"GarageQual\", y=\"SalePrice\", data=train, size = 5, jitter = True, order=[\"Po\", \"Fa\", \"TA\", \"Gd\", \"Ex\"], palette = mycols);\n",
    "\n",
    "plt.subplot(1, 3, 3)\n",
    "sns.barplot(x=\"GarageQual\", y=\"SalePrice\", data=train, order=[\"Po\", \"Fa\", \"TA\", \"Gd\", \"Ex\"], palette = mycols);"
   ]
  },
  {
   "cell_type": "markdown",
   "metadata": {
    "_cell_guid": "252ef8b8-fbbd-4456-934f-845a4f1b60ae",
    "_uuid": "8f8142dee399fddf197ceca7ae3c8517ec64feff"
   },
   "source": [
    "- We see a lot of homes having \"TA\" quality garages, with very few homes having high quality and low quality ones.\n",
    "- I am going to cluster the classes here, and then create dummy variables."
   ]
  },
  {
   "cell_type": "code",
   "execution_count": null,
   "metadata": {
    "_cell_guid": "a1c7767b-0b6b-471d-a7c2-84b2f6f85fdf",
    "_uuid": "cd58eec425b679bee80fa78056119f40da6b37d2"
   },
   "outputs": [],
   "source": [
    "all_data['GarageQual'] = all_data['GarageQual'].map({\"None\":\"None\", \"Po\":\"Low\", \"Fa\":\"Low\", \"TA\":\"TA\", \"Gd\":\"High\", \"Ex\":\"High\"})\n",
    "all_data['GarageQual'].unique()"
   ]
  },
  {
   "cell_type": "code",
   "execution_count": null,
   "metadata": {
    "_cell_guid": "431cd0af-67e9-450d-ae8c-544d7758429b",
    "_uuid": "323c76b3dbb4086dc75056603a9cfd91669961c1"
   },
   "outputs": [],
   "source": [
    "all_data = pd.get_dummies(all_data, columns = [\"GarageQual\"], prefix=\"GarageQual\")\n",
    "all_data.head(3)"
   ]
  },
  {
   "cell_type": "markdown",
   "metadata": {
    "_cell_guid": "68d0139c-2ec6-46ed-9ddd-1e8e05b7b553",
    "_uuid": "8ba224354b97efd10e526a54a504ed492bb0078a"
   },
   "source": [
    "***GarageCond***\n",
    "- Garage condition."
   ]
  },
  {
   "cell_type": "code",
   "execution_count": null,
   "metadata": {
    "_cell_guid": "25ed3b33-6530-4374-858a-bfd62d0d036a",
    "_uuid": "87186119e2ccc6e8bf226d5973b3635e538f7f6b"
   },
   "outputs": [],
   "source": [
    "plt.subplots(figsize =(20, 5))\n",
    "\n",
    "plt.subplot(1, 3, 1)\n",
    "sns.boxplot(x=\"GarageCond\", y=\"SalePrice\", data=train, order=[\"Po\", \"Fa\", \"TA\", \"Gd\", \"Ex\"], palette = mycols)\n",
    "\n",
    "plt.subplot(1, 3, 2)\n",
    "sns.stripplot(x=\"GarageCond\", y=\"SalePrice\", data=train, size = 5, jitter = True, order=[\"Po\", \"Fa\", \"TA\", \"Gd\", \"Ex\"], palette = mycols);\n",
    "\n",
    "plt.subplot(1, 3, 3)\n",
    "sns.barplot(x=\"GarageCond\", y=\"SalePrice\", data=train, order=[\"Po\", \"Fa\", \"TA\", \"Gd\", \"Ex\"], palette = mycols);"
   ]
  },
  {
   "cell_type": "markdown",
   "metadata": {
    "_cell_guid": "9903c177-2b58-42eb-9d03-da914c3e7219",
    "_uuid": "facdc97fc7285b0115f9b1d297daeb8125940fc7"
   },
   "source": [
    "- We see a fairly similar pattern here with the previous feature. We see a slight positive correlation and then a dip, I believe due to the low number of houses that have \"Ex\" or \"Gd\" garage conditions. \n",
    "- Similarly to before, I am going to cluster and then dummy this feature."
   ]
  },
  {
   "cell_type": "code",
   "execution_count": null,
   "metadata": {
    "_cell_guid": "edd8bb6a-9f56-480a-89cc-fbc249bb6aa9",
    "_uuid": "895d17b9a8343ab0fa429260473581d5240f2ed6"
   },
   "outputs": [],
   "source": [
    "all_data['GarageCond'] = all_data['GarageCond'].map({\"None\":\"None\", \"Po\":\"Low\", \"Fa\":\"Low\", \"TA\":\"TA\", \"Gd\":\"High\", \"Ex\":\"High\"})\n",
    "all_data['GarageCond'].unique()"
   ]
  },
  {
   "cell_type": "code",
   "execution_count": null,
   "metadata": {
    "_cell_guid": "1cce9015-3aef-40f7-b3b6-2e4d832dca21",
    "_uuid": "b3304dde4d06ac09cd582dc154994e14b8787326"
   },
   "outputs": [],
   "source": [
    "all_data = pd.get_dummies(all_data, columns = [\"GarageCond\"], prefix=\"GarageCond\")\n",
    "all_data.head(3)"
   ]
  },
  {
   "cell_type": "markdown",
   "metadata": {
    "_cell_guid": "e3c4698a-dc7c-4fac-befe-3da9597540bd",
    "_uuid": "595245774421dde6911ee69d97f508147119bccc"
   },
   "source": [
    "***WoodDeckSF***\n",
    "- Wood deck area in SF."
   ]
  },
  {
   "cell_type": "code",
   "execution_count": null,
   "metadata": {
    "_cell_guid": "ea9be445-ad19-44bf-87fd-22917bf5b80b",
    "_uuid": "c06a7ea581b1af87ba9c593ea1d11caf0d351241"
   },
   "outputs": [],
   "source": [
    "grid = plt.GridSpec(2, 3, wspace=0.1, hspace=0.15)\n",
    "plt.subplots(figsize =(30, 15))\n",
    "\n",
    "plt.subplot(grid[0, 0])\n",
    "g = sns.regplot(x=train['WoodDeckSF'], y=train['SalePrice'], fit_reg=False, label = \"corr: %2f\"%(pearsonr(train['WoodDeckSF'], train['SalePrice'])[0]))\n",
    "g = g.legend(loc=\"best\")\n",
    "\n",
    "plt.subplot(grid[0, 1:])\n",
    "sns.boxplot(x=\"Neighborhood\", y=\"WoodDeckSF\", data=train)\n",
    "\n",
    "plt.subplot(grid[1, 0]);\n",
    "sns.barplot(x=\"BldgType\", y=\"WoodDeckSF\", data=train, palette = mycols)\n",
    "\n",
    "plt.subplot(grid[1, 1]);\n",
    "sns.barplot(x=\"HouseStyle\", y=\"WoodDeckSF\", data=train, palette = mycols)\n",
    "\n",
    "plt.subplot(grid[1, 2]);\n",
    "sns.barplot(x=\"LotShape\", y=\"WoodDeckSF\", data=train, palette = mycols);"
   ]
  },
  {
   "cell_type": "markdown",
   "metadata": {
    "_cell_guid": "8eb3d00b-e858-438f-b446-b384def302e3",
    "_uuid": "64955f73f75ce6777f1ee5f42b995b1b890de3af"
   },
   "source": [
    "- This feature has a high positive correlation with SalePrice.\n",
    "- We can also see that it varies widely with location, building type, style and size of the lot.\n",
    "- There is a significant number of data points with a value of 0, so I will create a flag to indicate no Wood Deck. Then, since this is a continuous numeric feature, and I believe it to be an important one, I will bin this and then create dummy features. "
   ]
  },
  {
   "cell_type": "code",
   "execution_count": null,
   "metadata": {
    "_cell_guid": "7a17b490-5121-445e-bd90-b1524eff10ce",
    "_uuid": "7edd6c341830dfd83ebdd763b66341a14ce3378e"
   },
   "outputs": [],
   "source": [
    "def WoodDeckFlag(col):\n",
    "    if col['WoodDeckSF'] == 0:\n",
    "        return 1\n",
    "    else:\n",
    "        return 0\n",
    "    \n",
    "all_data['NoWoodDeck_Flag'] = all_data.apply(WoodDeckFlag, axis=1)\n",
    "\n",
    "all_data['WoodDeckSF_Band'] = pd.cut(all_data['WoodDeckSF'], 4)\n",
    "\n",
    "all_data.loc[all_data['WoodDeckSF']<=356, 'WoodDeckSF'] = 1\n",
    "all_data.loc[(all_data['WoodDeckSF']>356) & (all_data['WoodDeckSF']<=712), 'WoodDeckSF'] = 2\n",
    "all_data.loc[(all_data['WoodDeckSF']>712) & (all_data['WoodDeckSF']<=1068), 'WoodDeckSF'] = 3\n",
    "all_data.loc[all_data['WoodDeckSF']>1068, 'WoodDeckSF'] = 4\n",
    "all_data['WoodDeckSF'] = all_data['WoodDeckSF'].astype(int)\n",
    "\n",
    "all_data.drop('WoodDeckSF_Band', axis=1, inplace=True)\n",
    "\n",
    "all_data = pd.get_dummies(all_data, columns = [\"WoodDeckSF\"], prefix=\"WoodDeckSF\")\n",
    "all_data.head(3)"
   ]
  },
  {
   "cell_type": "markdown",
   "metadata": {
    "_cell_guid": "86dc2de0-5e29-4656-acdb-a62d11a994d1",
    "_uuid": "b989a5cbef90f54969e668a842270d4369873280"
   },
   "source": [
    "***OpenPorchSF***, ***EnclosedPorch***, ***3SsnPorch*** & ***ScreenPorch***\n",
    "- I will sum these features together to create a total porch in square feet feature. "
   ]
  },
  {
   "cell_type": "code",
   "execution_count": null,
   "metadata": {
    "_cell_guid": "a6df55dc-2e47-431f-a97d-db3d39743e25",
    "_uuid": "3ebe13ccc96c1b6ddad3eff021a0d3cca3f382e1",
    "collapsed": true
   },
   "outputs": [],
   "source": [
    "all_data['TotalPorchSF'] = all_data['OpenPorchSF'] + all_data['OpenPorchSF'] + all_data['EnclosedPorch'] + all_data['3SsnPorch'] + all_data['ScreenPorch'] \n",
    "train['TotalPorchSF'] = train['OpenPorchSF'] + train['OpenPorchSF'] + train['EnclosedPorch'] + train['3SsnPorch'] + train['ScreenPorch']"
   ]
  },
  {
   "cell_type": "code",
   "execution_count": null,
   "metadata": {
    "_cell_guid": "c9f84564-8b0e-4883-b323-896732c62037",
    "_uuid": "4cddd44198e03d720189a8a2b2fd4d4dcada0028"
   },
   "outputs": [],
   "source": [
    "grid = plt.GridSpec(2, 3, wspace=0.1, hspace=0.15)\n",
    "plt.subplots(figsize =(30, 15))\n",
    "\n",
    "plt.subplot(grid[0, 0])\n",
    "g = sns.regplot(x=train['TotalPorchSF'], y=train['SalePrice'], fit_reg=False, label = \"corr: %2f\"%(pearsonr(train['TotalPorchSF'], train['SalePrice'])[0]))\n",
    "g = g.legend(loc=\"best\")\n",
    "\n",
    "plt.subplot(grid[0, 1:])\n",
    "sns.boxplot(x=\"Neighborhood\", y=\"TotalPorchSF\", data=train, palette = mycols)\n",
    "\n",
    "plt.subplot(grid[1, 0]);\n",
    "sns.barplot(x=\"BldgType\", y=\"TotalPorchSF\", data=train, palette = mycols)\n",
    "\n",
    "plt.subplot(grid[1, 1]);\n",
    "sns.barplot(x=\"HouseStyle\", y=\"TotalPorchSF\", data=train, palette = mycols)\n",
    "\n",
    "plt.subplot(grid[1, 2]);\n",
    "sns.barplot(x=\"LotShape\", y=\"TotalPorchSF\", data=train, palette = mycols);"
   ]
  },
  {
   "cell_type": "markdown",
   "metadata": {
    "_cell_guid": "4a2dc675-bd06-4be7-b2ba-a336e077837d",
    "_uuid": "e15986bc07161031b6e920b1a976f99b9152e43f"
   },
   "source": [
    "- We can see a high number of data points having a value of 0 here once again.\n",
    "- Apart from this, we see a high positive correlation with SalePrice showing that this may be an influential factor for analysis.\n",
    "- Finally, we see that this value ranges widely based on location, building type, style and lot.\n",
    "- I will create a flag to indicate no open porch, then I will bin the feature and create dummy variables."
   ]
  },
  {
   "cell_type": "code",
   "execution_count": null,
   "metadata": {
    "_cell_guid": "b4d461e6-35f1-4c0e-b735-15e99f7e8bc3",
    "_uuid": "1cd6a486b4a6512389ea9d8b8f180ed37fbecb46"
   },
   "outputs": [],
   "source": [
    "def PorchFlag(col):\n",
    "    if col['TotalPorchSF'] == 0:\n",
    "        return 1\n",
    "    else:\n",
    "        return 0\n",
    "    \n",
    "all_data['NoPorch_Flag'] = all_data.apply(PorchFlag, axis=1)\n",
    "\n",
    "all_data['TotalPorchSF_Band'] = pd.cut(all_data['TotalPorchSF'], 4)\n",
    "all_data['TotalPorchSF_Band'].unique()"
   ]
  },
  {
   "cell_type": "code",
   "execution_count": null,
   "metadata": {
    "_cell_guid": "76ab17fd-3b3c-4ff1-992d-1d288a9c63e7",
    "_uuid": "932c97bf5936325380cb64200933faffc56557c6"
   },
   "outputs": [],
   "source": [
    "all_data.loc[all_data['TotalPorchSF']<=431, 'TotalPorchSF'] = 1\n",
    "all_data.loc[(all_data['TotalPorchSF']>431) & (all_data['TotalPorchSF']<=862), 'TotalPorchSF'] = 2\n",
    "all_data.loc[(all_data['TotalPorchSF']>862) & (all_data['TotalPorchSF']<=1293), 'TotalPorchSF'] = 3\n",
    "all_data.loc[all_data['TotalPorchSF']>1293, 'TotalPorchSF'] = 4\n",
    "all_data['TotalPorchSF'] = all_data['TotalPorchSF'].astype(int)\n",
    "\n",
    "all_data.drop('TotalPorchSF_Band', axis=1, inplace=True)\n",
    "\n",
    "all_data = pd.get_dummies(all_data, columns = [\"TotalPorchSF\"], prefix=\"TotalPorchSF\")\n",
    "all_data.head(3)"
   ]
  },
  {
   "cell_type": "markdown",
   "metadata": {
    "_cell_guid": "a3d682ae-c561-4433-8fc2-4f45c5cd84b9",
    "_uuid": "e8486523ae0423b7a60806968068c9a9516f53f8"
   },
   "source": [
    "***PoolArea***\n",
    "- Pool area in square feet. "
   ]
  },
  {
   "cell_type": "code",
   "execution_count": null,
   "metadata": {
    "_cell_guid": "8113d16a-c160-4445-a499-ae13116e1450",
    "_uuid": "99b6a02dfeb176973bb00b144a18ce1b667e3ae0"
   },
   "outputs": [],
   "source": [
    "grid = plt.GridSpec(2, 3, wspace=0.1, hspace=0.15)\n",
    "plt.subplots(figsize =(30, 15))\n",
    "\n",
    "plt.subplot(grid[0, 0])\n",
    "g = sns.regplot(x=train['PoolArea'], y=train['SalePrice'], fit_reg=False, label = \"corr: %2f\"%(pearsonr(train['PoolArea'], train['SalePrice'])[0]))\n",
    "g = g.legend(loc=\"best\")\n",
    "\n",
    "plt.subplot(grid[0, 1:])\n",
    "sns.boxplot(x=\"Neighborhood\", y=\"PoolArea\", data=train, palette = mycols)\n",
    "\n",
    "plt.subplot(grid[1, 0]);\n",
    "sns.barplot(x=\"BldgType\", y=\"PoolArea\", data=train, palette = mycols)\n",
    "\n",
    "plt.subplot(grid[1, 1]);\n",
    "sns.barplot(x=\"HouseStyle\", y=\"PoolArea\", data=train, palette = mycols)\n",
    "\n",
    "plt.subplot(grid[1, 2]);\n",
    "sns.barplot(x=\"LotShape\", y=\"PoolArea\", data=train, palette = mycols);"
   ]
  },
  {
   "cell_type": "markdown",
   "metadata": {
    "_cell_guid": "5a8a9b81-ed35-4ffe-ab0b-05a2dba94f4d",
    "_uuid": "b697a76c71013735bc815d78180690d3f095408a"
   },
   "source": [
    "- We see almost 0 correlation due to the high number of houses without a pool.\n",
    "- Hence, I will create a flag here."
   ]
  },
  {
   "cell_type": "code",
   "execution_count": null,
   "metadata": {
    "_cell_guid": "ebe63e77-238d-432e-9af5-53368da5f309",
    "_uuid": "9e60c4054836ff5527600cb34aabab16cb21cb43",
    "collapsed": true
   },
   "outputs": [],
   "source": [
    "def PoolFlag(col):\n",
    "    if col['PoolArea'] == 0:\n",
    "        return 0\n",
    "    else:\n",
    "        return 1\n",
    "    \n",
    "all_data['HasPool_Flag'] = all_data.apply(PoolFlag, axis=1)\n",
    "all_data.drop('PoolArea', axis=1, inplace=True)"
   ]
  },
  {
   "cell_type": "markdown",
   "metadata": {
    "_cell_guid": "d38e4b36-7446-48c6-8ed2-0c27cd011a44",
    "_uuid": "744b4214a3a6dde21a7ad8140da237abefaa9033"
   },
   "source": [
    "***PoolQC***\n",
    "- Pool quality."
   ]
  },
  {
   "cell_type": "code",
   "execution_count": null,
   "metadata": {
    "_cell_guid": "1c81ec97-9a5d-4dde-be8e-e0d746ad91dd",
    "_uuid": "db6bb715ac5f7298f5001eef0bd5688cc42284aa"
   },
   "outputs": [],
   "source": [
    "plt.subplots(figsize =(20, 5))\n",
    "\n",
    "plt.subplot(1, 3, 1)\n",
    "sns.boxplot(x=\"PoolQC\", y=\"SalePrice\", data=train, order=[\"Fa\", \"Gd\", \"Ex\"], palette = mycols)\n",
    "\n",
    "plt.subplot(1, 3, 2)\n",
    "sns.stripplot(x=\"PoolQC\", y=\"SalePrice\", data=train, size = 5, jitter = True, order=[\"Fa\", \"Gd\", \"Ex\"], palette = mycols);\n",
    "\n",
    "plt.subplot(1, 3, 3)\n",
    "sns.barplot(x=\"PoolQC\", y=\"SalePrice\", data=train, order=[\"Fa\", \"Gd\", \"Ex\"], palette = mycols);"
   ]
  },
  {
   "cell_type": "markdown",
   "metadata": {
    "_cell_guid": "81eec31d-c68e-4a3d-917a-4241f366cc65",
    "_uuid": "9591533b1723f3ea5e2bf217dad05354858a11f0"
   },
   "source": [
    "- Due to not many houses having a pool, we see very low numbers of observations for each class.\n",
    "- Since this does not hold much information this feature, I will simply remove it."
   ]
  },
  {
   "cell_type": "code",
   "execution_count": null,
   "metadata": {
    "_cell_guid": "35e93758-2b99-4c1e-baa3-bbe68a2512b2",
    "_uuid": "b9b42df3e865bac0c9088095f3dd086bfb4c7c48",
    "collapsed": true
   },
   "outputs": [],
   "source": [
    "all_data.drop('PoolQC', axis=1, inplace=True)"
   ]
  },
  {
   "cell_type": "markdown",
   "metadata": {
    "_cell_guid": "ed35076b-9097-47e0-88af-cd757fac4386",
    "_uuid": "80a2b82f5fdbe36e5b2f62974ae8836da95a3c15"
   },
   "source": [
    "***Fence***\n",
    "- Fence quality."
   ]
  },
  {
   "cell_type": "code",
   "execution_count": null,
   "metadata": {
    "_cell_guid": "138ef078-10cb-4829-8613-1987116cf41f",
    "_uuid": "56f94c1e1ad9fee1fcf464b7539bc1f5344c77fc"
   },
   "outputs": [],
   "source": [
    "plt.subplots(figsize =(20, 5))\n",
    "\n",
    "plt.subplot(1, 3, 1)\n",
    "sns.boxplot(x=\"Fence\", y=\"SalePrice\", data=train, order = [\"MnWw\", \"GdWo\", \"MnPrv\", \"GdPrv\"], palette = mycols)\n",
    "\n",
    "plt.subplot(1, 3, 2)\n",
    "sns.stripplot(x=\"Fence\", y=\"SalePrice\", data=train, size = 5, jitter = True, order = [\"MnWw\", \"GdWo\", \"MnPrv\", \"GdPrv\"], palette = mycols);\n",
    "\n",
    "plt.subplot(1, 3, 3)\n",
    "sns.barplot(x=\"Fence\", y=\"SalePrice\", data=train, order = [\"MnWw\", \"GdWo\", \"MnPrv\", \"GdPrv\"], palette = mycols);"
   ]
  },
  {
   "cell_type": "markdown",
   "metadata": {
    "_cell_guid": "05a49154-201b-410b-bec5-d33a9fe88839",
    "_uuid": "f7a6ce276d50e484c765a2fd736db45ed6bd1a85"
   },
   "source": [
    "- Here we see that the houses with the most privacy have the highest average SalePrice.\n",
    "- There seems to be a slight order within the classes, however some of the class descriptions are slightly ambiguous, therefore I will create dummy variables here from this categorical feature. "
   ]
  },
  {
   "cell_type": "code",
   "execution_count": null,
   "metadata": {
    "_cell_guid": "8c938961-605c-4e32-84f9-ed3e7c654039",
    "_uuid": "41808d18cea9a8417e7a3bbb550b1ddae0f3dd88"
   },
   "outputs": [],
   "source": [
    "all_data = pd.get_dummies(all_data, columns = [\"Fence\"], prefix=\"Fence\")\n",
    "all_data.head(3)"
   ]
  },
  {
   "cell_type": "markdown",
   "metadata": {
    "_cell_guid": "a859b357-4ae2-4915-9057-b811d2b83255",
    "_uuid": "1bb420d840a707c3ccdc3207b372e1c3fc130047"
   },
   "source": [
    "<a id='location'></a>\n",
    "#### 4.2.5 - Location\n",
    "\n",
    "***MSZoning***\n",
    "- Identifies the general zoning classification of the sale. "
   ]
  },
  {
   "cell_type": "code",
   "execution_count": null,
   "metadata": {
    "_cell_guid": "8d5a9953-0882-4f0c-9fc5-f51e31ccacaa",
    "_uuid": "77b60cd05147d9543440cef1a30af9033b1c0220"
   },
   "outputs": [],
   "source": [
    "plt.subplots(figsize =(20, 5))\n",
    "\n",
    "plt.subplot(1, 3, 1)\n",
    "sns.boxplot(x=\"MSZoning\", y=\"SalePrice\", data=train, palette = mycols)\n",
    "\n",
    "plt.subplot(1, 3, 2)\n",
    "sns.stripplot(x=\"MSZoning\", y=\"SalePrice\", data=train, size = 5, jitter = True, palette = mycols);\n",
    "\n",
    "plt.subplot(1, 3, 3)\n",
    "sns.barplot(x=\"MSZoning\", y=\"SalePrice\", data=train, palette = mycols);"
   ]
  },
  {
   "cell_type": "markdown",
   "metadata": {
    "_cell_guid": "6a2c0b1b-ac79-49e2-8847-d801814158f4",
    "_uuid": "43b24f8cccfc34eb75bcea13d1e07a05eb96d486"
   },
   "source": [
    "- Since this a categorical feature without order, and each of the classes has a very different range and average for SalePrice, I will create dummy features here."
   ]
  },
  {
   "cell_type": "code",
   "execution_count": null,
   "metadata": {
    "_cell_guid": "a96046a7-40fa-4383-b7a7-c19c45e97f65",
    "_uuid": "7eb2f7e422770a67b83d5877efc96d5ebee7cd08"
   },
   "outputs": [],
   "source": [
    "all_data = pd.get_dummies(all_data, columns = [\"MSZoning\"], prefix=\"MSZoning\")\n",
    "all_data.head(3)"
   ]
  },
  {
   "cell_type": "markdown",
   "metadata": {
    "_cell_guid": "ad807056-a7ec-4f3c-acf6-4da788188669",
    "_uuid": "38401d7d599413207d5b42d614a643ab21404407"
   },
   "source": [
    "***Neighborhood***\n",
    "- Physical locations within Ames city limits."
   ]
  },
  {
   "cell_type": "code",
   "execution_count": null,
   "metadata": {
    "_cell_guid": "0d1a95ab-f522-4230-8cd1-37b869c16378",
    "_uuid": "70fb64d3713e3861eb6357ad98390e55a27c08a5"
   },
   "outputs": [],
   "source": [
    "plt.subplots(figsize =(50, 10))\n",
    "\n",
    "plt.subplot(1, 3, 1)\n",
    "sns.boxplot(x=\"Neighborhood\", y=\"SalePrice\", data=train, palette = mycols)\n",
    "\n",
    "plt.subplot(1, 3, 2)\n",
    "sns.stripplot(x=\"Neighborhood\", y=\"SalePrice\", data=train, size = 5, jitter = True, palette = mycols);\n",
    "\n",
    "plt.subplot(1, 3, 3)\n",
    "sns.barplot(x=\"Neighborhood\", y=\"SalePrice\", data=train, palette = mycols);"
   ]
  },
  {
   "cell_type": "markdown",
   "metadata": {
    "_cell_guid": "e4d1339f-debb-4982-9dc6-cbc7d5ed3b7b",
    "_uuid": "15ed2766b5febccbaf0d528132579c495308b976"
   },
   "source": [
    "- Neighborhood clearly has an important contribution towards SalePrice, since we see such high values for certain areas and low values for others.\n",
    "- Since this is a categorical feature without order, I will create dummy features."
   ]
  },
  {
   "cell_type": "code",
   "execution_count": null,
   "metadata": {
    "_cell_guid": "5ce686db-66f4-41fb-a8de-3f83598b3f3a",
    "_uuid": "1ed8e4b7b7b7b8af6778e256072e40baf832f330"
   },
   "outputs": [],
   "source": [
    "all_data = pd.get_dummies(all_data, columns = [\"Neighborhood\"], prefix=\"Neighborhood\")\n",
    "all_data.head(3)"
   ]
  },
  {
   "cell_type": "markdown",
   "metadata": {
    "_cell_guid": "82f67da0-9ba1-4fe4-a7ae-786843ac263b",
    "_uuid": "91bf6f13d0dcaebe3293dc2bad2ba843c4aa8853"
   },
   "source": [
    "***Condition1*** & ***Condition2***\n",
    "- Proximity to various conditions."
   ]
  },
  {
   "cell_type": "code",
   "execution_count": null,
   "metadata": {
    "_cell_guid": "52c8ada3-7535-470f-b808-21afb77e8888",
    "_uuid": "ae2bac8f79ef3ef17cc34423e9c256535f788abf"
   },
   "outputs": [],
   "source": [
    "plt.subplots(figsize =(20, 5))\n",
    "\n",
    "plt.subplot(1, 3, 1)\n",
    "sns.boxplot(x=\"Condition1\", y=\"SalePrice\", data=train, palette = mycols)\n",
    "\n",
    "plt.subplot(1, 3, 2)\n",
    "sns.stripplot(x=\"Condition1\", y=\"SalePrice\", data=train, size = 5, jitter = True, palette = mycols);\n",
    "\n",
    "plt.subplot(1, 3, 3)\n",
    "sns.barplot(x=\"Condition1\", y=\"SalePrice\", data=train, palette = mycols);"
   ]
  },
  {
   "cell_type": "code",
   "execution_count": null,
   "metadata": {
    "_cell_guid": "cb1fe83d-4382-4d36-8057-babba225b28b",
    "_uuid": "d0ca45cb2677f90441988afcac0d1f855b2431ef"
   },
   "outputs": [],
   "source": [
    "plt.subplots(figsize =(20, 5))\n",
    "\n",
    "plt.subplot(1, 3, 1)\n",
    "sns.boxplot(x=\"Condition2\", y=\"SalePrice\", data=train, palette = mycols)\n",
    "\n",
    "plt.subplot(1, 3, 2)\n",
    "sns.stripplot(x=\"Condition2\", y=\"SalePrice\", data=train, size = 5, jitter = True, palette = mycols);\n",
    "\n",
    "plt.subplot(1, 3, 3)\n",
    "sns.barplot(x=\"Condition2\", y=\"SalePrice\", data=train, palette = mycols);"
   ]
  },
  {
   "cell_type": "markdown",
   "metadata": {
    "_cell_guid": "2f8c77fc-36e5-4adc-9966-26d72c2114cb",
    "_uuid": "f7235a7f346fab31ea2fce380f8aedab4fa8eb15"
   },
   "source": [
    "- Since this feature is based around local features, it is understandable that having more desirable things, like a parks... nearby are a factor that would contribute towards a higher SalePrice. \n",
    "- For this feature I am going to cluster the classes based on the class description. Then, I will create dummy features. \n",
    "- I will then drop \"Condition2\" after creating a flag to indicate whether a different condition from the first is nearby."
   ]
  },
  {
   "cell_type": "code",
   "execution_count": null,
   "metadata": {
    "_cell_guid": "69c46a94-015b-4d35-a2da-92e487f9a2b7",
    "_uuid": "f92ca0edbacb232bf1892268948863d324387585",
    "collapsed": true
   },
   "outputs": [],
   "source": [
    "all_data['Condition1'] = all_data['Condition1'].map({\"Norm\":\"Norm\", \"Feedr\":\"Street\", \"PosN\":\"Pos\", \"Artery\":\"Street\", \"RRAe\":\"Train\",\n",
    "                                                    \"RRNn\":\"Train\", \"RRAn\":\"Train\", \"PosA\":\"Pos\", \"RRNe\":\"Train\"})\n",
    "all_data['Condition2'] = all_data['Condition2'].map({\"Norm\":\"Norm\", \"Feedr\":\"Street\", \"PosN\":\"Pos\", \"Artery\":\"Street\", \"RRAe\":\"Train\",\n",
    "                                                    \"RRNn\":\"Train\", \"RRAn\":\"Train\", \"PosA\":\"Pos\", \"RRNe\":\"Train\"})"
   ]
  },
  {
   "cell_type": "code",
   "execution_count": null,
   "metadata": {
    "_cell_guid": "615a8558-e476-412d-99d6-9b0540f7df63",
    "_uuid": "8d5cb8cb6ebcce8a687e2b4df2335291cf0cdef8"
   },
   "outputs": [],
   "source": [
    "def ConditionMatch(col):\n",
    "    if col['Condition1'] == col['Condition2']:\n",
    "        return 0\n",
    "    else:\n",
    "        return 1\n",
    "    \n",
    "all_data['Diff2ndCondition_Flag'] = all_data.apply(ConditionMatch, axis=1)\n",
    "all_data.drop('Condition2', axis=1, inplace=True)\n",
    "\n",
    "all_data = pd.get_dummies(all_data, columns = [\"Condition1\"], prefix=\"Condition1\")\n",
    "all_data.head(3)"
   ]
  },
  {
   "cell_type": "markdown",
   "metadata": {
    "_cell_guid": "50c351c6-7171-4f43-863b-ccacd83f4b6a",
    "_uuid": "b6d85450d6be074fcc837d2f5bf0bd9e1f6f04bf"
   },
   "source": [
    "#### 4.2.6 - Land\n",
    "\n",
    "***LotFrontage***\n",
    "- Linear feet of street connected to property."
   ]
  },
  {
   "cell_type": "code",
   "execution_count": null,
   "metadata": {
    "_cell_guid": "8d1bf77e-71ff-4208-b6c0-38480d322ceb",
    "_uuid": "ce78248278ba6bfc7a4daaa77d87ead119ac1aa5"
   },
   "outputs": [],
   "source": [
    "grid = plt.GridSpec(2, 3, wspace=0.1, hspace=0.15)\n",
    "plt.subplots(figsize =(30, 15))\n",
    "\n",
    "plt.subplot(grid[0, 0])\n",
    "g = sns.regplot(x=train['LotFrontage'], y=train['SalePrice'], fit_reg=False, label = \"corr: %2f\"%(pearsonr(train['LotFrontage'], train['SalePrice'])[0]))\n",
    "g = g.legend(loc=\"best\")\n",
    "\n",
    "plt.subplot(grid[0, 1:])\n",
    "sns.boxplot(x=\"Neighborhood\", y=\"LotFrontage\", data=train, palette = mycols)\n",
    "\n",
    "plt.subplot(grid[1, 0]);\n",
    "sns.barplot(x=\"BldgType\", y=\"LotFrontage\", data=train, palette = mycols)\n",
    "\n",
    "plt.subplot(grid[1, 1]);\n",
    "sns.barplot(x=\"HouseStyle\", y=\"LotFrontage\", data=train, palette = mycols)\n",
    "\n",
    "plt.subplot(grid[1, 2]);\n",
    "sns.barplot(x=\"LotShape\", y=\"LotFrontage\", data=train, palette = mycols);"
   ]
  },
  {
   "cell_type": "markdown",
   "metadata": {
    "_cell_guid": "bace3dca-2f3b-4c1d-82b2-8b6b16626a67",
    "_uuid": "125fb7ecbf0c34f823136ec20045485fb3ebdc03"
   },
   "source": [
    "- This feature seems to be fairly randomly distributed against SalePrice without any significant correlation.\n",
    "- LotFrontage doesn't seem to vary too much based on \"Neighborhood\", but the \"BldgType\" does seem to have a affect on the average LotFrontage.\n",
    "- Since this feature doesn't seem to show any significance to bin into groupings, I will leave this feature as it is until I scale the features."
   ]
  },
  {
   "cell_type": "markdown",
   "metadata": {
    "_cell_guid": "e2c04605-0e9c-4567-8cd8-42885af41572",
    "_uuid": "f9e23eb072795ed38940bb50647ac3039522605d"
   },
   "source": [
    "***LotArea***\n",
    "- Lot size in square feet."
   ]
  },
  {
   "cell_type": "code",
   "execution_count": null,
   "metadata": {
    "_cell_guid": "9de1455f-0720-4bda-a2d7-ff300d31ca8e",
    "_uuid": "0dbfd72d44a02ee400711ba765ad4e134d633a94"
   },
   "outputs": [],
   "source": [
    "grid = plt.GridSpec(2, 3, wspace=0.1, hspace=0.15)\n",
    "plt.subplots(figsize =(30, 15))\n",
    "\n",
    "plt.subplot(grid[0, 0])\n",
    "g = sns.regplot(x=train['LotArea'], y=train['SalePrice'], fit_reg=False, label = \"corr: %2f\"%(pearsonr(train['LotArea'], train['SalePrice'])[0]))\n",
    "g = g.legend(loc=\"best\")\n",
    "\n",
    "plt.subplot(grid[0, 1:])\n",
    "sns.boxplot(x=\"Neighborhood\", y=\"LotArea\", data=train, palette = mycols)\n",
    "\n",
    "plt.subplot(grid[1, 0]);\n",
    "sns.barplot(x=\"BldgType\", y=\"LotArea\", data=train, palette = mycols)\n",
    "\n",
    "plt.subplot(grid[1, 1]);\n",
    "sns.barplot(x=\"HouseStyle\", y=\"LotArea\", data=train, palette = mycols)\n",
    "\n",
    "plt.subplot(grid[1, 2]);\n",
    "sns.barplot(x=\"LotShape\", y=\"LotArea\", data=train, palette = mycols);"
   ]
  },
  {
   "cell_type": "markdown",
   "metadata": {
    "_cell_guid": "b75e9548-00cf-4ac6-bde7-66338f1c6f06",
    "_uuid": "c556dabf0aafd32b80f338a10683db517b6fcc03"
   },
   "source": [
    "- This feature shows a high correlation but it is very positively skewed. \n",
    "- Hence, I will create quantile bins and dummy features. Quantile bins are not based on approximately equal sized bins, instead creating bins with a similar frequency of data points within each bin."
   ]
  },
  {
   "cell_type": "code",
   "execution_count": null,
   "metadata": {
    "_cell_guid": "96f360c0-184a-4bd0-a4b0-c7ce6a9b1f94",
    "_uuid": "76f6b0e0f03917e469c771072427eaeccc2bd126"
   },
   "outputs": [],
   "source": [
    "all_data['LotArea_Band'] = pd.qcut(all_data['LotArea'], 8)\n",
    "all_data['LotArea_Band'].unique()"
   ]
  },
  {
   "cell_type": "code",
   "execution_count": null,
   "metadata": {
    "_cell_guid": "e26f4f84-c739-4f97-aa9f-2a4e1f6e8903",
    "_uuid": "1a44f92063cd4cfb5228d79b0e56f044a99102de"
   },
   "outputs": [],
   "source": [
    "all_data.loc[all_data['LotArea']<=5684.75, 'LotArea'] = 1\n",
    "all_data.loc[(all_data['LotArea']>5684.75) & (all_data['LotArea']<=7474), 'LotArea'] = 2\n",
    "all_data.loc[(all_data['LotArea']>7474) & (all_data['LotArea']<=8520), 'LotArea'] = 3\n",
    "all_data.loc[(all_data['LotArea']>8520) & (all_data['LotArea']<=9450), 'LotArea'] = 4\n",
    "all_data.loc[(all_data['LotArea']>9450) & (all_data['LotArea']<=10355.25), 'LotArea'] = 5\n",
    "all_data.loc[(all_data['LotArea']>10355.25) & (all_data['LotArea']<=11554.25), 'LotArea'] = 6\n",
    "all_data.loc[(all_data['LotArea']>11554.25) & (all_data['LotArea']<=13613), 'LotArea'] = 7\n",
    "all_data.loc[all_data['LotArea']>13613, 'LotArea'] = 8\n",
    "all_data['LotArea'] = all_data['LotArea'].astype(int)\n",
    "\n",
    "all_data.drop('LotArea_Band', axis=1, inplace=True)\n",
    "\n",
    "all_data = pd.get_dummies(all_data, columns = [\"LotArea\"], prefix=\"LotArea\")\n",
    "all_data.head(3)"
   ]
  },
  {
   "cell_type": "markdown",
   "metadata": {
    "_cell_guid": "af04e573-25c8-4d26-999e-4d7b92790bb0",
    "_uuid": "92df5613dbb87052643039fba818ec064effca87"
   },
   "source": [
    "***LotShape***\n",
    "- General shape of property."
   ]
  },
  {
   "cell_type": "code",
   "execution_count": null,
   "metadata": {
    "_cell_guid": "4258cda9-3555-46e5-9bd8-cb1d55a61982",
    "_uuid": "763e3e1781e87f41a04dd5207bb08f9958787b01"
   },
   "outputs": [],
   "source": [
    "plt.subplots(figsize =(20, 5))\n",
    "\n",
    "plt.subplot(1, 3, 1)\n",
    "sns.boxplot(x=\"LotShape\", y=\"SalePrice\", data=train, palette = mycols)\n",
    "\n",
    "plt.subplot(1, 3, 2)\n",
    "sns.stripplot(x=\"LotShape\", y=\"SalePrice\", data=train, size = 5, jitter = True, palette = mycols);\n",
    "\n",
    "plt.subplot(1, 3, 3)\n",
    "sns.barplot(x=\"LotShape\", y=\"SalePrice\", data=train, palette = mycols);"
   ]
  },
  {
   "cell_type": "markdown",
   "metadata": {
    "_cell_guid": "ef9fcee2-3aa5-46b4-b94c-428ee006d448",
    "_uuid": "71b0ab405e10f88425b3b5713c53fdaaf124c9d5"
   },
   "source": [
    "- Clearly we see some extreme values for some categories and a varying SalePrice across classes.\n",
    "- \"Reg\" and \"IR1\" have the highest frequency of data points within them.\n",
    "- Since this is a categorical feature without order, I will create dummy features."
   ]
  },
  {
   "cell_type": "code",
   "execution_count": null,
   "metadata": {
    "_cell_guid": "5e5ff84c-206b-42ab-9197-5bfbb261baee",
    "_uuid": "b0f55085bdd19497c1cc9d389494c983617d9bf6"
   },
   "outputs": [],
   "source": [
    "all_data = pd.get_dummies(all_data, columns = [\"LotShape\"], prefix=\"LotShape\")\n",
    "all_data.head(3)"
   ]
  },
  {
   "cell_type": "markdown",
   "metadata": {
    "_cell_guid": "d8dafad9-57ca-4ad0-878b-017272e69ed0",
    "_uuid": "ee99c93efb2754896361ad970f03a51b32ab2fe8"
   },
   "source": [
    "***LandContour***\n",
    "- Flatness of the property"
   ]
  },
  {
   "cell_type": "code",
   "execution_count": null,
   "metadata": {
    "_cell_guid": "5f999d73-b392-4695-9ffe-86ff04ec2348",
    "_uuid": "6a48bb1f6e84d946aa484c97045f4033aa6554d8"
   },
   "outputs": [],
   "source": [
    "plt.subplots(figsize =(20, 5))\n",
    "\n",
    "plt.subplot(1, 3, 1)\n",
    "sns.boxplot(x=\"LandContour\", y=\"SalePrice\", data=train, palette = mycols)\n",
    "\n",
    "plt.subplot(1, 3, 2)\n",
    "sns.stripplot(x=\"LandContour\", y=\"SalePrice\", data=train, size = 5, jitter = True, palette = mycols);\n",
    "\n",
    "plt.subplot(1, 3, 3)\n",
    "sns.barplot(x=\"LandContour\", y=\"SalePrice\", data=train, palette = mycols);"
   ]
  },
  {
   "cell_type": "markdown",
   "metadata": {
    "_cell_guid": "aa5e9d11-3758-42cf-85de-55cc4be79983",
    "_uuid": "3ecc2d17c22352be690a760c7d2f2d18d1b9f6ac"
   },
   "source": [
    "- Most houses are indeed on a flat contour, however the houses with the highest SalePrice seem to come from properties on a hill interestingly.\n",
    "- Since this a categorical feature without order, I will create dummy features."
   ]
  },
  {
   "cell_type": "code",
   "execution_count": null,
   "metadata": {
    "_cell_guid": "0aa41f01-30d3-44ee-b002-f26fb5474776",
    "_uuid": "73e3d35a51f48c4c5336fcc6cda16c34cd9c66ea"
   },
   "outputs": [],
   "source": [
    "all_data = pd.get_dummies(all_data, columns = [\"LandContour\"], prefix=\"LandContour\")\n",
    "all_data.head(3)"
   ]
  },
  {
   "cell_type": "markdown",
   "metadata": {
    "_cell_guid": "f82c435b-d6a9-49b7-b5a5-0be350487410",
    "_uuid": "a1b1cf57efaa0541a9385daae2d97d7063079da9"
   },
   "source": [
    "***LotConfig***\n",
    "- Lot configuration."
   ]
  },
  {
   "cell_type": "code",
   "execution_count": null,
   "metadata": {
    "_cell_guid": "178c77ab-2b0b-4275-a183-96620e064352",
    "_uuid": "7d27b5be5f11342034a7da3a44b9d01965fa119f"
   },
   "outputs": [],
   "source": [
    "plt.subplots(figsize =(20, 5))\n",
    "\n",
    "plt.subplot(1, 3, 1)\n",
    "sns.boxplot(x=\"LotConfig\", y=\"SalePrice\", data=train, palette = mycols)\n",
    "\n",
    "plt.subplot(1, 3, 2)\n",
    "sns.stripplot(x=\"LotConfig\", y=\"SalePrice\", data=train, size = 5, jitter = True, palette = mycols);\n",
    "\n",
    "plt.subplot(1, 3, 3)\n",
    "sns.barplot(x=\"LotConfig\", y=\"SalePrice\", data=train, palette = mycols);"
   ]
  },
  {
   "cell_type": "markdown",
   "metadata": {
    "_cell_guid": "2c171383-fa7d-4bdf-bed3-de7002a5c119",
    "_uuid": "8b9f5a3d7c947ae137c490e04dc6d1f5a821ed97"
   },
   "source": [
    "- Cul de sac's seem to boast the highest average prices within Ames, however most houses are positioned inside or on the corner of the lot.\n",
    "- To simplify this feature I wil cluster \"FR2\" and \"FR3\", then create dummy features."
   ]
  },
  {
   "cell_type": "code",
   "execution_count": null,
   "metadata": {
    "_cell_guid": "fc96a65c-6fb8-4201-bd4f-d02497dc6728",
    "_uuid": "1f081436ddd3638dcb9ca36651bcf0fd57f597cd"
   },
   "outputs": [],
   "source": [
    "all_data['LotConfig'] = all_data['LotConfig'].map({\"Inside\":\"Inside\", \"FR2\":\"FR\", \"Corner\":\"Corner\", \"CulDSac\":\"CulDSac\", \"FR3\":\"FR\"})\n",
    "\n",
    "all_data = pd.get_dummies(all_data, columns = [\"LotConfig\"], prefix=\"LotConfig\")\n",
    "all_data.head(3)"
   ]
  },
  {
   "cell_type": "markdown",
   "metadata": {
    "_cell_guid": "dcf56eca-a2dc-4760-8094-ce40416d419d",
    "_uuid": "7d6836bdc56431a81308591faaa12f5deebd779f"
   },
   "source": [
    "***LandSlope***\n",
    "- Slope of property."
   ]
  },
  {
   "cell_type": "code",
   "execution_count": null,
   "metadata": {
    "_cell_guid": "f0e83b37-20c6-4465-80af-c015d9fc225e",
    "_uuid": "bd28f7ad1d9a0fbd63047c5f53b43f7a048ee35e"
   },
   "outputs": [],
   "source": [
    "plt.subplots(figsize =(20, 5))\n",
    "\n",
    "plt.subplot(1, 3, 1)\n",
    "sns.boxplot(x=\"LandSlope\", y=\"SalePrice\", data=train, palette = mycols)\n",
    "\n",
    "plt.subplot(1, 3, 2)\n",
    "sns.stripplot(x=\"LandSlope\", y=\"SalePrice\", data=train, size = 5, jitter = True, palette = mycols);\n",
    "\n",
    "plt.subplot(1, 3, 3)\n",
    "sns.barplot(x=\"LandSlope\", y=\"SalePrice\", data=train, palette = mycols);"
   ]
  },
  {
   "cell_type": "markdown",
   "metadata": {
    "_cell_guid": "9f05b194-dd61-44c7-8948-bce3a866b35f",
    "_uuid": "ed850d2a7d233e8660211f7c8a22e8d9b293946a"
   },
   "source": [
    "- We see that most houses have a gentle slope of land and overall, the severity of the slope doesn't appear to have much of an impact on SalePrice.\n",
    "- Hence, I am going to cluster \"Mod\" and \"Sev\" to create one class, and create a new flag to indicate a gentle slope or not."
   ]
  },
  {
   "cell_type": "code",
   "execution_count": null,
   "metadata": {
    "_cell_guid": "47d72cb2-5399-4337-89b5-19fae586afe0",
    "_uuid": "48076cbc49376a8b1210685e97decafee0717181",
    "collapsed": true
   },
   "outputs": [],
   "source": [
    "all_data['LandSlope'] = all_data['LandSlope'].map({\"Gtl\":1, \"Mod\":2, \"Sev\":2})"
   ]
  },
  {
   "cell_type": "code",
   "execution_count": null,
   "metadata": {
    "_cell_guid": "3cc21dcc-ee37-4822-aec3-7f123d18f6bc",
    "_uuid": "50f545869d409b4038b5f1387e574417b1a2730e",
    "collapsed": true
   },
   "outputs": [],
   "source": [
    "def Slope(col):\n",
    "    if col['LandSlope'] == 1:\n",
    "        return 1\n",
    "    else:\n",
    "        return 0\n",
    "    \n",
    "all_data['GentleSlope_Flag'] = all_data.apply(Slope, axis=1)\n",
    "all_data.drop('LandSlope', axis=1, inplace=True)"
   ]
  },
  {
   "cell_type": "markdown",
   "metadata": {
    "_cell_guid": "7f195727-aaae-48a3-9625-973dc2edabbe",
    "_uuid": "47603446bbe896f899cc75065efcf4eb34399e8a"
   },
   "source": [
    "<a id='access'></a>\n",
    "#### 4.2.7 - Access\n",
    "\n",
    "***Street***\n",
    "- Type of road access to the property."
   ]
  },
  {
   "cell_type": "code",
   "execution_count": null,
   "metadata": {
    "_cell_guid": "41a52b20-74ae-4133-8424-acdbca098727",
    "_uuid": "f9084813ada282e418f88f80403793fa656e834b"
   },
   "outputs": [],
   "source": [
    "plt.subplots(figsize =(20, 5))\n",
    "\n",
    "plt.subplot(1, 3, 1)\n",
    "sns.boxplot(x=\"Street\", y=\"SalePrice\", data=train, palette = mycols)\n",
    "\n",
    "plt.subplot(1, 3, 2)\n",
    "sns.stripplot(x=\"Street\", y=\"SalePrice\", data=train, size = 5, jitter = True, palette = mycols);\n",
    "\n",
    "plt.subplot(1, 3, 3)\n",
    "sns.barplot(x=\"Street\", y=\"SalePrice\", data=train, palette = mycols);"
   ]
  },
  {
   "cell_type": "markdown",
   "metadata": {
    "_cell_guid": "cf6b28cc-4e6a-4b65-b284-859bc284df31",
    "_uuid": "7d443f483971f4f2470e4c79a4152a8115bd3527"
   },
   "source": [
    "- With such a lower number of observations being assigned to the class \"Grvl\" it is redundant within the model.\n",
    "- Hence, I will drop this feature."
   ]
  },
  {
   "cell_type": "code",
   "execution_count": null,
   "metadata": {
    "_cell_guid": "72ac5e86-264b-4e11-9710-2885f43a997d",
    "_uuid": "d67a8eedcabca3b13566eb373054c17f0708fb5f",
    "collapsed": true
   },
   "outputs": [],
   "source": [
    "all_data.drop('Street', axis=1, inplace=True)"
   ]
  },
  {
   "cell_type": "markdown",
   "metadata": {
    "_cell_guid": "ceefda93-31b3-4407-bb3c-f97b7ec44292",
    "_uuid": "aa8cf97acc6d205fe437b3f9393449a2e8324dec"
   },
   "source": [
    "***Alley***\n",
    "- Type of alley access to the property."
   ]
  },
  {
   "cell_type": "code",
   "execution_count": null,
   "metadata": {
    "_cell_guid": "85489a39-a8c4-4fc1-ae99-d492698d9341",
    "_uuid": "bccc2887cb9a7ce2b9bed30716bbae293e6766c1"
   },
   "outputs": [],
   "source": [
    "plt.subplots(figsize =(20, 5))\n",
    "\n",
    "plt.subplot(1, 3, 1)\n",
    "sns.boxplot(x=\"Alley\", y=\"SalePrice\", data=train, palette = mycols)\n",
    "\n",
    "plt.subplot(1, 3, 2)\n",
    "sns.stripplot(x=\"Alley\", y=\"SalePrice\", data=train, size = 5, jitter = True, palette = mycols);\n",
    "\n",
    "plt.subplot(1, 3, 3)\n",
    "sns.barplot(x=\"Alley\", y=\"SalePrice\", data=train, palette = mycols);"
   ]
  },
  {
   "cell_type": "markdown",
   "metadata": {
    "_cell_guid": "04d64384-3845-4e88-b55c-bf2d5c4e52d7",
    "_uuid": "fc6bc8bb82fb9ea61a9eeacfd1cddf7adc81960a"
   },
   "source": [
    "- Here we see a fairly even split between to two classes in terms of frequency, but a much higher average SalePrice for Paved alleys as opposed to Gravel ones.\n",
    "- Hence, this seems as though it could be a good predictor. I will create dummy features from this."
   ]
  },
  {
   "cell_type": "code",
   "execution_count": null,
   "metadata": {
    "_cell_guid": "f69f83d3-5944-46e4-bb43-7392f362849c",
    "_uuid": "d048e45656085b77d98f295daeb3bf2cba8bc918"
   },
   "outputs": [],
   "source": [
    "all_data = pd.get_dummies(all_data, columns = [\"Alley\"], prefix=\"Alley\")\n",
    "all_data.head(3)"
   ]
  },
  {
   "cell_type": "markdown",
   "metadata": {
    "_cell_guid": "555959e5-545b-4437-a4b9-64ef877ec03a",
    "_uuid": "fce700a714d86847c3d03a34d4ff3d25b753f923"
   },
   "source": [
    "***PavedDrive***\n",
    "- Paved driveway."
   ]
  },
  {
   "cell_type": "code",
   "execution_count": null,
   "metadata": {
    "_cell_guid": "30b55bc0-d496-495a-8ebf-1469f2cab808",
    "_uuid": "b1f014569cd3993187fafe264b36d64a4f0e3036"
   },
   "outputs": [],
   "source": [
    "plt.subplots(figsize =(20, 5))\n",
    "\n",
    "plt.subplot(1, 3, 1)\n",
    "sns.boxplot(x=\"PavedDrive\", y=\"SalePrice\", data=train, palette = mycols)\n",
    "\n",
    "plt.subplot(1, 3, 2)\n",
    "sns.stripplot(x=\"PavedDrive\", y=\"SalePrice\", data=train, size = 5, jitter = True, palette = mycols);\n",
    "\n",
    "plt.subplot(1, 3, 3)\n",
    "sns.barplot(x=\"PavedDrive\", y=\"SalePrice\", data=train, palette = mycols);"
   ]
  },
  {
   "cell_type": "markdown",
   "metadata": {
    "_cell_guid": "8102f303-cc89-494d-9daf-281148fada57",
    "_uuid": "703e73aa4bd1b835f7b5ce6d47b439786da9845b"
   },
   "source": [
    "- Here we see the highest average price being demanded from houses with a paved driveway, and most houses in this srea seem to have one.\n",
    "- Since this is a categorical feature without order, I will create dummy variables."
   ]
  },
  {
   "cell_type": "code",
   "execution_count": null,
   "metadata": {
    "_cell_guid": "66ed90b9-e343-4089-8f47-19b14e07d6f7",
    "_uuid": "45ac30dd8922b63473c24eb8cf3a4bc4d6fc1fb7"
   },
   "outputs": [],
   "source": [
    "all_data = pd.get_dummies(all_data, columns = [\"PavedDrive\"], prefix=\"PavedDrive\")\n",
    "all_data.head(3)"
   ]
  },
  {
   "cell_type": "markdown",
   "metadata": {
    "_cell_guid": "0cefe599-72be-44aa-82c1-3059d7ba2045",
    "_uuid": "01d54f7499665224aef2888b98e294e775429400"
   },
   "source": [
    "<a id='utilities'></a>\n",
    "#### 4.2.8 - Utilities\n",
    "\n",
    "***Heating***\n",
    "- Type of heating."
   ]
  },
  {
   "cell_type": "code",
   "execution_count": null,
   "metadata": {
    "_cell_guid": "e0455c6d-28dd-4c6b-8a7e-e5051c1a2337",
    "_uuid": "00fc177e9af54f4a6bb8104069aacf78d655dd68"
   },
   "outputs": [],
   "source": [
    "plt.subplots(figsize =(20, 5))\n",
    "\n",
    "plt.subplot(1, 3, 1)\n",
    "sns.boxplot(x=\"Heating\", y=\"SalePrice\", data=train, palette = mycols)\n",
    "\n",
    "plt.subplot(1, 3, 2)\n",
    "sns.stripplot(x=\"Heating\", y=\"SalePrice\", data=train, size = 5, jitter = True, palette = mycols);\n",
    "\n",
    "plt.subplot(1, 3, 3)\n",
    "sns.barplot(x=\"Heating\", y=\"SalePrice\", data=train, palette = mycols);"
   ]
  },
  {
   "cell_type": "markdown",
   "metadata": {
    "_cell_guid": "6119cbe9-578a-4c4c-828b-8905c106da3d",
    "_uuid": "e9a05cd8fffa566075f6afec673e138e7bbfebd6"
   },
   "source": [
    "- We see the highest frequency and highest average SalePrice coming from \"GasA\" and a very low frequency from all other classes.\n",
    "- Hence, I will create a flag to indicate whether \"GasA\" is present or not."
   ]
  },
  {
   "cell_type": "code",
   "execution_count": null,
   "metadata": {
    "_cell_guid": "52d0c870-4516-45ae-8827-be92441489f3",
    "_uuid": "86a1ef5a87c7004098d67aed892c3a019c0bd2d1"
   },
   "outputs": [],
   "source": [
    "all_data['GasA_Flag'] = all_data['Heating'].map({\"GasA\":1, \"GasW\":0, \"Grav\":0, \"Wall\":0, \"OthW\":0, \"Floor\":0})\n",
    "all_data.drop('Heating', axis=1, inplace=True)\n",
    "all_data.head(3)"
   ]
  },
  {
   "cell_type": "markdown",
   "metadata": {
    "_cell_guid": "5900b0ab-9fb5-4b5a-ab3f-d08f3866bc4e",
    "_uuid": "82a652e04072dbb6f8abb35973dce0747f1369d2"
   },
   "source": [
    "***HeatingQC***\n",
    "- Heating quality and condition."
   ]
  },
  {
   "cell_type": "code",
   "execution_count": null,
   "metadata": {
    "_cell_guid": "ec2f1da4-8b1d-47f9-81ad-4a26c1f3672f",
    "_uuid": "7ac5b1b1580cd93e574ac0c0bbbb903fd908417d"
   },
   "outputs": [],
   "source": [
    "plt.subplots(figsize =(20, 5))\n",
    "\n",
    "plt.subplot(1, 3, 1)\n",
    "sns.boxplot(x=\"HeatingQC\", y=\"SalePrice\", data=train, order=[\"Po\", \"Fa\", \"TA\", \"Gd\", \"Ex\"], palette = mycols)\n",
    "\n",
    "plt.subplot(1, 3, 2)\n",
    "sns.stripplot(x=\"HeatingQC\", y=\"SalePrice\", data=train, size = 5, jitter = True, order=[\"Po\", \"Fa\", \"TA\", \"Gd\", \"Ex\"], palette = mycols);\n",
    "\n",
    "plt.subplot(1, 3, 3)\n",
    "sns.barplot(x=\"HeatingQC\", y=\"SalePrice\", data=train, order=[\"Po\", \"Fa\", \"TA\", \"Gd\", \"Ex\"], palette = mycols);"
   ]
  },
  {
   "cell_type": "markdown",
   "metadata": {
    "_cell_guid": "b498d26c-851d-49a5-a2f9-ca7b1a9d3a90",
    "_uuid": "2894ebd03334646fd2b56efdb75423840f1ee88c"
   },
   "source": [
    "- Here we see a positive correlation with SalePrice as the heating quality increases. With \"Ex\" bringing the highest average SalePrice.\n",
    "- We also see a high number of houses with this heating quality too, which means most houses had very good heating!\n",
    "- This is a categorical feature, however because it exhibits an order, I will replace the values by hand with numbers."
   ]
  },
  {
   "cell_type": "code",
   "execution_count": null,
   "metadata": {
    "_cell_guid": "2cd5dce7-cfa1-45a8-adea-ff59b9ed1fdf",
    "_uuid": "08af50d0fa36a87bcab7b9853d0228fb1e7b11f2"
   },
   "outputs": [],
   "source": [
    "all_data['HeatingQC'] = all_data['HeatingQC'].map({\"Po\":1, \"Fa\":2, \"TA\":3, \"Gd\":4, \"Ex\":5})\n",
    "all_data['HeatingQC'].unique()"
   ]
  },
  {
   "cell_type": "markdown",
   "metadata": {
    "_cell_guid": "d3ccacff-80db-4477-8755-54d4b8e57006",
    "_uuid": "9697c3e7a8007f2bc860bca6b04094fd3b98ec1c"
   },
   "source": [
    "***CentralAir***\n",
    "- Central air conditioning."
   ]
  },
  {
   "cell_type": "code",
   "execution_count": null,
   "metadata": {
    "_cell_guid": "f7f12f1d-7e7f-4877-afff-a0cd5e6f9485",
    "_uuid": "01b635cd4841a915089984f9abffb1ff8524bf4d"
   },
   "outputs": [],
   "source": [
    "plt.subplots(figsize =(20, 5))\n",
    "\n",
    "plt.subplot(1, 3, 1)\n",
    "sns.boxplot(x=\"CentralAir\", y=\"SalePrice\", data=train, palette = mycols)\n",
    "\n",
    "plt.subplot(1, 3, 2)\n",
    "sns.stripplot(x=\"CentralAir\", y=\"SalePrice\", data=train, size = 5, jitter = True, palette = mycols);\n",
    "\n",
    "plt.subplot(1, 3, 3)\n",
    "sns.barplot(x=\"CentralAir\", y=\"SalePrice\", data=train, palette = mycols);"
   ]
  },
  {
   "cell_type": "markdown",
   "metadata": {
    "_cell_guid": "6053ffd4-6cc5-424f-b3f2-5f7c38dd2efb",
    "_uuid": "2a65f325948ff39464d94775b75e12085934fd41"
   },
   "source": [
    "- We see that houses with central air conditioning are able to demand a higher average SalePrice than ones without.\n",
    "- For this feature, I will simply replace the categories with numbers 0 and 1."
   ]
  },
  {
   "cell_type": "code",
   "execution_count": null,
   "metadata": {
    "_cell_guid": "ce4f1169-be9f-4581-bfc8-756f8ca12144",
    "_uuid": "309d70fdfcdf7a2bfd4c26fa440ce414e82692fb"
   },
   "outputs": [],
   "source": [
    "all_data['CentralAir'] = all_data['CentralAir'].map({\"Y\":1, \"N\":0})\n",
    "all_data['CentralAir'].unique()"
   ]
  },
  {
   "cell_type": "markdown",
   "metadata": {
    "_cell_guid": "54792606-2ac3-4bfd-8790-e03064bd0a34",
    "_uuid": "fe7a808635d453fb1247c09550ec2978f0a72016"
   },
   "source": [
    "***Electrical***\n",
    "- Electrical system."
   ]
  },
  {
   "cell_type": "code",
   "execution_count": null,
   "metadata": {
    "_cell_guid": "9ccf73b0-9076-47a1-ac5c-da7cc3e90b05",
    "_uuid": "8b9e39045355fdb0aa06d0e52bbe46a80c646e84"
   },
   "outputs": [],
   "source": [
    "plt.subplots(figsize =(20, 5))\n",
    "\n",
    "plt.subplot(1, 3, 1)\n",
    "sns.boxplot(x=\"Electrical\", y=\"SalePrice\", data=train, palette = mycols)\n",
    "\n",
    "plt.subplot(1, 3, 2)\n",
    "sns.stripplot(x=\"Electrical\", y=\"SalePrice\", data=train, size = 5, jitter = True, palette = mycols);\n",
    "\n",
    "plt.subplot(1, 3, 3)\n",
    "sns.barplot(x=\"Electrical\", y=\"SalePrice\", data=train, palette = mycols);"
   ]
  },
  {
   "cell_type": "markdown",
   "metadata": {
    "_cell_guid": "ed5e6a71-2841-4cdf-aa57-4ccab3df9fff",
    "_uuid": "b4e26ab966872f388476c512c7472690731497df"
   },
   "source": [
    "- We see the highest average SalePrice coming from houses with \"SBrkr\" electrics, and these are also the most frequent electrical systems installed in the houses from this area. \n",
    "- We have 2 categories in particular that have very low frequencies, \"FuseP\" and \"Mix\".\n",
    "- I am going to cluster all the classes related to fuses, and the \"Mix\" class will probably be removed during feature reduction."
   ]
  },
  {
   "cell_type": "code",
   "execution_count": null,
   "metadata": {
    "_cell_guid": "e52226de-1341-4216-892a-7cd93ce6a252",
    "_uuid": "f12152bdb6b53addc5b1842f6452eb25a4d826d8"
   },
   "outputs": [],
   "source": [
    "all_data['Electrical'] = all_data['Electrical'].map({\"SBrkr\":\"SBrkr\", \"FuseF\":\"Fuse\", \"FuseA\":\"Fuse\", \"FuseP\":\"Fuse\", \"Mix\":\"Mix\"})\n",
    "\n",
    "all_data = pd.get_dummies(all_data, columns = [\"Electrical\"], prefix=\"Electrical\")\n",
    "all_data.head(3)"
   ]
  },
  {
   "cell_type": "markdown",
   "metadata": {
    "_cell_guid": "b84b8ca0-f650-4ea5-a239-c41cd22023bf",
    "_uuid": "5e2aadb7e1134672a71cfccde0d0fa46225c609e"
   },
   "source": [
    "<a id='miscellaneous'></a>\n",
    "#### 4.2.9 - Miscellaneous\n",
    "\n",
    "***MiscFeature***\n",
    "- Miscellaneous feature not covered in other categories."
   ]
  },
  {
   "cell_type": "code",
   "execution_count": null,
   "metadata": {
    "_cell_guid": "1f2f945d-8d64-4a98-9e17-eb70626cce36",
    "_uuid": "5de235e69e2b233047e16383c33dd8e268a37484"
   },
   "outputs": [],
   "source": [
    "plt.subplots(figsize =(20, 5))\n",
    "\n",
    "plt.subplot(1, 3, 1)\n",
    "sns.boxplot(x=\"MiscFeature\", y=\"SalePrice\", data=train, palette = mycols)\n",
    "\n",
    "plt.subplot(1, 3, 2)\n",
    "sns.stripplot(x=\"MiscFeature\", y=\"SalePrice\", data=train, size = 5, jitter = True, palette = mycols);\n",
    "\n",
    "plt.subplot(1, 3, 3)\n",
    "sns.barplot(x=\"MiscFeature\", y=\"SalePrice\", data=train, palette = mycols);"
   ]
  },
  {
   "cell_type": "markdown",
   "metadata": {
    "_cell_guid": "b567167a-fe9a-47dc-b43a-cb67e83d0f46",
    "_uuid": "120df5928479ad402db608ab12feadea33f23ca5"
   },
   "source": [
    "- We can see here that only a low number of houses in this area with any miscalleanous features. Hence, I do not believe that this feature holds much.\n",
    "- Therefore I will drop this feature along with MiscVal."
   ]
  },
  {
   "cell_type": "code",
   "execution_count": null,
   "metadata": {
    "_cell_guid": "6396c680-da2b-487e-9918-7de63dff4461",
    "_uuid": "5170d9aabdc53820d159aba30cd8de02c5f4194b",
    "collapsed": true
   },
   "outputs": [],
   "source": [
    "columns=['MiscFeature', 'MiscVal']\n",
    "all_data.drop(columns, axis=1, inplace=True)"
   ]
  },
  {
   "cell_type": "markdown",
   "metadata": {
    "_cell_guid": "788096fe-7ab3-4a75-9629-4aee096fc0b0",
    "_uuid": "7eb8d94f4fd38bffd3cb8dd7bffdc0cd18a9e28b"
   },
   "source": [
    "***MoSold***\n",
    "- Month sold (MM)."
   ]
  },
  {
   "cell_type": "code",
   "execution_count": null,
   "metadata": {
    "_cell_guid": "c7808050-a4da-4fb6-950f-bb42834132c8",
    "_uuid": "cb71536949fe7df83d46eaeb02c5246e58f92248"
   },
   "outputs": [],
   "source": [
    "plt.subplots(figsize =(20, 5))\n",
    "\n",
    "plt.subplot(1, 3, 1)\n",
    "sns.boxplot(x=\"MoSold\", y=\"SalePrice\", data=train, palette = mycols)\n",
    "\n",
    "plt.subplot(1, 3, 2)\n",
    "sns.stripplot(x=\"MoSold\", y=\"SalePrice\", data=train, size = 5, jitter = True, palette = mycols);\n",
    "\n",
    "plt.subplot(1, 3, 3)\n",
    "sns.barplot(x=\"MoSold\", y=\"SalePrice\", data=train, palette = mycols);"
   ]
  },
  {
   "cell_type": "markdown",
   "metadata": {
    "_cell_guid": "3c5cf04b-f84e-4ccd-8c80-b2fdff371566",
    "_uuid": "e50a23051f9e3b2da80504a93698a160cba2aba7"
   },
   "source": [
    "- Although this feature is a numeric feature, it should really be a category. \n",
    "- We can see that there is no real indicator as to any months that consistetly sold houses of a higher price, however there does seem to be a fairly even distribution of values between classes.\n",
    "- I will create dummy variables from each category."
   ]
  },
  {
   "cell_type": "code",
   "execution_count": null,
   "metadata": {
    "_cell_guid": "1d915d57-9c1d-440b-a3ac-e6986253171c",
    "_uuid": "cfbd4ecdf9b19c3fc8de5bd3bc6862b354522903"
   },
   "outputs": [],
   "source": [
    "all_data = pd.get_dummies(all_data, columns = [\"MoSold\"], prefix=\"MoSold\")\n",
    "all_data.head(3)"
   ]
  },
  {
   "cell_type": "markdown",
   "metadata": {
    "_cell_guid": "5dea58df-485c-4361-b7eb-e3dbf2831222",
    "_uuid": "9d2d8999788b414859a72beba5334b740f16a9f0"
   },
   "source": [
    "***YrSold***\n",
    "- Year sold (YYYY)."
   ]
  },
  {
   "cell_type": "code",
   "execution_count": null,
   "metadata": {
    "_cell_guid": "81268db3-991b-4bcd-b1d7-824d36cec4a9",
    "_uuid": "91e0525e2b4102684f18347c1d4d78df6aa954db"
   },
   "outputs": [],
   "source": [
    "plt.subplots(figsize =(20, 5))\n",
    "\n",
    "plt.subplot(1, 3, 1)\n",
    "sns.boxplot(x=\"YrSold\", y=\"SalePrice\", data=train, palette = mycols)\n",
    "\n",
    "plt.subplot(1, 3, 2)\n",
    "sns.stripplot(x=\"YrSold\", y=\"SalePrice\", data=train, size = 5, jitter = True, palette = mycols);\n",
    "\n",
    "plt.subplot(1, 3, 3)\n",
    "sns.barplot(x=\"YrSold\", y=\"SalePrice\", data=train, palette = mycols);"
   ]
  },
  {
   "cell_type": "markdown",
   "metadata": {
    "_cell_guid": "c9a99896-b0cb-47fd-863c-8b98c4906b4c",
    "_uuid": "058908611536dbcf41392e9e1913cf78bc887557"
   },
   "source": [
    "- Here we see just a 5 year time period of which the houses in this dataset were sold.\n",
    "- There is a n even distribution of values between each class, and each year has a very similar average SalePrice.\n",
    "- Even though this is numeric, it should be categorical. Therefore I will create dummy variables."
   ]
  },
  {
   "cell_type": "code",
   "execution_count": null,
   "metadata": {
    "_cell_guid": "12d3fd76-4e3e-49da-b10f-be2a0fac01d7",
    "_uuid": "770a7306447512b336ae8c85494b3b4e6fa4ff1e"
   },
   "outputs": [],
   "source": [
    "all_data = pd.get_dummies(all_data, columns = [\"YrSold\"], prefix=\"YrSold\")\n",
    "all_data.head(3)"
   ]
  },
  {
   "cell_type": "markdown",
   "metadata": {
    "_cell_guid": "e9142d88-97ba-4b90-b12d-ef28f2572ffc",
    "_uuid": "b11661a84ed9c0ae1b3f9da38ff6396d29f1e58b"
   },
   "source": [
    "***SaleType***\n",
    "- Type of sale."
   ]
  },
  {
   "cell_type": "code",
   "execution_count": null,
   "metadata": {
    "_cell_guid": "b306a39f-6b0a-4be7-8151-6634eed88485",
    "_uuid": "221d8dd370f0b5479938af316125f6308f543720"
   },
   "outputs": [],
   "source": [
    "plt.subplots(figsize =(20, 5))\n",
    "\n",
    "plt.subplot(1, 3, 1)\n",
    "sns.boxplot(x=\"SaleType\", y=\"SalePrice\", data=train, palette = mycols)\n",
    "\n",
    "plt.subplot(1, 3, 2)\n",
    "sns.stripplot(x=\"SaleType\", y=\"SalePrice\", data=train, size = 5, jitter = True, palette = mycols);\n",
    "\n",
    "plt.subplot(1, 3, 3)\n",
    "sns.barplot(x=\"SaleType\", y=\"SalePrice\", data=train, palette = mycols);"
   ]
  },
  {
   "cell_type": "markdown",
   "metadata": {
    "_cell_guid": "386c6129-ce6a-463b-95a4-c5b2d97de10e",
    "_uuid": "3512e881f0c6d066ec3dc70b2be14beacd63835e"
   },
   "source": [
    "- Most houses were sold under the \"WD\" category, being a conventional sale, however the highest SalePrice was seen from houses that were sold as houses that were brand new and just sold.\n",
    "- For this feature, I will cluster some categories together and then create dummy features."
   ]
  },
  {
   "cell_type": "code",
   "execution_count": null,
   "metadata": {
    "_cell_guid": "04f586a9-4d16-4abe-8401-84fa480c1928",
    "_uuid": "cf255d8ddda6e248721bdae46021f375a4dae88b"
   },
   "outputs": [],
   "source": [
    "all_data['SaleType'] = all_data['SaleType'].map({\"WD\":\"WD\", \"New\":\"New\", \"COD\":\"COD\", \"CWD\":\"CWD\", \"ConLD\":\"Oth\", \"ConLI\":\"Oth\", \n",
    "                                                 \"ConLw\":\"Oth\", \"Con\":\"Oth\", \"Oth\":\"Oth\"})\n",
    "\n",
    "all_data = pd.get_dummies(all_data, columns = [\"SaleType\"], prefix=\"SaleType\")\n",
    "all_data.head(3)"
   ]
  },
  {
   "cell_type": "markdown",
   "metadata": {
    "_cell_guid": "738507d9-2cd3-4785-8a77-76fab448e9ae",
    "_uuid": "1c2d9ddd4217c6a56da9bf2cc56d69c3f30fc39a"
   },
   "source": [
    "***SaleCondition***\n",
    "- Condition of sale."
   ]
  },
  {
   "cell_type": "code",
   "execution_count": null,
   "metadata": {
    "_cell_guid": "3a0cd289-b48a-4158-9a37-6bce4a6c61c9",
    "_uuid": "3e0f8643081473e45f3b06753ef28919a97fd822"
   },
   "outputs": [],
   "source": [
    "plt.subplots(figsize =(20, 5))\n",
    "\n",
    "plt.subplot(1, 3, 1)\n",
    "sns.boxplot(x=\"SaleCondition\", y=\"SalePrice\", data=train, palette = mycols)\n",
    "\n",
    "plt.subplot(1, 3, 2)\n",
    "sns.stripplot(x=\"SaleCondition\", y=\"SalePrice\", data=train, size = 5, jitter = True, palette = mycols);\n",
    "\n",
    "plt.subplot(1, 3, 3)\n",
    "sns.barplot(x=\"SaleCondition\", y=\"SalePrice\", data=train, palette = mycols);"
   ]
  },
  {
   "cell_type": "markdown",
   "metadata": {
    "_cell_guid": "79c2bc64-60c2-4715-bc1e-13029b67c678",
    "_uuid": "87804ac5bc508a2abb9a20c60f8de702a1bf895c"
   },
   "source": [
    "- Here we see the largest average SalePrice being associated with partial sales, and the most frequent sale seems to be the normal sales.\n",
    "- Since this is a categorical feature without order, I will create dummy features."
   ]
  },
  {
   "cell_type": "code",
   "execution_count": null,
   "metadata": {
    "_cell_guid": "dd037727-c974-4fc4-91c6-62cd86fc4c1c",
    "_uuid": "3f45873308db271ac4d5fdf38ba1f430d924db77"
   },
   "outputs": [],
   "source": [
    "all_data = pd.get_dummies(all_data, columns = [\"SaleCondition\"], prefix=\"SaleCondition\")\n",
    "all_data.head(3)"
   ]
  },
  {
   "cell_type": "markdown",
   "metadata": {
    "_cell_guid": "f8b9558d-e6f2-43a1-9615-d7368ddd80e7",
    "_uuid": "3b971b84f4c7305f473b5ffccb266c87e83c8d89"
   },
   "source": [
    "***"
   ]
  },
  {
   "cell_type": "markdown",
   "metadata": {
    "_cell_guid": "d29b7e8b-c635-4c87-840d-4d8341cdbb21",
    "_uuid": "d468cf2ef720772b075157880051e1e37d000956"
   },
   "source": [
    "<a id='target_variable'></a>\n",
    "### 4.3 - Target Variable\n",
    "\n",
    "- Unlike classification, **in regression we are predicting a continuous number**. Hence, the prediction could be any number along the real number line.\n",
    "- Therefore, it is always useful to check the distribution of the target variable, and indeed all numeric variables, when building a regression model. Machine Learning algorithms work well with features that are **normally distributed**, a distribution that is symmetric and has a characteristic bell shape. If features are not normally distributed, you can transform them using clever statistical methods.\n",
    "- First, let's check the target variable."
   ]
  },
  {
   "cell_type": "code",
   "execution_count": null,
   "metadata": {
    "_cell_guid": "df843dff-a5c7-419d-8795-b628cf4f69b8",
    "_uuid": "f5b4346a99dbdb433fc10f01cbd99c0981600068"
   },
   "outputs": [],
   "source": [
    "plt.subplots(figsize=(15, 10))\n",
    "g = sns.distplot(train['SalePrice'], fit=norm, label = \"Skewness : %.2f\"%(train['SalePrice'].skew()));\n",
    "g = g.legend(loc=\"best\")"
   ]
  },
  {
   "cell_type": "markdown",
   "metadata": {
    "_cell_guid": "39eeb6fd-1caa-4706-810a-0b8cfb67a1de",
    "_uuid": "d79191ff83d5641a58a8098eebfa437bb25a1c8f"
   },
   "source": [
    "The distribution of the target variable is **positively skewed**, meaning that the mode is always less than the mean and median. \n",
    "\n",
    "- In order to transform this variable into a distribution that looks closer to the black line shown above, we can use the **numpy function log1p** which applies log(1+x) to all elements within the feature."
   ]
  },
  {
   "cell_type": "code",
   "execution_count": null,
   "metadata": {
    "_cell_guid": "d6089fde-4965-45e3-9696-2fa42950785d",
    "_uuid": "069b081b9f90adbfe72d6c2766a26614968b87c2"
   },
   "outputs": [],
   "source": [
    "#We use the numpy fuction log1p which  applies log(1+x) to all elements of the column\n",
    "train[\"SalePrice\"] = np.log1p(train[\"SalePrice\"])\n",
    "y_train = train[\"SalePrice\"]\n",
    "\n",
    "#Check the new distribution \n",
    "plt.subplots(figsize=(15, 10))\n",
    "g = sns.distplot(train['SalePrice'], fit=norm, label = \"Skewness : %.2f\"%(train['SalePrice'].skew()));\n",
    "g = g.legend(loc=\"best\")"
   ]
  },
  {
   "cell_type": "markdown",
   "metadata": {
    "_cell_guid": "73343943-596f-48f1-b0df-86123a5f132c",
    "_uuid": "cad30841ccf6ab082fd44a1bf0b04a1403a50f21"
   },
   "source": [
    "We can see from the skewness and the plot that it follows much more closely to the normal distribution now. **This will help the algorithms work most reliably because we are now predicting a distribution that is well-known, i.e. the normal distribution**. If the distribution of your data approximates that of a theoretical distribution, we can perform calculations on the data that are based on assumptions of that well-known distribution. \n",
    "\n",
    "- ***Note:*** Now that we have transformed the target variable, this means that the prediction we produce will also be in the form of this transformation. Unless, we can revert this transformation..."
   ]
  },
  {
   "cell_type": "code",
   "execution_count": null,
   "metadata": {
    "_cell_guid": "eadbc46b-2170-459d-aab3-8a8e970944a0",
    "_uuid": "24feaba898fbe6222a4e29b7cbed6822bf7b4bf9"
   },
   "outputs": [],
   "source": [
    "Image(filename='../input/logexpo/loge.png')"
   ]
  },
  {
   "cell_type": "markdown",
   "metadata": {
    "_cell_guid": "8eb6e46a-5588-4f90-8ae1-6838a47e9e77",
    "_uuid": "f277d520d9279df201224c1d75d4b44cde617564"
   },
   "source": [
    "***"
   ]
  },
  {
   "cell_type": "markdown",
   "metadata": {
    "_cell_guid": "ac8103db-76ff-4633-a877-8ed651d1ff40",
    "_uuid": "620bf48102bbf6b6e60c1c8d77690aa3cfe16b48"
   },
   "source": [
    "<a id='treating_skewed_features'></a>\n",
    "### 4.4 - Treating skewed features\n",
    "\n",
    "As touched on earlier, skewed numeric variables are not desirable when using Machine Learning algorithms. The reason why we want to do this is move the models focus away from any extreme values, to create a generalised solution. We can tame these extreme values by transforming skewed features."
   ]
  },
  {
   "cell_type": "code",
   "execution_count": null,
   "metadata": {
    "_cell_guid": "6f6d7d29-dc91-454c-8121-94d208ef5b93",
    "_uuid": "5e95ff1c813fba9226e57666205b82ecb8ce39f7"
   },
   "outputs": [],
   "source": [
    "# First lets single out the numeric features\n",
    "numeric_feats = all_data.dtypes[all_data.dtypes != \"object\"].index\n",
    "\n",
    "# Check how skewed they are\n",
    "skewed_feats = all_data[numeric_feats].apply(lambda x: skew(x.dropna())).sort_values(ascending=False)\n",
    "\n",
    "plt.subplots(figsize =(65, 20))\n",
    "skewed_feats.plot(kind='bar');"
   ]
  },
  {
   "cell_type": "markdown",
   "metadata": {
    "_cell_guid": "63bea335-64ea-40d7-ab90-eaa7418f31a0",
    "_uuid": "aaed75847e6c9d4fd0f17759c29908edbacc6f5a"
   },
   "source": [
    "Clearly, we have a variety of positive and negative skewing features. Now I will transform the features with skew > 0.5 to follow more closely the normal distribution.\n",
    "\n",
    "- **Note**: I am using the Box-Cox transformation to transform non-normal variables into a normal shape. Normality is an important assumption for many statistical techniques; if your data isn't normal, applying a Box-Cox means that you are able to run a broader number of tests."
   ]
  },
  {
   "cell_type": "code",
   "execution_count": null,
   "metadata": {
    "_cell_guid": "f16ff324-c2bb-4dbf-ba55-43edf2e911be",
    "_uuid": "34d73717ef8f8efbfecf58f5a9b4a98d7472ee57"
   },
   "outputs": [],
   "source": [
    "skewness = skewed_feats[abs(skewed_feats) > 0.5]\n",
    "\n",
    "skewed_features = skewness.index\n",
    "lam = 0.15\n",
    "for feat in skewed_features:\n",
    "    all_data[feat] = boxcox1p(all_data[feat], lam)\n",
    "\n",
    "print(skewness.shape[0],  \"skewed numerical features have been Box-Cox transformed\")"
   ]
  },
  {
   "cell_type": "markdown",
   "metadata": {
    "_cell_guid": "411848dc-0721-488b-bbed-b8c2ad69a3dd",
    "_uuid": "a5527610a0989dc490c7677c66c0c5519ae8cd86"
   },
   "source": [
    "***"
   ]
  },
  {
   "cell_type": "markdown",
   "metadata": {
    "_cell_guid": "7e87f0c7-d932-4ecd-ae3f-c9fdc3952475",
    "_uuid": "cb12d23db4212f1e5c4075eb58d8c9afcada7b51"
   },
   "source": [
    "<a id='modeling'></a>\n",
    "# 5. \n",
    "## Modeling\n",
    "\n",
    "<a id='preparation_of_data'></a>\n",
    "### 5.1 - Preparation of data\n",
    "\n",
    "- Now that our dataset is ready for modeling, we must prepare it from training, testing and prediction. One of the vital steps here is to reduce the number of features. I will do this using XGBoost's inbuilt feature importance functionality."
   ]
  },
  {
   "cell_type": "code",
   "execution_count": null,
   "metadata": {
    "_cell_guid": "c7a361c1-ba67-49e3-b753-725347d101ba",
    "_uuid": "e89d1c701a417a09e16f88c33c5d275f6fc85b11"
   },
   "outputs": [],
   "source": [
    "# First, re-create the training and test datasets\n",
    "train = all_data[:ntrain]\n",
    "test = all_data[ntrain:]\n",
    "\n",
    "print(train.shape)\n",
    "print(test.shape)"
   ]
  },
  {
   "cell_type": "code",
   "execution_count": null,
   "metadata": {
    "_cell_guid": "89547774-1655-440d-991d-ba4beff3ee23",
    "_uuid": "f531f01731bb65c85ab77ef5a8f94a721c804f95"
   },
   "outputs": [],
   "source": [
    "import xgboost as xgb\n",
    "\n",
    "model = xgb.XGBRegressor()\n",
    "model.fit(train, y_train)\n",
    "\n",
    "# Sort feature importances from GBC model trained earlier\n",
    "indices = np.argsort(model.feature_importances_)[::-1]\n",
    "indices = indices[:75]\n",
    "\n",
    "# Visualise these with a barplot\n",
    "plt.subplots(figsize=(20, 15))\n",
    "g = sns.barplot(y=train.columns[indices], x = model.feature_importances_[indices], orient='h', palette = mycols)\n",
    "g.set_xlabel(\"Relative importance\",fontsize=12)\n",
    "g.set_ylabel(\"Features\",fontsize=12)\n",
    "g.tick_params(labelsize=9)\n",
    "g.set_title(\"XGB feature importance\");"
   ]
  },
  {
   "cell_type": "code",
   "execution_count": null,
   "metadata": {
    "_cell_guid": "b91d3ce6-552d-4aae-bf60-245f968f972e",
    "_uuid": "b183ccb41c0388d55d0b853cc1d1ed46518097d4"
   },
   "outputs": [],
   "source": [
    "xgb_train = train.copy()\n",
    "xgb_test = test.copy()\n",
    "\n",
    "import xgboost as xgb\n",
    "model = xgb.XGBRegressor()\n",
    "model.fit(xgb_train, y_train)\n",
    "\n",
    "# Allow the feature importances attribute to select the most important features\n",
    "xgb_feat_red = SelectFromModel(model, prefit = True)\n",
    "\n",
    "# Reduce estimation, validation and test datasets\n",
    "xgb_train = xgb_feat_red.transform(xgb_train)\n",
    "xgb_test = xgb_feat_red.transform(xgb_test)\n",
    "\n",
    "\n",
    "print(\"Results of 'feature_importances_':\")\n",
    "print('X_train: ', xgb_train.shape, '\\nX_test: ', xgb_test.shape)"
   ]
  },
  {
   "cell_type": "code",
   "execution_count": null,
   "metadata": {
    "_cell_guid": "bbd48f2b-bf67-47e4-8a38-48c23d3688ee",
    "_uuid": "14a61179424e950213f4d5d475d6a6831e342bdd"
   },
   "outputs": [],
   "source": [
    "# Next we want to sample our training data to test for performance of robustness ans accuracy, before applying to the test data\n",
    "X_train, X_test, Y_train, Y_test = model_selection.train_test_split(xgb_train, y_train, test_size=0.3, random_state=42)\n",
    "\n",
    "# X_train = predictor features for estimation dataset\n",
    "# X_test = predictor variables for validation dataset\n",
    "# Y_train = target variable for the estimation dataset\n",
    "# Y_test = target variable for the estimation dataset\n",
    "\n",
    "print('X_train: ', X_train.shape, '\\nX_test: ', X_test.shape, '\\nY_train: ', Y_train.shape, '\\nY_test: ', Y_test.shape)"
   ]
  },
  {
   "cell_type": "markdown",
   "metadata": {
    "_cell_guid": "76f9d649-c96e-48ae-bdd1-3300eae82727",
    "_uuid": "6f5a9b36ed2d5aa539640f7d4e4b9cf05980891b"
   },
   "source": [
    "***"
   ]
  },
  {
   "cell_type": "markdown",
   "metadata": {
    "_cell_guid": "52d2160f-c409-4ef9-bc1b-81bac61ca528",
    "_uuid": "8505ffb41ee328136ee61ea69d72c26b5f0d4ab4"
   },
   "source": [
    "<a id='training'></a>\n",
    "### 5.2 - Training\n",
    "\n",
    "We are finally ready to train our models. For this analysis I am using 8 different algorithms:\n",
    "- **Kernel Ridge Regression**\n",
    "- **Elastic Net**\n",
    "- **Lasso**\n",
    "- **Gradient Boosting**\n",
    "- **Bayesian Ridge**\n",
    "- **Lasso Lars IC**\n",
    "- **Random Forest Regressor**\n",
    "- **XGBoost**\n",
    "\n",
    "The method of measuring accuracy was chosen to be **Root Mean Squared Error**, as described within the competition."
   ]
  },
  {
   "cell_type": "code",
   "execution_count": null,
   "metadata": {
    "_cell_guid": "f06def91-4f4a-499c-9e4e-59edb14901fe",
    "_uuid": "413d60cd80f41ee1453ecde29ac7f43793241f1b"
   },
   "outputs": [],
   "source": [
    "import xgboost as xgb\n",
    "#Machine Learning Algorithm (MLA) Selection and Initialization\n",
    "models = [KernelRidge(), ElasticNet(), Lasso(), GradientBoostingRegressor(), BayesianRidge(), LassoLarsIC(), RandomForestRegressor(), xgb.XGBRegressor()]\n",
    "\n",
    "# First I will use ShuffleSplit as a way of randomising the cross validation samples.\n",
    "shuff = ShuffleSplit(n_splits=5, test_size=0.2, random_state=42)\n",
    "\n",
    "#create table to compare MLA metrics\n",
    "columns = ['Name', 'Parameters', 'Train Accuracy Mean', 'Test Accuracy']\n",
    "before_model_compare = pd.DataFrame(columns = columns)\n",
    "\n",
    "#index through models and save performance to table\n",
    "row_index = 0\n",
    "for alg in models:\n",
    "\n",
    "    #set name and parameters\n",
    "    model_name = alg.__class__.__name__\n",
    "    before_model_compare.loc[row_index, 'Name'] = model_name\n",
    "    before_model_compare.loc[row_index, 'Parameters'] = str(alg.get_params())\n",
    "    \n",
    "    alg.fit(X_train, Y_train)\n",
    "    \n",
    "    #score model with cross validation: http://scikit-learn.org/stable/modules/generated/sklearn.model_selection.cross_validate.html#sklearn.model_selection.cross_validate\n",
    "    training_results = np.sqrt((-cross_val_score(alg, X_train, Y_train, cv = shuff, scoring= 'neg_mean_squared_error')).mean())\n",
    "    test_results = np.sqrt(((Y_test-alg.predict(X_test))**2).mean())\n",
    "    \n",
    "    before_model_compare.loc[row_index, 'Train Accuracy Mean'] = (training_results)*100\n",
    "    before_model_compare.loc[row_index, 'Test Accuracy'] = (test_results)*100\n",
    "    \n",
    "    row_index+=1\n",
    "    print(row_index, alg.__class__.__name__, 'trained...')\n",
    "\n",
    "decimals = 3\n",
    "before_model_compare['Train Accuracy Mean'] = before_model_compare['Train Accuracy Mean'].apply(lambda x: round(x, decimals))\n",
    "before_model_compare['Test Accuracy'] = before_model_compare['Test Accuracy'].apply(lambda x: round(x, decimals))\n",
    "before_model_compare"
   ]
  },
  {
   "cell_type": "markdown",
   "metadata": {
    "_cell_guid": "5b968c6c-ecc4-44cf-b8ab-57428eba13fc",
    "_uuid": "dc59c17eda8ea78a8de0bba21693086d357e2a2a"
   },
   "source": [
    "- We can see that each of the models performs with varying ability, with **Bayesian Ridge** having the best accuracy score on the training dataset and accuracy on the validation dataset."
   ]
  },
  {
   "cell_type": "markdown",
   "metadata": {
    "_cell_guid": "de3bca75-3f4c-4e25-9867-66bd49f8ca49",
    "_uuid": "5233e96eaf5fc259fb4f537e7fb701d129c5cdb4"
   },
   "source": [
    "***"
   ]
  },
  {
   "cell_type": "markdown",
   "metadata": {
    "_cell_guid": "e0b7ccf2-3658-4f39-867f-3fd33dfa0514",
    "_uuid": "d3d0e631e5948520e4ceea0e5043fbe7ddfc2c35"
   },
   "source": [
    "<a id='optimisation'></a>\n",
    "### 5.3 - Optimisation\n",
    "\n",
    "- As you can see from the above table, the accuracy for these models is not quite as good as it could be.\n",
    "- This is because we use the default configuration of parameters for each of the algorithms.\n",
    "\n",
    "So now, we will use **GridSearchCV** to find the best combinations of parameters to produce the highest scoring models.\n",
    "\n",
    "**Note**: GridSearchCV uses a grid of parameters to optimise the algorithms. This grid can get extremely large, and therefore requires a lot of computation power to complete. I have included a set of answers in the grids to cut down computation time, but these were not my final ones. I'll leave this up to you to find the best values. But in reality, you will have to fill these grids with appropriate values with the goal of trying to find the best combination."
   ]
  },
  {
   "cell_type": "code",
   "execution_count": null,
   "metadata": {
    "_cell_guid": "9a6b0a9a-aeed-40cb-9206-7cf9156bb8a6",
    "_uuid": "fa5a1001ff202dd0d5d28877dddd6ce851ce235d"
   },
   "outputs": [],
   "source": [
    "models = [KernelRidge(), ElasticNet(), Lasso(), GradientBoostingRegressor(), BayesianRidge(), LassoLarsIC(), RandomForestRegressor(), xgb.XGBRegressor()]\n",
    "\n",
    "KR_param_grid = {'alpha': [0.1], 'coef0': [100], 'degree': [1], 'gamma': [None], 'kernel': ['polynomial']}\n",
    "EN_param_grid = {'alpha': [0.001], 'copy_X': [True], 'l1_ratio': [0.6], 'fit_intercept': [True], 'normalize': [False], \n",
    "                         'precompute': [False], 'max_iter': [300], 'tol': [0.001], 'selection': ['random'], 'random_state': [None]}\n",
    "LASS_param_grid = {'alpha': [0.0005], 'copy_X': [True], 'fit_intercept': [True], 'normalize': [False], 'precompute': [False], \n",
    "                    'max_iter': [300], 'tol': [0.01], 'selection': ['random'], 'random_state': [None]}\n",
    "GB_param_grid = {'loss': ['huber'], 'learning_rate': [0.1], 'n_estimators': [300], 'max_depth': [3], \n",
    "                                        'min_samples_split': [0.0025], 'min_samples_leaf': [5]}\n",
    "BR_param_grid = {'n_iter': [200], 'tol': [0.00001], 'alpha_1': [0.00000001], 'alpha_2': [0.000005], 'lambda_1': [0.000005], \n",
    "                 'lambda_2': [0.00000001], 'copy_X': [True]}\n",
    "LL_param_grid = {'criterion': ['aic'], 'normalize': [True], 'max_iter': [100], 'copy_X': [True], 'precompute': ['auto'], 'eps': [0.000001]}\n",
    "RFR_param_grid = {'n_estimators': [50], 'max_features': ['auto'], 'max_depth': [None], 'min_samples_split': [5], 'min_samples_leaf': [2]}\n",
    "XGB_param_grid = {'max_depth': [3], 'learning_rate': [0.1], 'n_estimators': [300], 'booster': ['gbtree'], 'gamma': [0], 'reg_alpha': [0.1],\n",
    "                  'reg_lambda': [0.7], 'max_delta_step': [0], 'min_child_weight': [1], 'colsample_bytree': [0.5], 'colsample_bylevel': [0.2],\n",
    "                  'scale_pos_weight': [1]}\n",
    "params_grid = [KR_param_grid, EN_param_grid, LASS_param_grid, GB_param_grid, BR_param_grid, LL_param_grid, RFR_param_grid, XGB_param_grid]\n",
    "\n",
    "after_model_compare = pd.DataFrame(columns = columns)\n",
    "\n",
    "row_index = 0\n",
    "for alg in models:\n",
    "    \n",
    "    gs_alg = GridSearchCV(alg, param_grid = params_grid[0], cv = shuff, scoring = 'neg_mean_squared_error', n_jobs=-1)\n",
    "    params_grid.pop(0)\n",
    "\n",
    "    #set name and parameters\n",
    "    model_name = alg.__class__.__name__\n",
    "    after_model_compare.loc[row_index, 'Name'] = model_name\n",
    "    \n",
    "    gs_alg.fit(X_train, Y_train)\n",
    "    gs_best = gs_alg.best_estimator_\n",
    "    after_model_compare.loc[row_index, 'Parameters'] = str(gs_alg.best_params_)\n",
    "    \n",
    "    #score model with cross validation: http://scikit-learn.org/stable/modules/generated/sklearn.model_selection.cross_validate.html#sklearn.model_selection.cross_validate\n",
    "    after_training_results = np.sqrt(-gs_alg.best_score_)\n",
    "    after_test_results = np.sqrt(((Y_test-gs_alg.predict(X_test))**2).mean())\n",
    "    \n",
    "    after_model_compare.loc[row_index, 'Train Accuracy Mean'] = (after_training_results)*100\n",
    "    after_model_compare.loc[row_index, 'Test Accuracy'] = (after_test_results)*100\n",
    "    \n",
    "    row_index+=1\n",
    "    print(row_index, alg.__class__.__name__, 'trained...')\n",
    "\n",
    "decimals = 3\n",
    "after_model_compare['Train Accuracy Mean'] = after_model_compare['Train Accuracy Mean'].apply(lambda x: round(x, decimals))\n",
    "after_model_compare['Test Accuracy'] = after_model_compare['Test Accuracy'].apply(lambda x: round(x, decimals))\n",
    "after_model_compare"
   ]
  },
  {
   "cell_type": "markdown",
   "metadata": {
    "_cell_guid": "30584443-52f1-40b9-9900-1e249ba87c20",
    "_uuid": "a408375d36493f1ecca5b3bfa33114e80e2d8cec"
   },
   "source": [
    "Overall we can see that the training and test scores for each of the models have decreased, which is what we want.\n",
    "- Now we have a set of highly tuned algorithms to use for **Stacking**."
   ]
  },
  {
   "cell_type": "markdown",
   "metadata": {
    "_cell_guid": "be78a481-7158-4997-aad9-42f600225bb9",
    "_uuid": "b6555fdc369881765562562429cfc0d4c40d39cf"
   },
   "source": [
    "***"
   ]
  },
  {
   "cell_type": "markdown",
   "metadata": {
    "_cell_guid": "bcf8b892-ff40-412d-b9da-a6d66118a7b8",
    "_uuid": "fe27c88a08dc6fc41535e863c7ad7e1c44a6b1eb"
   },
   "source": [
    "<a id='stacking'></a>\n",
    "### 5.4 - Stacking\n",
    "\n",
    "Now that we have a set of highly tuned algorithms, a rather famous and successful technique to further improve the accuracy of these models, is to use **Stacking**. Let me explain what this means."
   ]
  },
  {
   "cell_type": "code",
   "execution_count": null,
   "metadata": {
    "_cell_guid": "2a165607-9274-411d-80ce-5edc58b03eb5",
    "_uuid": "0f35d343b74ccf485f24dc9c87cf7f8b4b437f36"
   },
   "outputs": [],
   "source": [
    "Image(filename='../input/stacking-exp/stacking.gif.png', width = 800)"
   ]
  },
  {
   "cell_type": "markdown",
   "metadata": {
    "_cell_guid": "21019d9f-b55a-4eb6-b137-e76b0586fee9",
    "_uuid": "652b6d1d0cdcd0925dc3ca5121937aef0057ee88"
   },
   "source": [
    "If you hadn't figured it out already, our brick-laying friend enticed us in earlier on in order to explain **Stacking**.\n",
    "\n",
    "Brick-laying is an art form. Where I live in London today, remain buildings that have stood for hundreds and even thousands of years. Without having a skilled brick-layer or to stack them properly, nobody would ever want to visit or live in this city., This animation shows the art of stacking bricks on top of one another to form something much greater, a wall, a house or even a building. **This is exactly what we are going to do by stacking several algorithms together, to form a much stronger one.**  \n",
    "\n",
    "The steps for this technique are shown below:\n",
    "1. **Create a set of algorithms ready for stacking** - We've done this...\n",
    "2. **Split the original training data into a training and validation sample** - We've done this too...\n",
    "3. **Train the algorithms on the training sample** - Also done this...\n",
    "4. **For each algorithm, apply the trained models to the validation dataset and create a set of predictions**, 1 column for each model, as a new table. Call this the *new training dataset*.\n",
    "5. **Also apply the trained algorithm to the test dataset and create a final set of predictions**, 1 column for each model, as a new table. Call this *new test dataset*.\n",
    "6. **For the new training dataset, we have labeled outputs, in the form of Y_test**. Now we must train another model on these two feature sets: *new training dataset* and Y_test.\n",
    "7. **Use this newly trained model to predict values** for *new test dataset*.\n",
    "\n",
    "Now I understand that this sounds very confusing, and probably doesn't make much sense. Let me explain this further with some visualisations."
   ]
  },
  {
   "cell_type": "code",
   "execution_count": null,
   "metadata": {
    "_cell_guid": "dd6877de-3f10-4703-b45d-3758da000ee3",
    "_uuid": "20f513f04d3b160a33d7e36aa00b666bf2a2056e"
   },
   "outputs": [],
   "source": [
    "Image(filename='../input/stacking-exp/stackingexp.png')"
   ]
  },
  {
   "cell_type": "markdown",
   "metadata": {
    "_cell_guid": "3e0a9a1c-92f3-4ca3-8a97-f386c743e865",
    "_uuid": "8540d502af6bc1d8253589484c3a318a87f397f8"
   },
   "source": [
    "- Before I start with the stacking, I need to decide which algorithms to use as my base estimators, and which to use as the meta-model.\n",
    "\n",
    "- Since **Lasso** performed the best after optimisation, I chose this to be the **meta-model**. All other models will be used as base estimators.\n",
    "\n",
    "- So now, I will cycle through each optimised estimator, train them on the training dataset, apply to them the validation and test datasets, then finally outputting the predictions for validation and test into two new datasets: **stacked_validation_train** and **stacked_test_train**."
   ]
  },
  {
   "cell_type": "code",
   "execution_count": null,
   "metadata": {
    "_cell_guid": "023c86f8-11f7-4e35-b5c5-ffe23a4e718e",
    "_uuid": "7a93576c725ffc4ec250f5ea4a37d5c10a36f403"
   },
   "outputs": [],
   "source": [
    "models = [KernelRidge(), ElasticNet(), Lasso(), GradientBoostingRegressor(), BayesianRidge(), LassoLarsIC(), RandomForestRegressor(), xgb.XGBRegressor()]\n",
    "names = ['KernelRidge', 'ElasticNet', 'Lasso', 'Gradient Boosting', 'Bayesian Ridge', 'Lasso Lars IC', 'Random Forest', 'XGBoost']\n",
    "params_grid = [KR_param_grid, EN_param_grid, LASS_param_grid, GB_param_grid, BR_param_grid, LL_param_grid, RFR_param_grid, XGB_param_grid]\n",
    "stacked_validation_train = pd.DataFrame()\n",
    "stacked_test_train = pd.DataFrame()\n",
    "\n",
    "row_index=0\n",
    "\n",
    "for alg in models:\n",
    "    \n",
    "    gs_alg = GridSearchCV(alg, param_grid = params_grid[0], cv = shuff, scoring = 'neg_mean_squared_error', n_jobs=-1)\n",
    "    params_grid.pop(0)\n",
    "    \n",
    "    gs_alg.fit(X_train, Y_train)\n",
    "    gs_best = gs_alg.best_estimator_\n",
    "    stacked_validation_train.insert(loc = row_index, column = names[0], value = gs_best.predict(X_test))\n",
    "    print(row_index+1, alg.__class__.__name__, 'predictions added to stacking validation dataset...')\n",
    "    \n",
    "    stacked_test_train.insert(loc = row_index, column = names[0], value = gs_best.predict(xgb_test))\n",
    "    print(row_index+1, alg.__class__.__name__, 'predictions added to stacking test dataset...')\n",
    "    print(\"-\"*50)\n",
    "    names.pop(0)\n",
    "    \n",
    "    row_index+=1\n",
    "    \n",
    "print('Done')"
   ]
  },
  {
   "cell_type": "markdown",
   "metadata": {
    "_cell_guid": "361abc03-5db0-40f2-b1b7-368520ccdc60",
    "_uuid": "36b21d674a02eb9f3679f7dd956c8cc8ba36ea5b"
   },
   "source": [
    "- Let's take a quick look at what these new datasets look like:"
   ]
  },
  {
   "cell_type": "code",
   "execution_count": null,
   "metadata": {
    "_cell_guid": "0cc617cc-5f6f-4987-865b-30bdbbaa5428",
    "_uuid": "d23c743e525c0602b3c9184e3ef996e75f4eae43"
   },
   "outputs": [],
   "source": [
    "stacked_validation_train.head()"
   ]
  },
  {
   "cell_type": "markdown",
   "metadata": {
    "_cell_guid": "28bdfb89-774a-4b88-9195-081900a907cf",
    "_uuid": "c90da674cb6f8b70db07c201456b2c8a72d73717"
   },
   "source": [
    "- The new training dataset is 438 rows of predictions from the 8 algorithms we decided to use."
   ]
  },
  {
   "cell_type": "code",
   "execution_count": null,
   "metadata": {
    "_cell_guid": "bfd4cca5-6f63-423a-8d5b-ecc675c827da",
    "_uuid": "9316e775ab7ab9d248d641f9392c1e9da2caf959"
   },
   "outputs": [],
   "source": [
    "stacked_test_train.head()"
   ]
  },
  {
   "cell_type": "markdown",
   "metadata": {
    "_cell_guid": "4a093e47-fc34-4dae-8817-2736e9201472",
    "_uuid": "3f26c46d19c0f3a5ace41424bd1c6aa5bd0d6257"
   },
   "source": [
    "- The new test dataset is 1459 rows of predictions from the 8 algorithms we decided to use.\n",
    "- I will use these two datasets to train and produce predictions for the meta-model, Lasso."
   ]
  },
  {
   "cell_type": "code",
   "execution_count": null,
   "metadata": {
    "_cell_guid": "a83da925-5728-4f30-b36e-57fd0c9a66d5",
    "_uuid": "f4830270c8ab7b0c34f245bbd49cc406bc6770d5"
   },
   "outputs": [],
   "source": [
    "# First drop the Lasso results from the table, as we will be using Lasso as the meta-model\n",
    "drop = ['Lasso']\n",
    "stacked_validation_train.drop(drop, axis=1, inplace=True)\n",
    "stacked_test_train.drop(drop, axis=1, inplace=True)\n",
    "\n",
    "# Now fit the meta model and generate predictions\n",
    "meta_model = make_pipeline(RobustScaler(), Lasso(alpha=0.00001, copy_X = True, fit_intercept = True,\n",
    "                                              normalize = False, precompute = False, max_iter = 10000,\n",
    "                                              tol = 0.0001, selection = 'random', random_state = None))\n",
    "meta_model.fit(stacked_validation_train, Y_test)\n",
    "\n",
    "meta_model_pred = np.expm1(meta_model.predict(stacked_test_train))\n",
    "print(\"Meta-model trained and applied!...\")"
   ]
  },
  {
   "cell_type": "markdown",
   "metadata": {
    "_cell_guid": "51746316-3cb9-4b7e-b55e-cd5d384c4435",
    "_uuid": "222405ac40ba2db577caae15eb2c169122b5c963"
   },
   "source": [
    "***"
   ]
  },
  {
   "cell_type": "markdown",
   "metadata": {
    "_cell_guid": "41605cea-75bc-4e19-981e-b09cd81aebd2",
    "_uuid": "ad157b089382a8689cf070ead37bebf67d2be0d6"
   },
   "source": [
    "<a id='ensemble'></a>\n",
    "### 5.5 - Ensemble\n",
    "\n",
    "- However, another famous and successful technique for Machine Learning are **Ensemble methods**.\n",
    "    - These are effective when using many different models of varying degrees of accuracy. \n",
    "    - They work on the idea that many weak learners, can produce a strong learner.\n",
    "- Therefore, using the meta-model that I will create, I will also combine this with the results of the individual optimised models to create an ensemble.\n",
    "- In order to create this ensemble, I must collect the final predictions of each of the optimised models. I will do this now."
   ]
  },
  {
   "cell_type": "code",
   "execution_count": null,
   "metadata": {
    "_cell_guid": "ba90cb16-c442-4e74-9647-688b9103ac1d",
    "_uuid": "cb28d78b15723ad96116209c320cd1792e498655"
   },
   "outputs": [],
   "source": [
    "models = [KernelRidge(), ElasticNet(), Lasso(), GradientBoostingRegressor(), BayesianRidge(), LassoLarsIC(), RandomForestRegressor(), xgb.XGBRegressor()]\n",
    "names = ['KernelRidge', 'ElasticNet', 'Lasso', 'Gradient Boosting', 'Bayesian Ridge', 'Lasso Lars IC', 'Random Forest', 'XGBoost']\n",
    "params_grid = [KR_param_grid, EN_param_grid, LASS_param_grid, GB_param_grid, BR_param_grid, LL_param_grid, RFR_param_grid, XGB_param_grid]\n",
    "final_predictions = pd.DataFrame()\n",
    "\n",
    "row_index=0\n",
    "\n",
    "for alg in models:\n",
    "    \n",
    "    gs_alg = GridSearchCV(alg, param_grid = params_grid[0], cv = shuff, scoring = 'neg_mean_squared_error', n_jobs=-1)\n",
    "    params_grid.pop(0)\n",
    "    \n",
    "    gs_alg.fit(stacked_validation_train, Y_test)\n",
    "    gs_best = gs_alg.best_estimator_\n",
    "    final_predictions.insert(loc = row_index, column = names[0], value = np.expm1(gs_best.predict(stacked_test_train)))\n",
    "    print(row_index+1, alg.__class__.__name__, 'final results predicted added to table...')\n",
    "    names.pop(0)\n",
    "    \n",
    "    row_index+=1\n",
    "\n",
    "print(\"-\"*50)\n",
    "print(\"Done\")\n",
    "    \n",
    "final_predictions.head()"
   ]
  },
  {
   "cell_type": "markdown",
   "metadata": {
    "_cell_guid": "50322298-1835-4d18-8e6b-44357a189366",
    "_uuid": "484c1eb67169d8c989016661e919455c185277e7"
   },
   "source": [
    "- As you can see, each of the models produces results that vary quite widely. This is the beauty of using a combination of many different models.\n",
    "- Some models will be much better at catching certain signals in the data, whereas others may perform better in other situations. \n",
    "- By creating an ensemble of all of these results, it helps to create a more generalised model that is resistant to noise.\n",
    "- Now, I will finish by creating an ensemble of the meta-model and optimised models, for my final submission."
   ]
  },
  {
   "cell_type": "markdown",
   "metadata": {
    "_cell_guid": "489645cd-db29-4b28-83dc-d386fda427aa",
    "_uuid": "7c0b7bb4d34cf39ee5fa468b0e539295c9a535dd"
   },
   "source": [
    "***"
   ]
  },
  {
   "cell_type": "markdown",
   "metadata": {
    "_cell_guid": "8ada214a-232f-4063-bfed-613c89936f33",
    "_uuid": "f9bbf1deefbc7d3c6548fe2a5f56e02bf0205221"
   },
   "source": [
    "<a id='submission'></a>\n",
    "### 5.6 - Submission"
   ]
  },
  {
   "cell_type": "code",
   "execution_count": null,
   "metadata": {
    "_cell_guid": "18e75b1c-4e26-4f0d-a393-97e1fd4a7786",
    "_uuid": "e1f77cf2a818f9feb3a4e6a3aae441b56d615ae7"
   },
   "outputs": [],
   "source": [
    "ensemble = meta_model_pred*(1/10) + final_predictions['XGBoost']*(1.5/10) + final_predictions['Gradient Boosting']*(2/10) + final_predictions['Bayesian Ridge']*(1/10) + final_predictions['Lasso']*(1/10) + final_predictions['KernelRidge']*(1/10) + final_predictions['Lasso Lars IC']*(1/10) + final_predictions['Random Forest']*(1.5/10)\n",
    "\n",
    "submission = pd.DataFrame()\n",
    "submission['Id'] = test_ID\n",
    "submission['SalePrice'] = ensemble\n",
    "#submission.to_csv('final_submission.csv',index=False)\n",
    "print(\"Submission file, created!\")"
   ]
  },
  {
   "cell_type": "markdown",
   "metadata": {
    "_cell_guid": "628cb63c-0c6e-4b55-a8ec-f3ced85fe79f",
    "_uuid": "1023828a1ee15e1e01a48be7f4a88d4db51ce14a"
   },
   "source": [
    "***"
   ]
  },
  {
   "cell_type": "markdown",
   "metadata": {
    "_cell_guid": "adf0b044-a22b-4148-b0f3-43b54fe3e60c",
    "_uuid": "b491a12762b0c9a681d6fe75173851fff3ed45a1"
   },
   "source": [
    "<a id='conclusion'></a>\n",
    "# 6. \n",
    "## Conclusion\n",
    "\n",
    "- Throughout this notebook, I wanted to focus mainly on **feature engineering** and the **stacking** technique. I think stacking is a very useful tool to have within your Data Science toolkit, and I hope this has helped you to understand how it works.\n",
    "- This is just my solution, but I'd be interested to hear your comments and thoughts on my work and also how you'd do it differently."
   ]
  },
  {
   "cell_type": "markdown",
   "metadata": {
    "_cell_guid": "6a3abeab-ac70-4b19-8d4e-5ed6cdeb1067",
    "_uuid": "dbb4fbdd24277ad97362d5131c2f3a4953fe9baf"
   },
   "source": [
    "***"
   ]
  },
  {
   "cell_type": "markdown",
   "metadata": {
    "_cell_guid": "75bd2576-3a62-48e1-bf44-059535b4e441",
    "_uuid": "2ca5e6c19489c91029142e3488c50718c1918620"
   },
   "source": [
    "## Acknowledgements\n",
    "\n",
    "- The Ames Housing dataset, by Dean De Cock: https://ww2.amstat.org/publications/jse/v19n3/decock.pdf\n",
    "- Curve fitting with linear and nonlinear regression: http://blog.minitab.com/blog/adventures-in-statistics-2/curve-fitting-with-linear-and-nonlinear-regression\n",
    "- Stacking: https://www.coursera.org/learn/competitive-data-science/lecture/Qdtt6/stacking\n",
    "\n",
    "**Useful Kernels**:\n",
    "- Juliencs: https://www.kaggle.com/juliencs/a-study-on-regression-applied-to-the-ames-dataset\n",
    "- Serigne: https://www.kaggle.com/serigne/stacked-regressions-top-4-on-leaderboard\n",
    "- Alexandru Papiu: https://www.kaggle.com/apapiu/regularized-linear-models"
   ]
  }
 ],
 "metadata": {
  "kernelspec": {
   "display_name": "Python 3",
   "language": "python",
   "name": "python3"
  },
  "language_info": {
   "codemirror_mode": {
    "name": "ipython",
    "version": 3
   },
   "file_extension": ".py",
   "mimetype": "text/x-python",
   "name": "python",
   "nbconvert_exporter": "python",
   "pygments_lexer": "ipython3",
   "version": "3.7.0"
  }
 },
 "nbformat": 4,
 "nbformat_minor": 1
}
